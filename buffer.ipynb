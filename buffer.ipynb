{
 "cells": [
  {
   "cell_type": "code",
   "execution_count": null,
   "metadata": {},
   "outputs": [],
   "source": [
    "import numpy as np\n",
    "import plotly.graph_objects as go\n",
    "from plotly.subplots import make_subplots\n",
    "from math import pi\n",
    "\n",
    "np.random.seed(42)\n",
    "\n",
    "def get_periodic(A, f1, p, fs, t1, t2):\n",
    "    Ts = 1 / fs\n",
    "    time = np.arange(t1, t2, Ts)  # seconds\n",
    "    periodic = [A * np.cos(2 * pi * f1 * t - p) for t in time]\n",
    "    return periodic, time\n",
    "\n",
    "fs = 4000  # Hz\n",
    "Ts = 1/fs\n",
    "A = 1\n",
    "f1 = 50\n",
    "p = pi/4\n",
    "signal, time = get_periodic(A,f1,p,fs,t1=-20e-3,t2=40e-3)\n",
    "signal1, time1 = get_periodic(A,f1,p,fs,t1=0,t2=20e-3)\n",
    "signal2, time2 = get_periodic(A,f1,p,fs,t1=0+Ts,t2=20e-3+Ts)\n",
    "\n",
    "fig = go.Figure()\n",
    "fig.add_trace(go.Scatter(x=time, y=signal, name=\"noisy\", mode=\"lines+markers\", line=dict(color=\"black\")))\n",
    "fig.add_trace(go.Scatter(x=time, y=periodic, name=\"pure\", mode=\"lines+markers\", line=dict(color=\"red\")))\n",
    "# fig.add_trace(go.Scatter(x=time, y=periodic[0], name=\"DC\"))\n",
    "# fig.add_trace(go.Scatter(x=time, y=np.sum(periodic[2:], axis=0), name=\"harmonics\"))\n",
    "# fig.add_trace(go.Scatter(x=time, y=aperiodic, name=\"aperiodic\"))\n",
    "# fig.add_trace(go.Scatter(x=time, y=noise, name=\"noise\"))\n",
    "fig.update_layout(title=\"Digital Signal\", xaxis_title=\"Time, s\", yaxis_title=\"Magnitude, linear\")\n",
    "fig.show()\n",
    "\n",
    "def get_spectrum(signal, fs):\n",
    "    N = len(signal)\n",
    "    res = np.fft.fft(signal,N) / N # complex\n",
    "    freqs = np.fft.fftfreq(len(signal),1/fs)\n",
    "    res = np.fft.fftshift(res)#[N//2:] * 2\n",
    "    freqs = np.fft.fftshift(freqs)#[N//2:]\n",
    "    mags = np.abs(res)\n",
    "    return mags, freqs\n",
    "\n",
    "mags1, freqs1 = get_spectrum(signal1, fs)\n",
    "mags2, freqs2 = get_spectrum(signal2, fs)\n",
    "\n"
   ]
  }
 ],
 "metadata": {
  "kernelspec": {
   "display_name": "base",
   "language": "python",
   "name": "python3"
  },
  "language_info": {
   "name": "python",
   "version": "3.12.4"
  }
 },
 "nbformat": 4,
 "nbformat_minor": 2
}
