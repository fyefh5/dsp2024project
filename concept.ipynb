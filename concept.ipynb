{
 "cells": [
  {
   "cell_type": "code",
   "execution_count": 77,
   "metadata": {},
   "outputs": [
    {
     "name": "stdout",
     "output_type": "stream",
     "text": [
      "Maximum noise amplitude = 0.1\n"
     ]
    },
    {
     "data": {
      "application/vnd.plotly.v1+json": {
       "config": {
        "plotlyServerURL": "https://plot.ly"
       },
       "data": [
        {
         "line": {
          "color": "black"
         },
         "mode": "lines+markers",
         "name": "noisy",
         "type": "scatter",
         "x": [
          0,
          0.00025,
          0.0005,
          0.00075,
          0.001,
          0.00125,
          0.0015,
          0.00175,
          0.002,
          0.0022500000000000003,
          0.0025,
          0.00275,
          0.003,
          0.0032500000000000003,
          0.0035,
          0.00375,
          0.004,
          0.00425,
          0.0045000000000000005,
          0.00475,
          0.005,
          0.00525,
          0.0055,
          0.00575,
          0.006,
          0.00625,
          0.006500000000000001,
          0.00675,
          0.007,
          0.00725,
          0.0075,
          0.00775,
          0.008,
          0.00825,
          0.0085,
          0.00875,
          0.009000000000000001,
          0.00925,
          0.0095,
          0.00975,
          0.01,
          0.01025,
          0.0105,
          0.010750000000000001,
          0.011,
          0.01125,
          0.0115,
          0.01175,
          0.012,
          0.01225,
          0.0125,
          0.012750000000000001,
          0.013000000000000001,
          0.01325,
          0.0135,
          0.01375,
          0.014,
          0.01425,
          0.0145,
          0.014750000000000001,
          0.015,
          0.01525,
          0.0155,
          0.01575,
          0.016,
          0.01625,
          0.0165,
          0.01675,
          0.017,
          0.01725,
          0.0175,
          0.017750000000000002,
          0.018000000000000002,
          0.01825,
          0.0185,
          0.01875,
          0.019,
          0.01925,
          0.0195,
          0.01975
         ],
         "y": [
          -0.07559235303104424,
          -0.0009646179777459685,
          -0.09312229577695633,
          0.08186408041575641,
          -0.04824400367999662,
          0.032504456870796394,
          -0.037657784782117815,
          0.004013604235562157,
          0.009342055868655927,
          -0.0630291088948946,
          0.09391692555291173,
          0.055026564672222916,
          0.08789978831283782,
          0.07896547008552976,
          0.01957999576221703,
          0.08437484700462336,
          -0.0823014995896161,
          -0.06080342751617096,
          -0.0909545422178924,
          -0.03493393384734714,
          -0.0222645420621036,
          -0.045730193645220824,
          0.06574750183038588,
          -0.028649334661282153,
          -0.04381309806252385,
          0.008539216631649693,
          -0.07181515500504748,
          0.06043939615080793,
          -0.08508987126404584,
          0.09737738732010345,
          0.05444895385933149,
          -0.06025686369316552,
          -0.09889557657527953,
          0.06309228569096684,
          0.04137146876952341,
          0.04580143360819747,
          0.054254069337189154,
          -0.08519106965318193,
          -0.028306854291145475,
          -0.07682618809497406,
          0.07262068517511872,
          0.024659625365511584,
          -0.033820395029470166,
          -0.08728832994279528,
          -0.03780353565686756,
          -0.03496333559465059,
          0.0459212356676128,
          0.02751149427104263,
          0.0774425485152653,
          -0.005557014967610144,
          -0.07608115081233967,
          0.04264895744459901,
          0.0521570097233795,
          0.01225543951389925,
          0.0541934359909122,
          -0.0012408807271218486,
          0.004546565876398817,
          -0.014491796328290077,
          -0.09491617465118096,
          -0.07842171460133912,
          -0.09371416286265316,
          0.02728208225275608,
          -0.03712880378473467,
          0.0017141382329405597,
          0.0815132947852186,
          -0.05014155417022501,
          -0.01792341539287405,
          0.051110227708609735,
          -0.05424036690167551,
          -0.0846040180342414,
          -0.042049709417246395,
          -0.06775574254919911,
          0.08593953046851463,
          0.06162407591288341,
          0.026680751302084693,
          0.07429211803754354,
          0.06073441537982291,
          -0.06268598822279284,
          0.07851179969799557,
          0.007868448383130139
         ]
        },
        {
         "line": {
          "color": "red"
         },
         "mode": "lines+markers",
         "name": "pure",
         "type": "scatter",
         "x": [
          0,
          0.00025,
          0.0005,
          0.00075,
          0.001,
          0.00125,
          0.0015,
          0.00175,
          0.002,
          0.0022500000000000003,
          0.0025,
          0.00275,
          0.003,
          0.0032500000000000003,
          0.0035,
          0.00375,
          0.004,
          0.00425,
          0.0045000000000000005,
          0.00475,
          0.005,
          0.00525,
          0.0055,
          0.00575,
          0.006,
          0.00625,
          0.006500000000000001,
          0.00675,
          0.007,
          0.00725,
          0.0075,
          0.00775,
          0.008,
          0.00825,
          0.0085,
          0.00875,
          0.009000000000000001,
          0.00925,
          0.0095,
          0.00975,
          0.01,
          0.01025,
          0.0105,
          0.010750000000000001,
          0.011,
          0.01125,
          0.0115,
          0.01175,
          0.012,
          0.01225,
          0.0125,
          0.012750000000000001,
          0.013000000000000001,
          0.01325,
          0.0135,
          0.01375,
          0.014,
          0.01425,
          0.0145,
          0.014750000000000001,
          0.015,
          0.01525,
          0.0155,
          0.01575,
          0.016,
          0.01625,
          0.0165,
          0.01675,
          0.017,
          0.01725,
          0.0175,
          0.017750000000000002,
          0.018000000000000002,
          0.01825,
          0.0185,
          0.01875,
          0.019,
          0.01925,
          0.0195,
          0.01975
         ],
         "y": [
          -0.9524338381967461,
          -0.9255877507981478,
          -0.8930351071267186,
          -0.8549766050555455,
          -0.8116468879056334,
          -0.7633130977918046,
          -0.710273228602727,
          -0.6528542887694977,
          -0.5914102851499233,
          -0.5263200404585234,
          -0.457984857698523,
          -0.3868260459953918,
          -0.3132823230859856,
          -0.23780711047781022,
          -0.1608657379546508,
          -0.08293257466371462,
          -0.00448810447209707,
          0.07398403637603736,
          0.1520000410377247,
          0.2290789149012715,
          0.3047454410779829,
          0.37853311027230624,
          0.449986996966768,
          0.518666564189069,
          0.5841483795690101,
          0.6460287259398603,
          0.7039260903889404,
          0.7574835164115938,
          0.8063708046667403,
          0.8502865487656136,
          0.8889599935423773,
          0.9221527043497574,
          0.9496600370879298,
          0.9713123999034474,
          0.9869762987794113,
          0.9965551605704761,
          0.9999899284084053,
          0.9972594258073018,
          0.9883804872236855,
          0.9734078542664714,
          0.9524338381967462,
          0.9255877507981477,
          0.8930351071267185,
          0.8549766050555454,
          0.8116468879056334,
          0.7633130977918047,
          0.7102732286027271,
          0.6528542887694978,
          0.5914102851499231,
          0.5263200404585231,
          0.4579848576985227,
          0.3868260459953915,
          0.31328232308598486,
          0.23780711047781014,
          0.16086573795465092,
          0.0829325746637143,
          0.004488104472097193,
          -0.07398403637603747,
          -0.15200004103772435,
          -0.2290789149012718,
          -0.3047454410779828,
          -0.37853311027230635,
          -0.4499869969667679,
          -0.5186665641890693,
          -0.5841483795690098,
          -0.6460287259398603,
          -0.7039260903889406,
          -0.757483516411594,
          -0.8063708046667408,
          -0.8502865487656138,
          -0.8889599935423778,
          -0.9221527043497575,
          -0.94966003708793,
          -0.9713123999034472,
          -0.9869762987794112,
          -0.9965551605704761,
          -0.9999899284084053,
          -0.9972594258073018,
          -0.9883804872236855,
          -0.9734078542664714
         ]
        }
       ],
       "layout": {
        "template": {
         "data": {
          "bar": [
           {
            "error_x": {
             "color": "#2a3f5f"
            },
            "error_y": {
             "color": "#2a3f5f"
            },
            "marker": {
             "line": {
              "color": "#E5ECF6",
              "width": 0.5
             },
             "pattern": {
              "fillmode": "overlay",
              "size": 10,
              "solidity": 0.2
             }
            },
            "type": "bar"
           }
          ],
          "barpolar": [
           {
            "marker": {
             "line": {
              "color": "#E5ECF6",
              "width": 0.5
             },
             "pattern": {
              "fillmode": "overlay",
              "size": 10,
              "solidity": 0.2
             }
            },
            "type": "barpolar"
           }
          ],
          "carpet": [
           {
            "aaxis": {
             "endlinecolor": "#2a3f5f",
             "gridcolor": "white",
             "linecolor": "white",
             "minorgridcolor": "white",
             "startlinecolor": "#2a3f5f"
            },
            "baxis": {
             "endlinecolor": "#2a3f5f",
             "gridcolor": "white",
             "linecolor": "white",
             "minorgridcolor": "white",
             "startlinecolor": "#2a3f5f"
            },
            "type": "carpet"
           }
          ],
          "choropleth": [
           {
            "colorbar": {
             "outlinewidth": 0,
             "ticks": ""
            },
            "type": "choropleth"
           }
          ],
          "contour": [
           {
            "colorbar": {
             "outlinewidth": 0,
             "ticks": ""
            },
            "colorscale": [
             [
              0,
              "#0d0887"
             ],
             [
              0.1111111111111111,
              "#46039f"
             ],
             [
              0.2222222222222222,
              "#7201a8"
             ],
             [
              0.3333333333333333,
              "#9c179e"
             ],
             [
              0.4444444444444444,
              "#bd3786"
             ],
             [
              0.5555555555555556,
              "#d8576b"
             ],
             [
              0.6666666666666666,
              "#ed7953"
             ],
             [
              0.7777777777777778,
              "#fb9f3a"
             ],
             [
              0.8888888888888888,
              "#fdca26"
             ],
             [
              1,
              "#f0f921"
             ]
            ],
            "type": "contour"
           }
          ],
          "contourcarpet": [
           {
            "colorbar": {
             "outlinewidth": 0,
             "ticks": ""
            },
            "type": "contourcarpet"
           }
          ],
          "heatmap": [
           {
            "colorbar": {
             "outlinewidth": 0,
             "ticks": ""
            },
            "colorscale": [
             [
              0,
              "#0d0887"
             ],
             [
              0.1111111111111111,
              "#46039f"
             ],
             [
              0.2222222222222222,
              "#7201a8"
             ],
             [
              0.3333333333333333,
              "#9c179e"
             ],
             [
              0.4444444444444444,
              "#bd3786"
             ],
             [
              0.5555555555555556,
              "#d8576b"
             ],
             [
              0.6666666666666666,
              "#ed7953"
             ],
             [
              0.7777777777777778,
              "#fb9f3a"
             ],
             [
              0.8888888888888888,
              "#fdca26"
             ],
             [
              1,
              "#f0f921"
             ]
            ],
            "type": "heatmap"
           }
          ],
          "heatmapgl": [
           {
            "colorbar": {
             "outlinewidth": 0,
             "ticks": ""
            },
            "colorscale": [
             [
              0,
              "#0d0887"
             ],
             [
              0.1111111111111111,
              "#46039f"
             ],
             [
              0.2222222222222222,
              "#7201a8"
             ],
             [
              0.3333333333333333,
              "#9c179e"
             ],
             [
              0.4444444444444444,
              "#bd3786"
             ],
             [
              0.5555555555555556,
              "#d8576b"
             ],
             [
              0.6666666666666666,
              "#ed7953"
             ],
             [
              0.7777777777777778,
              "#fb9f3a"
             ],
             [
              0.8888888888888888,
              "#fdca26"
             ],
             [
              1,
              "#f0f921"
             ]
            ],
            "type": "heatmapgl"
           }
          ],
          "histogram": [
           {
            "marker": {
             "pattern": {
              "fillmode": "overlay",
              "size": 10,
              "solidity": 0.2
             }
            },
            "type": "histogram"
           }
          ],
          "histogram2d": [
           {
            "colorbar": {
             "outlinewidth": 0,
             "ticks": ""
            },
            "colorscale": [
             [
              0,
              "#0d0887"
             ],
             [
              0.1111111111111111,
              "#46039f"
             ],
             [
              0.2222222222222222,
              "#7201a8"
             ],
             [
              0.3333333333333333,
              "#9c179e"
             ],
             [
              0.4444444444444444,
              "#bd3786"
             ],
             [
              0.5555555555555556,
              "#d8576b"
             ],
             [
              0.6666666666666666,
              "#ed7953"
             ],
             [
              0.7777777777777778,
              "#fb9f3a"
             ],
             [
              0.8888888888888888,
              "#fdca26"
             ],
             [
              1,
              "#f0f921"
             ]
            ],
            "type": "histogram2d"
           }
          ],
          "histogram2dcontour": [
           {
            "colorbar": {
             "outlinewidth": 0,
             "ticks": ""
            },
            "colorscale": [
             [
              0,
              "#0d0887"
             ],
             [
              0.1111111111111111,
              "#46039f"
             ],
             [
              0.2222222222222222,
              "#7201a8"
             ],
             [
              0.3333333333333333,
              "#9c179e"
             ],
             [
              0.4444444444444444,
              "#bd3786"
             ],
             [
              0.5555555555555556,
              "#d8576b"
             ],
             [
              0.6666666666666666,
              "#ed7953"
             ],
             [
              0.7777777777777778,
              "#fb9f3a"
             ],
             [
              0.8888888888888888,
              "#fdca26"
             ],
             [
              1,
              "#f0f921"
             ]
            ],
            "type": "histogram2dcontour"
           }
          ],
          "mesh3d": [
           {
            "colorbar": {
             "outlinewidth": 0,
             "ticks": ""
            },
            "type": "mesh3d"
           }
          ],
          "parcoords": [
           {
            "line": {
             "colorbar": {
              "outlinewidth": 0,
              "ticks": ""
             }
            },
            "type": "parcoords"
           }
          ],
          "pie": [
           {
            "automargin": true,
            "type": "pie"
           }
          ],
          "scatter": [
           {
            "fillpattern": {
             "fillmode": "overlay",
             "size": 10,
             "solidity": 0.2
            },
            "type": "scatter"
           }
          ],
          "scatter3d": [
           {
            "line": {
             "colorbar": {
              "outlinewidth": 0,
              "ticks": ""
             }
            },
            "marker": {
             "colorbar": {
              "outlinewidth": 0,
              "ticks": ""
             }
            },
            "type": "scatter3d"
           }
          ],
          "scattercarpet": [
           {
            "marker": {
             "colorbar": {
              "outlinewidth": 0,
              "ticks": ""
             }
            },
            "type": "scattercarpet"
           }
          ],
          "scattergeo": [
           {
            "marker": {
             "colorbar": {
              "outlinewidth": 0,
              "ticks": ""
             }
            },
            "type": "scattergeo"
           }
          ],
          "scattergl": [
           {
            "marker": {
             "colorbar": {
              "outlinewidth": 0,
              "ticks": ""
             }
            },
            "type": "scattergl"
           }
          ],
          "scattermapbox": [
           {
            "marker": {
             "colorbar": {
              "outlinewidth": 0,
              "ticks": ""
             }
            },
            "type": "scattermapbox"
           }
          ],
          "scatterpolar": [
           {
            "marker": {
             "colorbar": {
              "outlinewidth": 0,
              "ticks": ""
             }
            },
            "type": "scatterpolar"
           }
          ],
          "scatterpolargl": [
           {
            "marker": {
             "colorbar": {
              "outlinewidth": 0,
              "ticks": ""
             }
            },
            "type": "scatterpolargl"
           }
          ],
          "scatterternary": [
           {
            "marker": {
             "colorbar": {
              "outlinewidth": 0,
              "ticks": ""
             }
            },
            "type": "scatterternary"
           }
          ],
          "surface": [
           {
            "colorbar": {
             "outlinewidth": 0,
             "ticks": ""
            },
            "colorscale": [
             [
              0,
              "#0d0887"
             ],
             [
              0.1111111111111111,
              "#46039f"
             ],
             [
              0.2222222222222222,
              "#7201a8"
             ],
             [
              0.3333333333333333,
              "#9c179e"
             ],
             [
              0.4444444444444444,
              "#bd3786"
             ],
             [
              0.5555555555555556,
              "#d8576b"
             ],
             [
              0.6666666666666666,
              "#ed7953"
             ],
             [
              0.7777777777777778,
              "#fb9f3a"
             ],
             [
              0.8888888888888888,
              "#fdca26"
             ],
             [
              1,
              "#f0f921"
             ]
            ],
            "type": "surface"
           }
          ],
          "table": [
           {
            "cells": {
             "fill": {
              "color": "#EBF0F8"
             },
             "line": {
              "color": "white"
             }
            },
            "header": {
             "fill": {
              "color": "#C8D4E3"
             },
             "line": {
              "color": "white"
             }
            },
            "type": "table"
           }
          ]
         },
         "layout": {
          "annotationdefaults": {
           "arrowcolor": "#2a3f5f",
           "arrowhead": 0,
           "arrowwidth": 1
          },
          "autotypenumbers": "strict",
          "coloraxis": {
           "colorbar": {
            "outlinewidth": 0,
            "ticks": ""
           }
          },
          "colorscale": {
           "diverging": [
            [
             0,
             "#8e0152"
            ],
            [
             0.1,
             "#c51b7d"
            ],
            [
             0.2,
             "#de77ae"
            ],
            [
             0.3,
             "#f1b6da"
            ],
            [
             0.4,
             "#fde0ef"
            ],
            [
             0.5,
             "#f7f7f7"
            ],
            [
             0.6,
             "#e6f5d0"
            ],
            [
             0.7,
             "#b8e186"
            ],
            [
             0.8,
             "#7fbc41"
            ],
            [
             0.9,
             "#4d9221"
            ],
            [
             1,
             "#276419"
            ]
           ],
           "sequential": [
            [
             0,
             "#0d0887"
            ],
            [
             0.1111111111111111,
             "#46039f"
            ],
            [
             0.2222222222222222,
             "#7201a8"
            ],
            [
             0.3333333333333333,
             "#9c179e"
            ],
            [
             0.4444444444444444,
             "#bd3786"
            ],
            [
             0.5555555555555556,
             "#d8576b"
            ],
            [
             0.6666666666666666,
             "#ed7953"
            ],
            [
             0.7777777777777778,
             "#fb9f3a"
            ],
            [
             0.8888888888888888,
             "#fdca26"
            ],
            [
             1,
             "#f0f921"
            ]
           ],
           "sequentialminus": [
            [
             0,
             "#0d0887"
            ],
            [
             0.1111111111111111,
             "#46039f"
            ],
            [
             0.2222222222222222,
             "#7201a8"
            ],
            [
             0.3333333333333333,
             "#9c179e"
            ],
            [
             0.4444444444444444,
             "#bd3786"
            ],
            [
             0.5555555555555556,
             "#d8576b"
            ],
            [
             0.6666666666666666,
             "#ed7953"
            ],
            [
             0.7777777777777778,
             "#fb9f3a"
            ],
            [
             0.8888888888888888,
             "#fdca26"
            ],
            [
             1,
             "#f0f921"
            ]
           ]
          },
          "colorway": [
           "#636efa",
           "#EF553B",
           "#00cc96",
           "#ab63fa",
           "#FFA15A",
           "#19d3f3",
           "#FF6692",
           "#B6E880",
           "#FF97FF",
           "#FECB52"
          ],
          "font": {
           "color": "#2a3f5f"
          },
          "geo": {
           "bgcolor": "white",
           "lakecolor": "white",
           "landcolor": "#E5ECF6",
           "showlakes": true,
           "showland": true,
           "subunitcolor": "white"
          },
          "hoverlabel": {
           "align": "left"
          },
          "hovermode": "closest",
          "mapbox": {
           "style": "light"
          },
          "paper_bgcolor": "white",
          "plot_bgcolor": "#E5ECF6",
          "polar": {
           "angularaxis": {
            "gridcolor": "white",
            "linecolor": "white",
            "ticks": ""
           },
           "bgcolor": "#E5ECF6",
           "radialaxis": {
            "gridcolor": "white",
            "linecolor": "white",
            "ticks": ""
           }
          },
          "scene": {
           "xaxis": {
            "backgroundcolor": "#E5ECF6",
            "gridcolor": "white",
            "gridwidth": 2,
            "linecolor": "white",
            "showbackground": true,
            "ticks": "",
            "zerolinecolor": "white"
           },
           "yaxis": {
            "backgroundcolor": "#E5ECF6",
            "gridcolor": "white",
            "gridwidth": 2,
            "linecolor": "white",
            "showbackground": true,
            "ticks": "",
            "zerolinecolor": "white"
           },
           "zaxis": {
            "backgroundcolor": "#E5ECF6",
            "gridcolor": "white",
            "gridwidth": 2,
            "linecolor": "white",
            "showbackground": true,
            "ticks": "",
            "zerolinecolor": "white"
           }
          },
          "shapedefaults": {
           "line": {
            "color": "#2a3f5f"
           }
          },
          "ternary": {
           "aaxis": {
            "gridcolor": "white",
            "linecolor": "white",
            "ticks": ""
           },
           "baxis": {
            "gridcolor": "white",
            "linecolor": "white",
            "ticks": ""
           },
           "bgcolor": "#E5ECF6",
           "caxis": {
            "gridcolor": "white",
            "linecolor": "white",
            "ticks": ""
           }
          },
          "title": {
           "x": 0.05
          },
          "xaxis": {
           "automargin": true,
           "gridcolor": "white",
           "linecolor": "white",
           "ticks": "",
           "title": {
            "standoff": 15
           },
           "zerolinecolor": "white",
           "zerolinewidth": 2
          },
          "yaxis": {
           "automargin": true,
           "gridcolor": "white",
           "linecolor": "white",
           "ticks": "",
           "title": {
            "standoff": 15
           },
           "zerolinecolor": "white",
           "zerolinewidth": 2
          }
         }
        },
        "title": {
         "text": "Digital Signal"
        },
        "xaxis": {
         "title": {
          "text": "Time, s"
         }
        },
        "yaxis": {
         "title": {
          "text": "Magnitude, linear"
         }
        }
       }
      }
     },
     "metadata": {},
     "output_type": "display_data"
    },
    {
     "data": {
      "application/vnd.plotly.v1+json": {
       "config": {
        "plotlyServerURL": "https://plot.ly"
       },
       "data": [
        {
         "line": {
          "color": "black",
          "width": 2
         },
         "mode": "lines",
         "showlegend": false,
         "type": "scatter",
         "x": [
          -2000,
          -2000
         ],
         "y": [
          0,
          0.002479293695728987
         ]
        },
        {
         "line": {
          "color": "black",
          "width": 2
         },
         "mode": "lines",
         "showlegend": false,
         "type": "scatter",
         "x": [
          -1950,
          -1950
         ],
         "y": [
          0,
          0.005161790324159342
         ]
        },
        {
         "line": {
          "color": "black",
          "width": 2
         },
         "mode": "lines",
         "showlegend": false,
         "type": "scatter",
         "x": [
          -1900,
          -1900
         ],
         "y": [
          0,
          0.0037889719795615264
         ]
        },
        {
         "line": {
          "color": "black",
          "width": 2
         },
         "mode": "lines",
         "showlegend": false,
         "type": "scatter",
         "x": [
          -1850,
          -1850
         ],
         "y": [
          0,
          0.009144358732005307
         ]
        },
        {
         "line": {
          "color": "black",
          "width": 2
         },
         "mode": "lines",
         "showlegend": false,
         "type": "scatter",
         "x": [
          -1800,
          -1800
         ],
         "y": [
          0,
          0.003461627632160495
         ]
        },
        {
         "line": {
          "color": "black",
          "width": 2
         },
         "mode": "lines",
         "showlegend": false,
         "type": "scatter",
         "x": [
          -1750,
          -1750
         ],
         "y": [
          0,
          0.006878602495699538
         ]
        },
        {
         "line": {
          "color": "black",
          "width": 2
         },
         "mode": "lines",
         "showlegend": false,
         "type": "scatter",
         "x": [
          -1700,
          -1700
         ],
         "y": [
          0,
          0.010294153670727219
         ]
        },
        {
         "line": {
          "color": "black",
          "width": 2
         },
         "mode": "lines",
         "showlegend": false,
         "type": "scatter",
         "x": [
          -1650,
          -1650
         ],
         "y": [
          0,
          0.010437742125745095
         ]
        },
        {
         "line": {
          "color": "black",
          "width": 2
         },
         "mode": "lines",
         "showlegend": false,
         "type": "scatter",
         "x": [
          -1600,
          -1600
         ],
         "y": [
          0,
          0.0030378412604241036
         ]
        },
        {
         "line": {
          "color": "black",
          "width": 2
         },
         "mode": "lines",
         "showlegend": false,
         "type": "scatter",
         "x": [
          -1550,
          -1550
         ],
         "y": [
          0,
          0.005448354893749069
         ]
        },
        {
         "line": {
          "color": "black",
          "width": 2
         },
         "mode": "lines",
         "showlegend": false,
         "type": "scatter",
         "x": [
          -1500,
          -1500
         ],
         "y": [
          0,
          0.010046101334261037
         ]
        },
        {
         "line": {
          "color": "black",
          "width": 2
         },
         "mode": "lines",
         "showlegend": false,
         "type": "scatter",
         "x": [
          -1450,
          -1450
         ],
         "y": [
          0,
          0.0013738351878198308
         ]
        },
        {
         "line": {
          "color": "black",
          "width": 2
         },
         "mode": "lines",
         "showlegend": false,
         "type": "scatter",
         "x": [
          -1400,
          -1400
         ],
         "y": [
          0,
          0.008039793336917083
         ]
        },
        {
         "line": {
          "color": "black",
          "width": 2
         },
         "mode": "lines",
         "showlegend": false,
         "type": "scatter",
         "x": [
          -1350,
          -1350
         ],
         "y": [
          0,
          0.006549743676796167
         ]
        },
        {
         "line": {
          "color": "black",
          "width": 2
         },
         "mode": "lines",
         "showlegend": false,
         "type": "scatter",
         "x": [
          -1300,
          -1300
         ],
         "y": [
          0,
          0.006823451228217638
         ]
        },
        {
         "line": {
          "color": "black",
          "width": 2
         },
         "mode": "lines",
         "showlegend": false,
         "type": "scatter",
         "x": [
          -1250,
          -1250
         ],
         "y": [
          0,
          0.0015844967109049286
         ]
        },
        {
         "line": {
          "color": "black",
          "width": 2
         },
         "mode": "lines",
         "showlegend": false,
         "type": "scatter",
         "x": [
          -1200,
          -1200
         ],
         "y": [
          0,
          0.0009979743191317742
         ]
        },
        {
         "line": {
          "color": "black",
          "width": 2
         },
         "mode": "lines",
         "showlegend": false,
         "type": "scatter",
         "x": [
          -1150,
          -1150
         ],
         "y": [
          0,
          0.005807124325029289
         ]
        },
        {
         "line": {
          "color": "black",
          "width": 2
         },
         "mode": "lines",
         "showlegend": false,
         "type": "scatter",
         "x": [
          -1100,
          -1100
         ],
         "y": [
          0,
          0.0037936397712781678
         ]
        },
        {
         "line": {
          "color": "black",
          "width": 2
         },
         "mode": "lines",
         "showlegend": false,
         "type": "scatter",
         "x": [
          -1050,
          -1050
         ],
         "y": [
          0,
          0.01039006647282201
         ]
        },
        {
         "line": {
          "color": "black",
          "width": 2
         },
         "mode": "lines",
         "showlegend": false,
         "type": "scatter",
         "x": [
          -1000,
          -1000
         ],
         "y": [
          0,
          0.0027669159710360576
         ]
        },
        {
         "line": {
          "color": "black",
          "width": 2
         },
         "mode": "lines",
         "showlegend": false,
         "type": "scatter",
         "x": [
          -950,
          -950
         ],
         "y": [
          0,
          0.000628336886344464
         ]
        },
        {
         "line": {
          "color": "black",
          "width": 2
         },
         "mode": "lines",
         "showlegend": false,
         "type": "scatter",
         "x": [
          -900,
          -900
         ],
         "y": [
          0,
          0.003040680419083317
         ]
        },
        {
         "line": {
          "color": "black",
          "width": 2
         },
         "mode": "lines",
         "showlegend": false,
         "type": "scatter",
         "x": [
          -850,
          -850
         ],
         "y": [
          0,
          0.0033896663643265827
         ]
        },
        {
         "line": {
          "color": "black",
          "width": 2
         },
         "mode": "lines",
         "showlegend": false,
         "type": "scatter",
         "x": [
          -800,
          -800
         ],
         "y": [
          0,
          0.0008303134020029812
         ]
        },
        {
         "line": {
          "color": "black",
          "width": 2
         },
         "mode": "lines",
         "showlegend": false,
         "type": "scatter",
         "x": [
          -750,
          -750
         ],
         "y": [
          0,
          0.009460243833805322
         ]
        },
        {
         "line": {
          "color": "black",
          "width": 2
         },
         "mode": "lines",
         "showlegend": false,
         "type": "scatter",
         "x": [
          -700,
          -700
         ],
         "y": [
          0,
          0.006053762209223025
         ]
        },
        {
         "line": {
          "color": "black",
          "width": 2
         },
         "mode": "lines",
         "showlegend": false,
         "type": "scatter",
         "x": [
          -650,
          -650
         ],
         "y": [
          0,
          0.009761805411271503
         ]
        },
        {
         "line": {
          "color": "black",
          "width": 2
         },
         "mode": "lines",
         "showlegend": false,
         "type": "scatter",
         "x": [
          -600,
          -600
         ],
         "y": [
          0,
          0.008828443638026592
         ]
        },
        {
         "line": {
          "color": "black",
          "width": 2
         },
         "mode": "lines",
         "showlegend": false,
         "type": "scatter",
         "x": [
          -550,
          -550
         ],
         "y": [
          0,
          0.005810009351605679
         ]
        },
        {
         "line": {
          "color": "black",
          "width": 2
         },
         "mode": "lines",
         "showlegend": false,
         "type": "scatter",
         "x": [
          -500,
          -500
         ],
         "y": [
          0,
          0.003250693016701431
         ]
        },
        {
         "line": {
          "color": "black",
          "width": 2
         },
         "mode": "lines",
         "showlegend": false,
         "type": "scatter",
         "x": [
          -450,
          -450
         ],
         "y": [
          0,
          0.009792215851404159
         ]
        },
        {
         "line": {
          "color": "black",
          "width": 2
         },
         "mode": "lines",
         "showlegend": false,
         "type": "scatter",
         "x": [
          -400,
          -400
         ],
         "y": [
          0,
          0.011029732271775833
         ]
        },
        {
         "line": {
          "color": "black",
          "width": 2
         },
         "mode": "lines",
         "showlegend": false,
         "type": "scatter",
         "x": [
          -350,
          -350
         ],
         "y": [
          0,
          0.0019416712351162486
         ]
        },
        {
         "line": {
          "color": "black",
          "width": 2
         },
         "mode": "lines",
         "showlegend": false,
         "type": "scatter",
         "x": [
          -300,
          -300
         ],
         "y": [
          0,
          0.010668867121121991
         ]
        },
        {
         "line": {
          "color": "black",
          "width": 2
         },
         "mode": "lines",
         "showlegend": false,
         "type": "scatter",
         "x": [
          -250,
          -250
         ],
         "y": [
          0,
          0.004969503529563698
         ]
        },
        {
         "line": {
          "color": "black",
          "width": 2
         },
         "mode": "lines",
         "showlegend": false,
         "type": "scatter",
         "x": [
          -200,
          -200
         ],
         "y": [
          0,
          0.012399849252597343
         ]
        },
        {
         "line": {
          "color": "black",
          "width": 2
         },
         "mode": "lines",
         "showlegend": false,
         "type": "scatter",
         "x": [
          -150,
          -150
         ],
         "y": [
          0,
          0.0008654941753659222
         ]
        },
        {
         "line": {
          "color": "black",
          "width": 2
         },
         "mode": "lines",
         "showlegend": false,
         "type": "scatter",
         "x": [
          -100,
          -100
         ],
         "y": [
          0,
          0.005189810563626435
         ]
        },
        {
         "line": {
          "color": "black",
          "width": 2
         },
         "mode": "lines",
         "showlegend": false,
         "type": "scatter",
         "x": [
          -50,
          -50
         ],
         "y": [
          0,
          0.002856724855927155
         ]
        },
        {
         "line": {
          "color": "black",
          "width": 2
         },
         "mode": "lines",
         "showlegend": false,
         "type": "scatter",
         "x": [
          0,
          0
         ],
         "y": [
          0,
          0.002493537778556894
         ]
        },
        {
         "line": {
          "color": "black",
          "width": 2
         },
         "mode": "lines",
         "showlegend": false,
         "type": "scatter",
         "x": [
          50,
          50
         ],
         "y": [
          0,
          0.002856724855927155
         ]
        },
        {
         "line": {
          "color": "black",
          "width": 2
         },
         "mode": "lines",
         "showlegend": false,
         "type": "scatter",
         "x": [
          100,
          100
         ],
         "y": [
          0,
          0.005189810563626435
         ]
        },
        {
         "line": {
          "color": "black",
          "width": 2
         },
         "mode": "lines",
         "showlegend": false,
         "type": "scatter",
         "x": [
          150,
          150
         ],
         "y": [
          0,
          0.0008654941753659223
         ]
        },
        {
         "line": {
          "color": "black",
          "width": 2
         },
         "mode": "lines",
         "showlegend": false,
         "type": "scatter",
         "x": [
          200,
          200
         ],
         "y": [
          0,
          0.012399849252597345
         ]
        },
        {
         "line": {
          "color": "black",
          "width": 2
         },
         "mode": "lines",
         "showlegend": false,
         "type": "scatter",
         "x": [
          250,
          250
         ],
         "y": [
          0,
          0.004969503529563697
         ]
        },
        {
         "line": {
          "color": "black",
          "width": 2
         },
         "mode": "lines",
         "showlegend": false,
         "type": "scatter",
         "x": [
          300,
          300
         ],
         "y": [
          0,
          0.010668867121121993
         ]
        },
        {
         "line": {
          "color": "black",
          "width": 2
         },
         "mode": "lines",
         "showlegend": false,
         "type": "scatter",
         "x": [
          350,
          350
         ],
         "y": [
          0,
          0.0019416712351162482
         ]
        },
        {
         "line": {
          "color": "black",
          "width": 2
         },
         "mode": "lines",
         "showlegend": false,
         "type": "scatter",
         "x": [
          400,
          400
         ],
         "y": [
          0,
          0.011029732271775833
         ]
        },
        {
         "line": {
          "color": "black",
          "width": 2
         },
         "mode": "lines",
         "showlegend": false,
         "type": "scatter",
         "x": [
          450,
          450
         ],
         "y": [
          0,
          0.00979221585140416
         ]
        },
        {
         "line": {
          "color": "black",
          "width": 2
         },
         "mode": "lines",
         "showlegend": false,
         "type": "scatter",
         "x": [
          500,
          500
         ],
         "y": [
          0,
          0.0032506930167014295
         ]
        },
        {
         "line": {
          "color": "black",
          "width": 2
         },
         "mode": "lines",
         "showlegend": false,
         "type": "scatter",
         "x": [
          550,
          550
         ],
         "y": [
          0,
          0.005810009351605682
         ]
        },
        {
         "line": {
          "color": "black",
          "width": 2
         },
         "mode": "lines",
         "showlegend": false,
         "type": "scatter",
         "x": [
          600,
          600
         ],
         "y": [
          0,
          0.008828443638026592
         ]
        },
        {
         "line": {
          "color": "black",
          "width": 2
         },
         "mode": "lines",
         "showlegend": false,
         "type": "scatter",
         "x": [
          650,
          650
         ],
         "y": [
          0,
          0.009761805411271501
         ]
        },
        {
         "line": {
          "color": "black",
          "width": 2
         },
         "mode": "lines",
         "showlegend": false,
         "type": "scatter",
         "x": [
          700,
          700
         ],
         "y": [
          0,
          0.006053762209223027
         ]
        },
        {
         "line": {
          "color": "black",
          "width": 2
         },
         "mode": "lines",
         "showlegend": false,
         "type": "scatter",
         "x": [
          750,
          750
         ],
         "y": [
          0,
          0.009460243833805324
         ]
        },
        {
         "line": {
          "color": "black",
          "width": 2
         },
         "mode": "lines",
         "showlegend": false,
         "type": "scatter",
         "x": [
          800,
          800
         ],
         "y": [
          0,
          0.0008303134020029812
         ]
        },
        {
         "line": {
          "color": "black",
          "width": 2
         },
         "mode": "lines",
         "showlegend": false,
         "type": "scatter",
         "x": [
          850,
          850
         ],
         "y": [
          0,
          0.0033896663643265836
         ]
        },
        {
         "line": {
          "color": "black",
          "width": 2
         },
         "mode": "lines",
         "showlegend": false,
         "type": "scatter",
         "x": [
          900,
          900
         ],
         "y": [
          0,
          0.003040680419083318
         ]
        },
        {
         "line": {
          "color": "black",
          "width": 2
         },
         "mode": "lines",
         "showlegend": false,
         "type": "scatter",
         "x": [
          950,
          950
         ],
         "y": [
          0,
          0.0006283368863444641
         ]
        },
        {
         "line": {
          "color": "black",
          "width": 2
         },
         "mode": "lines",
         "showlegend": false,
         "type": "scatter",
         "x": [
          1000,
          1000
         ],
         "y": [
          0,
          0.002766915971036058
         ]
        },
        {
         "line": {
          "color": "black",
          "width": 2
         },
         "mode": "lines",
         "showlegend": false,
         "type": "scatter",
         "x": [
          1050,
          1050
         ],
         "y": [
          0,
          0.01039006647282201
         ]
        },
        {
         "line": {
          "color": "black",
          "width": 2
         },
         "mode": "lines",
         "showlegend": false,
         "type": "scatter",
         "x": [
          1100,
          1100
         ],
         "y": [
          0,
          0.0037936397712781678
         ]
        },
        {
         "line": {
          "color": "black",
          "width": 2
         },
         "mode": "lines",
         "showlegend": false,
         "type": "scatter",
         "x": [
          1150,
          1150
         ],
         "y": [
          0,
          0.005807124325029288
         ]
        },
        {
         "line": {
          "color": "black",
          "width": 2
         },
         "mode": "lines",
         "showlegend": false,
         "type": "scatter",
         "x": [
          1200,
          1200
         ],
         "y": [
          0,
          0.0009979743191317742
         ]
        },
        {
         "line": {
          "color": "black",
          "width": 2
         },
         "mode": "lines",
         "showlegend": false,
         "type": "scatter",
         "x": [
          1250,
          1250
         ],
         "y": [
          0,
          0.0015844967109049286
         ]
        },
        {
         "line": {
          "color": "black",
          "width": 2
         },
         "mode": "lines",
         "showlegend": false,
         "type": "scatter",
         "x": [
          1300,
          1300
         ],
         "y": [
          0,
          0.006823451228217637
         ]
        },
        {
         "line": {
          "color": "black",
          "width": 2
         },
         "mode": "lines",
         "showlegend": false,
         "type": "scatter",
         "x": [
          1350,
          1350
         ],
         "y": [
          0,
          0.006549743676796167
         ]
        },
        {
         "line": {
          "color": "black",
          "width": 2
         },
         "mode": "lines",
         "showlegend": false,
         "type": "scatter",
         "x": [
          1400,
          1400
         ],
         "y": [
          0,
          0.008039793336917081
         ]
        },
        {
         "line": {
          "color": "black",
          "width": 2
         },
         "mode": "lines",
         "showlegend": false,
         "type": "scatter",
         "x": [
          1450,
          1450
         ],
         "y": [
          0,
          0.0013738351878198297
         ]
        },
        {
         "line": {
          "color": "black",
          "width": 2
         },
         "mode": "lines",
         "showlegend": false,
         "type": "scatter",
         "x": [
          1500,
          1500
         ],
         "y": [
          0,
          0.010046101334261037
         ]
        },
        {
         "line": {
          "color": "black",
          "width": 2
         },
         "mode": "lines",
         "showlegend": false,
         "type": "scatter",
         "x": [
          1550,
          1550
         ],
         "y": [
          0,
          0.005448354893749069
         ]
        },
        {
         "line": {
          "color": "black",
          "width": 2
         },
         "mode": "lines",
         "showlegend": false,
         "type": "scatter",
         "x": [
          1600,
          1600
         ],
         "y": [
          0,
          0.0030378412604241036
         ]
        },
        {
         "line": {
          "color": "black",
          "width": 2
         },
         "mode": "lines",
         "showlegend": false,
         "type": "scatter",
         "x": [
          1650,
          1650
         ],
         "y": [
          0,
          0.010437742125745096
         ]
        },
        {
         "line": {
          "color": "black",
          "width": 2
         },
         "mode": "lines",
         "showlegend": false,
         "type": "scatter",
         "x": [
          1700,
          1700
         ],
         "y": [
          0,
          0.010294153670727217
         ]
        },
        {
         "line": {
          "color": "black",
          "width": 2
         },
         "mode": "lines",
         "showlegend": false,
         "type": "scatter",
         "x": [
          1750,
          1750
         ],
         "y": [
          0,
          0.006878602495699538
         ]
        },
        {
         "line": {
          "color": "black",
          "width": 2
         },
         "mode": "lines",
         "showlegend": false,
         "type": "scatter",
         "x": [
          1800,
          1800
         ],
         "y": [
          0,
          0.0034616276321604933
         ]
        },
        {
         "line": {
          "color": "black",
          "width": 2
         },
         "mode": "lines",
         "showlegend": false,
         "type": "scatter",
         "x": [
          1850,
          1850
         ],
         "y": [
          0,
          0.009144358732005309
         ]
        },
        {
         "line": {
          "color": "black",
          "width": 2
         },
         "mode": "lines",
         "showlegend": false,
         "type": "scatter",
         "x": [
          1900,
          1900
         ],
         "y": [
          0,
          0.0037889719795615277
         ]
        },
        {
         "line": {
          "color": "black",
          "width": 2
         },
         "mode": "lines",
         "showlegend": false,
         "type": "scatter",
         "x": [
          1950,
          1950
         ],
         "y": [
          0,
          0.005161790324159342
         ]
        },
        {
         "marker": {
          "color": "black",
          "size": 8
         },
         "mode": "markers",
         "name": "noisy",
         "type": "scatter",
         "x": [
          -2000,
          -1950,
          -1900,
          -1850,
          -1800,
          -1750,
          -1700,
          -1650,
          -1600,
          -1550,
          -1500,
          -1450,
          -1400,
          -1350,
          -1300,
          -1250,
          -1200,
          -1150,
          -1100,
          -1050,
          -1000,
          -950,
          -900,
          -850,
          -800,
          -750,
          -700,
          -650,
          -600,
          -550,
          -500,
          -450,
          -400,
          -350,
          -300,
          -250,
          -200,
          -150,
          -100,
          -50,
          0,
          50,
          100,
          150,
          200,
          250,
          300,
          350,
          400,
          450,
          500,
          550,
          600,
          650,
          700,
          750,
          800,
          850,
          900,
          950,
          1000,
          1050,
          1100,
          1150,
          1200,
          1250,
          1300,
          1350,
          1400,
          1450,
          1500,
          1550,
          1600,
          1650,
          1700,
          1750,
          1800,
          1850,
          1900,
          1950
         ],
         "y": [
          0.002479293695728987,
          0.005161790324159342,
          0.0037889719795615264,
          0.009144358732005307,
          0.003461627632160495,
          0.006878602495699538,
          0.010294153670727219,
          0.010437742125745095,
          0.0030378412604241036,
          0.005448354893749069,
          0.010046101334261037,
          0.0013738351878198308,
          0.008039793336917083,
          0.006549743676796167,
          0.006823451228217638,
          0.0015844967109049286,
          0.0009979743191317742,
          0.005807124325029289,
          0.0037936397712781678,
          0.01039006647282201,
          0.0027669159710360576,
          0.000628336886344464,
          0.003040680419083317,
          0.0033896663643265827,
          0.0008303134020029812,
          0.009460243833805322,
          0.006053762209223025,
          0.009761805411271503,
          0.008828443638026592,
          0.005810009351605679,
          0.003250693016701431,
          0.009792215851404159,
          0.011029732271775833,
          0.0019416712351162486,
          0.010668867121121991,
          0.004969503529563698,
          0.012399849252597343,
          0.0008654941753659222,
          0.005189810563626435,
          0.002856724855927155,
          0.002493537778556894,
          0.002856724855927155,
          0.005189810563626435,
          0.0008654941753659223,
          0.012399849252597345,
          0.004969503529563697,
          0.010668867121121993,
          0.0019416712351162482,
          0.011029732271775833,
          0.00979221585140416,
          0.0032506930167014295,
          0.005810009351605682,
          0.008828443638026592,
          0.009761805411271501,
          0.006053762209223027,
          0.009460243833805324,
          0.0008303134020029812,
          0.0033896663643265836,
          0.003040680419083318,
          0.0006283368863444641,
          0.002766915971036058,
          0.01039006647282201,
          0.0037936397712781678,
          0.005807124325029288,
          0.0009979743191317742,
          0.0015844967109049286,
          0.006823451228217637,
          0.006549743676796167,
          0.008039793336917081,
          0.0013738351878198297,
          0.010046101334261037,
          0.005448354893749069,
          0.0030378412604241036,
          0.010437742125745096,
          0.010294153670727217,
          0.006878602495699538,
          0.0034616276321604933,
          0.009144358732005309,
          0.0037889719795615277,
          0.005161790324159342
         ]
        },
        {
         "line": {
          "color": "red",
          "width": 2
         },
         "mode": "lines",
         "showlegend": false,
         "type": "scatter",
         "x": [
          -2000,
          -2000
         ],
         "y": [
          0,
          9.681925400295562e-18
         ]
        },
        {
         "line": {
          "color": "red",
          "width": 2
         },
         "mode": "lines",
         "showlegend": false,
         "type": "scatter",
         "x": [
          -1950,
          -1950
         ],
         "y": [
          0,
          2.989366980140908e-17
         ]
        },
        {
         "line": {
          "color": "red",
          "width": 2
         },
         "mode": "lines",
         "showlegend": false,
         "type": "scatter",
         "x": [
          -1900,
          -1900
         ],
         "y": [
          0,
          2.1665422850450567e-17
         ]
        },
        {
         "line": {
          "color": "red",
          "width": 2
         },
         "mode": "lines",
         "showlegend": false,
         "type": "scatter",
         "x": [
          -1850,
          -1850
         ],
         "y": [
          0,
          4.131410670961176e-17
         ]
        },
        {
         "line": {
          "color": "red",
          "width": 2
         },
         "mode": "lines",
         "showlegend": false,
         "type": "scatter",
         "x": [
          -1800,
          -1800
         ],
         "y": [
          0,
          3.4174200621034086e-17
         ]
        },
        {
         "line": {
          "color": "red",
          "width": 2
         },
         "mode": "lines",
         "showlegend": false,
         "type": "scatter",
         "x": [
          -1750,
          -1750
         ],
         "y": [
          0,
          3.030414332265599e-17
         ]
        },
        {
         "line": {
          "color": "red",
          "width": 2
         },
         "mode": "lines",
         "showlegend": false,
         "type": "scatter",
         "x": [
          -1700,
          -1700
         ],
         "y": [
          0,
          8.367272813257197e-18
         ]
        },
        {
         "line": {
          "color": "red",
          "width": 2
         },
         "mode": "lines",
         "showlegend": false,
         "type": "scatter",
         "x": [
          -1650,
          -1650
         ],
         "y": [
          0,
          2.167779754565684e-17
         ]
        },
        {
         "line": {
          "color": "red",
          "width": 2
         },
         "mode": "lines",
         "showlegend": false,
         "type": "scatter",
         "x": [
          -1600,
          -1600
         ],
         "y": [
          0,
          6.827271605066393e-18
         ]
        },
        {
         "line": {
          "color": "red",
          "width": 2
         },
         "mode": "lines",
         "showlegend": false,
         "type": "scatter",
         "x": [
          -1550,
          -1550
         ],
         "y": [
          0,
          8.42120434220378e-18
         ]
        },
        {
         "line": {
          "color": "red",
          "width": 2
         },
         "mode": "lines",
         "showlegend": false,
         "type": "scatter",
         "x": [
          -1500,
          -1500
         ],
         "y": [
          0,
          1.5023457248395173e-17
         ]
        },
        {
         "line": {
          "color": "red",
          "width": 2
         },
         "mode": "lines",
         "showlegend": false,
         "type": "scatter",
         "x": [
          -1450,
          -1450
         ],
         "y": [
          0,
          2.075294148022481e-17
         ]
        },
        {
         "line": {
          "color": "red",
          "width": 2
         },
         "mode": "lines",
         "showlegend": false,
         "type": "scatter",
         "x": [
          -1400,
          -1400
         ],
         "y": [
          0,
          1.2956617972937133e-17
         ]
        },
        {
         "line": {
          "color": "red",
          "width": 2
         },
         "mode": "lines",
         "showlegend": false,
         "type": "scatter",
         "x": [
          -1350,
          -1350
         ],
         "y": [
          0,
          4.4457400823257674e-18
         ]
        },
        {
         "line": {
          "color": "red",
          "width": 2
         },
         "mode": "lines",
         "showlegend": false,
         "type": "scatter",
         "x": [
          -1300,
          -1300
         ],
         "y": [
          0,
          2.877124452490227e-18
         ]
        },
        {
         "line": {
          "color": "red",
          "width": 2
         },
         "mode": "lines",
         "showlegend": false,
         "type": "scatter",
         "x": [
          -1250,
          -1250
         ],
         "y": [
          0,
          3.4440619072613237e-18
         ]
        },
        {
         "line": {
          "color": "red",
          "width": 2
         },
         "mode": "lines",
         "showlegend": false,
         "type": "scatter",
         "x": [
          -1200,
          -1200
         ],
         "y": [
          0,
          2.0214938916808947e-17
         ]
        },
        {
         "line": {
          "color": "red",
          "width": 2
         },
         "mode": "lines",
         "showlegend": false,
         "type": "scatter",
         "x": [
          -1150,
          -1150
         ],
         "y": [
          0,
          7.207950837220667e-18
         ]
        },
        {
         "line": {
          "color": "red",
          "width": 2
         },
         "mode": "lines",
         "showlegend": false,
         "type": "scatter",
         "x": [
          -1100,
          -1100
         ],
         "y": [
          0,
          1.7206497488466794e-17
         ]
        },
        {
         "line": {
          "color": "red",
          "width": 2
         },
         "mode": "lines",
         "showlegend": false,
         "type": "scatter",
         "x": [
          -1050,
          -1050
         ],
         "y": [
          0,
          1.397411743578599e-18
         ]
        },
        {
         "line": {
          "color": "red",
          "width": 2
         },
         "mode": "lines",
         "showlegend": false,
         "type": "scatter",
         "x": [
          -1000,
          -1000
         ],
         "y": [
          0,
          1.40144402268255e-17
         ]
        },
        {
         "line": {
          "color": "red",
          "width": 2
         },
         "mode": "lines",
         "showlegend": false,
         "type": "scatter",
         "x": [
          -950,
          -950
         ],
         "y": [
          0,
          1.8094421531119197e-17
         ]
        },
        {
         "line": {
          "color": "red",
          "width": 2
         },
         "mode": "lines",
         "showlegend": false,
         "type": "scatter",
         "x": [
          -900,
          -900
         ],
         "y": [
          0,
          2.4924500311514883e-18
         ]
        },
        {
         "line": {
          "color": "red",
          "width": 2
         },
         "mode": "lines",
         "showlegend": false,
         "type": "scatter",
         "x": [
          -850,
          -850
         ],
         "y": [
          0,
          2.897767167584095e-17
         ]
        },
        {
         "line": {
          "color": "red",
          "width": 2
         },
         "mode": "lines",
         "showlegend": false,
         "type": "scatter",
         "x": [
          -800,
          -800
         ],
         "y": [
          0,
          8.232757970251693e-18
         ]
        },
        {
         "line": {
          "color": "red",
          "width": 2
         },
         "mode": "lines",
         "showlegend": false,
         "type": "scatter",
         "x": [
          -750,
          -750
         ],
         "y": [
          0,
          2.0676145793791093e-17
         ]
        },
        {
         "line": {
          "color": "red",
          "width": 2
         },
         "mode": "lines",
         "showlegend": false,
         "type": "scatter",
         "x": [
          -700,
          -700
         ],
         "y": [
          0,
          3.2349115770901233e-18
         ]
        },
        {
         "line": {
          "color": "red",
          "width": 2
         },
         "mode": "lines",
         "showlegend": false,
         "type": "scatter",
         "x": [
          -650,
          -650
         ],
         "y": [
          0,
          2.5614010169866615e-17
         ]
        },
        {
         "line": {
          "color": "red",
          "width": 2
         },
         "mode": "lines",
         "showlegend": false,
         "type": "scatter",
         "x": [
          -600,
          -600
         ],
         "y": [
          0,
          1.4827461246087234e-17
         ]
        },
        {
         "line": {
          "color": "red",
          "width": 2
         },
         "mode": "lines",
         "showlegend": false,
         "type": "scatter",
         "x": [
          -550,
          -550
         ],
         "y": [
          0,
          2.6407144246004272e-17
         ]
        },
        {
         "line": {
          "color": "red",
          "width": 2
         },
         "mode": "lines",
         "showlegend": false,
         "type": "scatter",
         "x": [
          -500,
          -500
         ],
         "y": [
          0,
          1.7355914469756828e-17
         ]
        },
        {
         "line": {
          "color": "red",
          "width": 2
         },
         "mode": "lines",
         "showlegend": false,
         "type": "scatter",
         "x": [
          -450,
          -450
         ],
         "y": [
          0,
          1.9234228457501664e-17
         ]
        },
        {
         "line": {
          "color": "red",
          "width": 2
         },
         "mode": "lines",
         "showlegend": false,
         "type": "scatter",
         "x": [
          -400,
          -400
         ],
         "y": [
          0,
          2.810351872959433e-17
         ]
        },
        {
         "line": {
          "color": "red",
          "width": 2
         },
         "mode": "lines",
         "showlegend": false,
         "type": "scatter",
         "x": [
          -350,
          -350
         ],
         "y": [
          0,
          7.924746805583423e-18
         ]
        },
        {
         "line": {
          "color": "red",
          "width": 2
         },
         "mode": "lines",
         "showlegend": false,
         "type": "scatter",
         "x": [
          -300,
          -300
         ],
         "y": [
          0,
          2.1276612349957837e-17
         ]
        },
        {
         "line": {
          "color": "red",
          "width": 2
         },
         "mode": "lines",
         "showlegend": false,
         "type": "scatter",
         "x": [
          -250,
          -250
         ],
         "y": [
          0,
          2.7346013190872258e-17
         ]
        },
        {
         "line": {
          "color": "red",
          "width": 2
         },
         "mode": "lines",
         "showlegend": false,
         "type": "scatter",
         "x": [
          -200,
          -200
         ],
         "y": [
          0,
          3.383282124974e-17
         ]
        },
        {
         "line": {
          "color": "red",
          "width": 2
         },
         "mode": "lines",
         "showlegend": false,
         "type": "scatter",
         "x": [
          -150,
          -150
         ],
         "y": [
          0,
          2.0778108847746316e-17
         ]
        },
        {
         "line": {
          "color": "red",
          "width": 2
         },
         "mode": "lines",
         "showlegend": false,
         "type": "scatter",
         "x": [
          -100,
          -100
         ],
         "y": [
          0,
          9.62821668974566e-18
         ]
        },
        {
         "line": {
          "color": "red",
          "width": 2
         },
         "mode": "lines",
         "showlegend": false,
         "type": "scatter",
         "x": [
          -50,
          -50
         ],
         "y": [
          0,
          0.5
         ]
        },
        {
         "line": {
          "color": "red",
          "width": 2
         },
         "mode": "lines",
         "showlegend": false,
         "type": "scatter",
         "x": [
          0,
          0
         ],
         "y": [
          0,
          4.2706723574204023e-17
         ]
        },
        {
         "line": {
          "color": "red",
          "width": 2
         },
         "mode": "lines",
         "showlegend": false,
         "type": "scatter",
         "x": [
          50,
          50
         ],
         "y": [
          0,
          0.5
         ]
        },
        {
         "line": {
          "color": "red",
          "width": 2
         },
         "mode": "lines",
         "showlegend": false,
         "type": "scatter",
         "x": [
          100,
          100
         ],
         "y": [
          0,
          9.628216689745658e-18
         ]
        },
        {
         "line": {
          "color": "red",
          "width": 2
         },
         "mode": "lines",
         "showlegend": false,
         "type": "scatter",
         "x": [
          150,
          150
         ],
         "y": [
          0,
          1.5838319836915703e-17
         ]
        },
        {
         "line": {
          "color": "red",
          "width": 2
         },
         "mode": "lines",
         "showlegend": false,
         "type": "scatter",
         "x": [
          200,
          200
         ],
         "y": [
          0,
          3.3832821249739993e-17
         ]
        },
        {
         "line": {
          "color": "red",
          "width": 2
         },
         "mode": "lines",
         "showlegend": false,
         "type": "scatter",
         "x": [
          250,
          250
         ],
         "y": [
          0,
          2.4788510754341303e-17
         ]
        },
        {
         "line": {
          "color": "red",
          "width": 2
         },
         "mode": "lines",
         "showlegend": false,
         "type": "scatter",
         "x": [
          300,
          300
         ],
         "y": [
          0,
          2.1276612349957837e-17
         ]
        },
        {
         "line": {
          "color": "red",
          "width": 2
         },
         "mode": "lines",
         "showlegend": false,
         "type": "scatter",
         "x": [
          350,
          350
         ],
         "y": [
          0,
          8.163436537983653e-18
         ]
        },
        {
         "line": {
          "color": "red",
          "width": 2
         },
         "mode": "lines",
         "showlegend": false,
         "type": "scatter",
         "x": [
          400,
          400
         ],
         "y": [
          0,
          2.8103518729594336e-17
         ]
        },
        {
         "line": {
          "color": "red",
          "width": 2
         },
         "mode": "lines",
         "showlegend": false,
         "type": "scatter",
         "x": [
          450,
          450
         ],
         "y": [
          0,
          2.627633292357923e-17
         ]
        },
        {
         "line": {
          "color": "red",
          "width": 2
         },
         "mode": "lines",
         "showlegend": false,
         "type": "scatter",
         "x": [
          500,
          500
         ],
         "y": [
          0,
          1.735591446975683e-17
         ]
        },
        {
         "line": {
          "color": "red",
          "width": 2
         },
         "mode": "lines",
         "showlegend": false,
         "type": "scatter",
         "x": [
          550,
          550
         ],
         "y": [
          0,
          2.55999263638106e-17
         ]
        },
        {
         "line": {
          "color": "red",
          "width": 2
         },
         "mode": "lines",
         "showlegend": false,
         "type": "scatter",
         "x": [
          600,
          600
         ],
         "y": [
          0,
          1.4827461246087234e-17
         ]
        },
        {
         "line": {
          "color": "red",
          "width": 2
         },
         "mode": "lines",
         "showlegend": false,
         "type": "scatter",
         "x": [
          650,
          650
         ],
         "y": [
          0,
          1.6593578055228968e-17
         ]
        },
        {
         "line": {
          "color": "red",
          "width": 2
         },
         "mode": "lines",
         "showlegend": false,
         "type": "scatter",
         "x": [
          700,
          700
         ],
         "y": [
          0,
          3.234911577090122e-18
         ]
        },
        {
         "line": {
          "color": "red",
          "width": 2
         },
         "mode": "lines",
         "showlegend": false,
         "type": "scatter",
         "x": [
          750,
          750
         ],
         "y": [
          0,
          2.2887833992611188e-17
         ]
        },
        {
         "line": {
          "color": "red",
          "width": 2
         },
         "mode": "lines",
         "showlegend": false,
         "type": "scatter",
         "x": [
          800,
          800
         ],
         "y": [
          0,
          8.232757970251693e-18
         ]
        },
        {
         "line": {
          "color": "red",
          "width": 2
         },
         "mode": "lines",
         "showlegend": false,
         "type": "scatter",
         "x": [
          850,
          850
         ],
         "y": [
          0,
          3.695019804192226e-17
         ]
        },
        {
         "line": {
          "color": "red",
          "width": 2
         },
         "mode": "lines",
         "showlegend": false,
         "type": "scatter",
         "x": [
          900,
          900
         ],
         "y": [
          0,
          2.4924500311514883e-18
         ]
        },
        {
         "line": {
          "color": "red",
          "width": 2
         },
         "mode": "lines",
         "showlegend": false,
         "type": "scatter",
         "x": [
          950,
          950
         ],
         "y": [
          0,
          2.2173115597071706e-17
         ]
        },
        {
         "line": {
          "color": "red",
          "width": 2
         },
         "mode": "lines",
         "showlegend": false,
         "type": "scatter",
         "x": [
          1000,
          1000
         ],
         "y": [
          0,
          1.4014440226825503e-17
         ]
        },
        {
         "line": {
          "color": "red",
          "width": 2
         },
         "mode": "lines",
         "showlegend": false,
         "type": "scatter",
         "x": [
          1050,
          1050
         ],
         "y": [
          0,
          8.092071311423666e-18
         ]
        },
        {
         "line": {
          "color": "red",
          "width": 2
         },
         "mode": "lines",
         "showlegend": false,
         "type": "scatter",
         "x": [
          1100,
          1100
         ],
         "y": [
          0,
          1.720649748846679e-17
         ]
        },
        {
         "line": {
          "color": "red",
          "width": 2
         },
         "mode": "lines",
         "showlegend": false,
         "type": "scatter",
         "x": [
          1150,
          1150
         ],
         "y": [
          0,
          1.1123893155135927e-17
         ]
        },
        {
         "line": {
          "color": "red",
          "width": 2
         },
         "mode": "lines",
         "showlegend": false,
         "type": "scatter",
         "x": [
          1200,
          1200
         ],
         "y": [
          0,
          2.0214938916808944e-17
         ]
        },
        {
         "line": {
          "color": "red",
          "width": 2
         },
         "mode": "lines",
         "showlegend": false,
         "type": "scatter",
         "x": [
          1250,
          1250
         ],
         "y": [
          0,
          1.2249874011633771e-17
         ]
        },
        {
         "line": {
          "color": "red",
          "width": 2
         },
         "mode": "lines",
         "showlegend": false,
         "type": "scatter",
         "x": [
          1300,
          1300
         ],
         "y": [
          0,
          2.8771244524902282e-18
         ]
        },
        {
         "line": {
          "color": "red",
          "width": 2
         },
         "mode": "lines",
         "showlegend": false,
         "type": "scatter",
         "x": [
          1350,
          1350
         ],
         "y": [
          0,
          6.997405316500329e-18
         ]
        },
        {
         "line": {
          "color": "red",
          "width": 2
         },
         "mode": "lines",
         "showlegend": false,
         "type": "scatter",
         "x": [
          1400,
          1400
         ],
         "y": [
          0,
          1.2956617972937134e-17
         ]
        },
        {
         "line": {
          "color": "red",
          "width": 2
         },
         "mode": "lines",
         "showlegend": false,
         "type": "scatter",
         "x": [
          1450,
          1450
         ],
         "y": [
          0,
          2.1321036500469888e-17
         ]
        },
        {
         "line": {
          "color": "red",
          "width": 2
         },
         "mode": "lines",
         "showlegend": false,
         "type": "scatter",
         "x": [
          1500,
          1500
         ],
         "y": [
          0,
          1.5023457248395176e-17
         ]
        },
        {
         "line": {
          "color": "red",
          "width": 2
         },
         "mode": "lines",
         "showlegend": false,
         "type": "scatter",
         "x": [
          1550,
          1550
         ],
         "y": [
          0,
          2.2204460492503132e-17
         ]
        },
        {
         "line": {
          "color": "red",
          "width": 2
         },
         "mode": "lines",
         "showlegend": false,
         "type": "scatter",
         "x": [
          1600,
          1600
         ],
         "y": [
          0,
          6.827271605066393e-18
         ]
        },
        {
         "line": {
          "color": "red",
          "width": 2
         },
         "mode": "lines",
         "showlegend": false,
         "type": "scatter",
         "x": [
          1650,
          1650
         ],
         "y": [
          0,
          2.323410742418863e-17
         ]
        },
        {
         "line": {
          "color": "red",
          "width": 2
         },
         "mode": "lines",
         "showlegend": false,
         "type": "scatter",
         "x": [
          1700,
          1700
         ],
         "y": [
          0,
          8.367272813257197e-18
         ]
        },
        {
         "line": {
          "color": "red",
          "width": 2
         },
         "mode": "lines",
         "showlegend": false,
         "type": "scatter",
         "x": [
          1750,
          1750
         ],
         "y": [
          0,
          3.3750229616783644e-17
         ]
        },
        {
         "line": {
          "color": "red",
          "width": 2
         },
         "mode": "lines",
         "showlegend": false,
         "type": "scatter",
         "x": [
          1800,
          1800
         ],
         "y": [
          0,
          3.417420062103409e-17
         ]
        },
        {
         "line": {
          "color": "red",
          "width": 2
         },
         "mode": "lines",
         "showlegend": false,
         "type": "scatter",
         "x": [
          1850,
          1850
         ],
         "y": [
          0,
          3.936520112074033e-17
         ]
        },
        {
         "line": {
          "color": "red",
          "width": 2
         },
         "mode": "lines",
         "showlegend": false,
         "type": "scatter",
         "x": [
          1900,
          1900
         ],
         "y": [
          0,
          2.166542285045057e-17
         ]
        },
        {
         "line": {
          "color": "red",
          "width": 2
         },
         "mode": "lines",
         "showlegend": false,
         "type": "scatter",
         "x": [
          1950,
          1950
         ],
         "y": [
          0,
          2.1684321077373155e-17
         ]
        },
        {
         "marker": {
          "color": "red",
          "size": 4
         },
         "mode": "markers",
         "name": "pure",
         "type": "scatter",
         "x": [
          -2000,
          -1950,
          -1900,
          -1850,
          -1800,
          -1750,
          -1700,
          -1650,
          -1600,
          -1550,
          -1500,
          -1450,
          -1400,
          -1350,
          -1300,
          -1250,
          -1200,
          -1150,
          -1100,
          -1050,
          -1000,
          -950,
          -900,
          -850,
          -800,
          -750,
          -700,
          -650,
          -600,
          -550,
          -500,
          -450,
          -400,
          -350,
          -300,
          -250,
          -200,
          -150,
          -100,
          -50,
          0,
          50,
          100,
          150,
          200,
          250,
          300,
          350,
          400,
          450,
          500,
          550,
          600,
          650,
          700,
          750,
          800,
          850,
          900,
          950,
          1000,
          1050,
          1100,
          1150,
          1200,
          1250,
          1300,
          1350,
          1400,
          1450,
          1500,
          1550,
          1600,
          1650,
          1700,
          1750,
          1800,
          1850,
          1900,
          1950
         ],
         "y": [
          9.681925400295562e-18,
          2.989366980140908e-17,
          2.1665422850450567e-17,
          4.131410670961176e-17,
          3.4174200621034086e-17,
          3.030414332265599e-17,
          8.367272813257197e-18,
          2.167779754565684e-17,
          6.827271605066393e-18,
          8.42120434220378e-18,
          1.5023457248395173e-17,
          2.075294148022481e-17,
          1.2956617972937133e-17,
          4.4457400823257674e-18,
          2.877124452490227e-18,
          3.4440619072613237e-18,
          2.0214938916808947e-17,
          7.207950837220667e-18,
          1.7206497488466794e-17,
          1.397411743578599e-18,
          1.40144402268255e-17,
          1.8094421531119197e-17,
          2.4924500311514883e-18,
          2.897767167584095e-17,
          8.232757970251693e-18,
          2.0676145793791093e-17,
          3.2349115770901233e-18,
          2.5614010169866615e-17,
          1.4827461246087234e-17,
          2.6407144246004272e-17,
          1.7355914469756828e-17,
          1.9234228457501664e-17,
          2.810351872959433e-17,
          7.924746805583423e-18,
          2.1276612349957837e-17,
          2.7346013190872258e-17,
          3.383282124974e-17,
          2.0778108847746316e-17,
          9.62821668974566e-18,
          0.5,
          4.2706723574204023e-17,
          0.5,
          9.628216689745658e-18,
          1.5838319836915703e-17,
          3.3832821249739993e-17,
          2.4788510754341303e-17,
          2.1276612349957837e-17,
          8.163436537983653e-18,
          2.8103518729594336e-17,
          2.627633292357923e-17,
          1.735591446975683e-17,
          2.55999263638106e-17,
          1.4827461246087234e-17,
          1.6593578055228968e-17,
          3.234911577090122e-18,
          2.2887833992611188e-17,
          8.232757970251693e-18,
          3.695019804192226e-17,
          2.4924500311514883e-18,
          2.2173115597071706e-17,
          1.4014440226825503e-17,
          8.092071311423666e-18,
          1.720649748846679e-17,
          1.1123893155135927e-17,
          2.0214938916808944e-17,
          1.2249874011633771e-17,
          2.8771244524902282e-18,
          6.997405316500329e-18,
          1.2956617972937134e-17,
          2.1321036500469888e-17,
          1.5023457248395176e-17,
          2.2204460492503132e-17,
          6.827271605066393e-18,
          2.323410742418863e-17,
          8.367272813257197e-18,
          3.3750229616783644e-17,
          3.417420062103409e-17,
          3.936520112074033e-17,
          2.166542285045057e-17,
          2.1684321077373155e-17
         ]
        }
       ],
       "layout": {
        "template": {
         "data": {
          "bar": [
           {
            "error_x": {
             "color": "#2a3f5f"
            },
            "error_y": {
             "color": "#2a3f5f"
            },
            "marker": {
             "line": {
              "color": "#E5ECF6",
              "width": 0.5
             },
             "pattern": {
              "fillmode": "overlay",
              "size": 10,
              "solidity": 0.2
             }
            },
            "type": "bar"
           }
          ],
          "barpolar": [
           {
            "marker": {
             "line": {
              "color": "#E5ECF6",
              "width": 0.5
             },
             "pattern": {
              "fillmode": "overlay",
              "size": 10,
              "solidity": 0.2
             }
            },
            "type": "barpolar"
           }
          ],
          "carpet": [
           {
            "aaxis": {
             "endlinecolor": "#2a3f5f",
             "gridcolor": "white",
             "linecolor": "white",
             "minorgridcolor": "white",
             "startlinecolor": "#2a3f5f"
            },
            "baxis": {
             "endlinecolor": "#2a3f5f",
             "gridcolor": "white",
             "linecolor": "white",
             "minorgridcolor": "white",
             "startlinecolor": "#2a3f5f"
            },
            "type": "carpet"
           }
          ],
          "choropleth": [
           {
            "colorbar": {
             "outlinewidth": 0,
             "ticks": ""
            },
            "type": "choropleth"
           }
          ],
          "contour": [
           {
            "colorbar": {
             "outlinewidth": 0,
             "ticks": ""
            },
            "colorscale": [
             [
              0,
              "#0d0887"
             ],
             [
              0.1111111111111111,
              "#46039f"
             ],
             [
              0.2222222222222222,
              "#7201a8"
             ],
             [
              0.3333333333333333,
              "#9c179e"
             ],
             [
              0.4444444444444444,
              "#bd3786"
             ],
             [
              0.5555555555555556,
              "#d8576b"
             ],
             [
              0.6666666666666666,
              "#ed7953"
             ],
             [
              0.7777777777777778,
              "#fb9f3a"
             ],
             [
              0.8888888888888888,
              "#fdca26"
             ],
             [
              1,
              "#f0f921"
             ]
            ],
            "type": "contour"
           }
          ],
          "contourcarpet": [
           {
            "colorbar": {
             "outlinewidth": 0,
             "ticks": ""
            },
            "type": "contourcarpet"
           }
          ],
          "heatmap": [
           {
            "colorbar": {
             "outlinewidth": 0,
             "ticks": ""
            },
            "colorscale": [
             [
              0,
              "#0d0887"
             ],
             [
              0.1111111111111111,
              "#46039f"
             ],
             [
              0.2222222222222222,
              "#7201a8"
             ],
             [
              0.3333333333333333,
              "#9c179e"
             ],
             [
              0.4444444444444444,
              "#bd3786"
             ],
             [
              0.5555555555555556,
              "#d8576b"
             ],
             [
              0.6666666666666666,
              "#ed7953"
             ],
             [
              0.7777777777777778,
              "#fb9f3a"
             ],
             [
              0.8888888888888888,
              "#fdca26"
             ],
             [
              1,
              "#f0f921"
             ]
            ],
            "type": "heatmap"
           }
          ],
          "heatmapgl": [
           {
            "colorbar": {
             "outlinewidth": 0,
             "ticks": ""
            },
            "colorscale": [
             [
              0,
              "#0d0887"
             ],
             [
              0.1111111111111111,
              "#46039f"
             ],
             [
              0.2222222222222222,
              "#7201a8"
             ],
             [
              0.3333333333333333,
              "#9c179e"
             ],
             [
              0.4444444444444444,
              "#bd3786"
             ],
             [
              0.5555555555555556,
              "#d8576b"
             ],
             [
              0.6666666666666666,
              "#ed7953"
             ],
             [
              0.7777777777777778,
              "#fb9f3a"
             ],
             [
              0.8888888888888888,
              "#fdca26"
             ],
             [
              1,
              "#f0f921"
             ]
            ],
            "type": "heatmapgl"
           }
          ],
          "histogram": [
           {
            "marker": {
             "pattern": {
              "fillmode": "overlay",
              "size": 10,
              "solidity": 0.2
             }
            },
            "type": "histogram"
           }
          ],
          "histogram2d": [
           {
            "colorbar": {
             "outlinewidth": 0,
             "ticks": ""
            },
            "colorscale": [
             [
              0,
              "#0d0887"
             ],
             [
              0.1111111111111111,
              "#46039f"
             ],
             [
              0.2222222222222222,
              "#7201a8"
             ],
             [
              0.3333333333333333,
              "#9c179e"
             ],
             [
              0.4444444444444444,
              "#bd3786"
             ],
             [
              0.5555555555555556,
              "#d8576b"
             ],
             [
              0.6666666666666666,
              "#ed7953"
             ],
             [
              0.7777777777777778,
              "#fb9f3a"
             ],
             [
              0.8888888888888888,
              "#fdca26"
             ],
             [
              1,
              "#f0f921"
             ]
            ],
            "type": "histogram2d"
           }
          ],
          "histogram2dcontour": [
           {
            "colorbar": {
             "outlinewidth": 0,
             "ticks": ""
            },
            "colorscale": [
             [
              0,
              "#0d0887"
             ],
             [
              0.1111111111111111,
              "#46039f"
             ],
             [
              0.2222222222222222,
              "#7201a8"
             ],
             [
              0.3333333333333333,
              "#9c179e"
             ],
             [
              0.4444444444444444,
              "#bd3786"
             ],
             [
              0.5555555555555556,
              "#d8576b"
             ],
             [
              0.6666666666666666,
              "#ed7953"
             ],
             [
              0.7777777777777778,
              "#fb9f3a"
             ],
             [
              0.8888888888888888,
              "#fdca26"
             ],
             [
              1,
              "#f0f921"
             ]
            ],
            "type": "histogram2dcontour"
           }
          ],
          "mesh3d": [
           {
            "colorbar": {
             "outlinewidth": 0,
             "ticks": ""
            },
            "type": "mesh3d"
           }
          ],
          "parcoords": [
           {
            "line": {
             "colorbar": {
              "outlinewidth": 0,
              "ticks": ""
             }
            },
            "type": "parcoords"
           }
          ],
          "pie": [
           {
            "automargin": true,
            "type": "pie"
           }
          ],
          "scatter": [
           {
            "fillpattern": {
             "fillmode": "overlay",
             "size": 10,
             "solidity": 0.2
            },
            "type": "scatter"
           }
          ],
          "scatter3d": [
           {
            "line": {
             "colorbar": {
              "outlinewidth": 0,
              "ticks": ""
             }
            },
            "marker": {
             "colorbar": {
              "outlinewidth": 0,
              "ticks": ""
             }
            },
            "type": "scatter3d"
           }
          ],
          "scattercarpet": [
           {
            "marker": {
             "colorbar": {
              "outlinewidth": 0,
              "ticks": ""
             }
            },
            "type": "scattercarpet"
           }
          ],
          "scattergeo": [
           {
            "marker": {
             "colorbar": {
              "outlinewidth": 0,
              "ticks": ""
             }
            },
            "type": "scattergeo"
           }
          ],
          "scattergl": [
           {
            "marker": {
             "colorbar": {
              "outlinewidth": 0,
              "ticks": ""
             }
            },
            "type": "scattergl"
           }
          ],
          "scattermapbox": [
           {
            "marker": {
             "colorbar": {
              "outlinewidth": 0,
              "ticks": ""
             }
            },
            "type": "scattermapbox"
           }
          ],
          "scatterpolar": [
           {
            "marker": {
             "colorbar": {
              "outlinewidth": 0,
              "ticks": ""
             }
            },
            "type": "scatterpolar"
           }
          ],
          "scatterpolargl": [
           {
            "marker": {
             "colorbar": {
              "outlinewidth": 0,
              "ticks": ""
             }
            },
            "type": "scatterpolargl"
           }
          ],
          "scatterternary": [
           {
            "marker": {
             "colorbar": {
              "outlinewidth": 0,
              "ticks": ""
             }
            },
            "type": "scatterternary"
           }
          ],
          "surface": [
           {
            "colorbar": {
             "outlinewidth": 0,
             "ticks": ""
            },
            "colorscale": [
             [
              0,
              "#0d0887"
             ],
             [
              0.1111111111111111,
              "#46039f"
             ],
             [
              0.2222222222222222,
              "#7201a8"
             ],
             [
              0.3333333333333333,
              "#9c179e"
             ],
             [
              0.4444444444444444,
              "#bd3786"
             ],
             [
              0.5555555555555556,
              "#d8576b"
             ],
             [
              0.6666666666666666,
              "#ed7953"
             ],
             [
              0.7777777777777778,
              "#fb9f3a"
             ],
             [
              0.8888888888888888,
              "#fdca26"
             ],
             [
              1,
              "#f0f921"
             ]
            ],
            "type": "surface"
           }
          ],
          "table": [
           {
            "cells": {
             "fill": {
              "color": "#EBF0F8"
             },
             "line": {
              "color": "white"
             }
            },
            "header": {
             "fill": {
              "color": "#C8D4E3"
             },
             "line": {
              "color": "white"
             }
            },
            "type": "table"
           }
          ]
         },
         "layout": {
          "annotationdefaults": {
           "arrowcolor": "#2a3f5f",
           "arrowhead": 0,
           "arrowwidth": 1
          },
          "autotypenumbers": "strict",
          "coloraxis": {
           "colorbar": {
            "outlinewidth": 0,
            "ticks": ""
           }
          },
          "colorscale": {
           "diverging": [
            [
             0,
             "#8e0152"
            ],
            [
             0.1,
             "#c51b7d"
            ],
            [
             0.2,
             "#de77ae"
            ],
            [
             0.3,
             "#f1b6da"
            ],
            [
             0.4,
             "#fde0ef"
            ],
            [
             0.5,
             "#f7f7f7"
            ],
            [
             0.6,
             "#e6f5d0"
            ],
            [
             0.7,
             "#b8e186"
            ],
            [
             0.8,
             "#7fbc41"
            ],
            [
             0.9,
             "#4d9221"
            ],
            [
             1,
             "#276419"
            ]
           ],
           "sequential": [
            [
             0,
             "#0d0887"
            ],
            [
             0.1111111111111111,
             "#46039f"
            ],
            [
             0.2222222222222222,
             "#7201a8"
            ],
            [
             0.3333333333333333,
             "#9c179e"
            ],
            [
             0.4444444444444444,
             "#bd3786"
            ],
            [
             0.5555555555555556,
             "#d8576b"
            ],
            [
             0.6666666666666666,
             "#ed7953"
            ],
            [
             0.7777777777777778,
             "#fb9f3a"
            ],
            [
             0.8888888888888888,
             "#fdca26"
            ],
            [
             1,
             "#f0f921"
            ]
           ],
           "sequentialminus": [
            [
             0,
             "#0d0887"
            ],
            [
             0.1111111111111111,
             "#46039f"
            ],
            [
             0.2222222222222222,
             "#7201a8"
            ],
            [
             0.3333333333333333,
             "#9c179e"
            ],
            [
             0.4444444444444444,
             "#bd3786"
            ],
            [
             0.5555555555555556,
             "#d8576b"
            ],
            [
             0.6666666666666666,
             "#ed7953"
            ],
            [
             0.7777777777777778,
             "#fb9f3a"
            ],
            [
             0.8888888888888888,
             "#fdca26"
            ],
            [
             1,
             "#f0f921"
            ]
           ]
          },
          "colorway": [
           "#636efa",
           "#EF553B",
           "#00cc96",
           "#ab63fa",
           "#FFA15A",
           "#19d3f3",
           "#FF6692",
           "#B6E880",
           "#FF97FF",
           "#FECB52"
          ],
          "font": {
           "color": "#2a3f5f"
          },
          "geo": {
           "bgcolor": "white",
           "lakecolor": "white",
           "landcolor": "#E5ECF6",
           "showlakes": true,
           "showland": true,
           "subunitcolor": "white"
          },
          "hoverlabel": {
           "align": "left"
          },
          "hovermode": "closest",
          "mapbox": {
           "style": "light"
          },
          "paper_bgcolor": "white",
          "plot_bgcolor": "#E5ECF6",
          "polar": {
           "angularaxis": {
            "gridcolor": "white",
            "linecolor": "white",
            "ticks": ""
           },
           "bgcolor": "#E5ECF6",
           "radialaxis": {
            "gridcolor": "white",
            "linecolor": "white",
            "ticks": ""
           }
          },
          "scene": {
           "xaxis": {
            "backgroundcolor": "#E5ECF6",
            "gridcolor": "white",
            "gridwidth": 2,
            "linecolor": "white",
            "showbackground": true,
            "ticks": "",
            "zerolinecolor": "white"
           },
           "yaxis": {
            "backgroundcolor": "#E5ECF6",
            "gridcolor": "white",
            "gridwidth": 2,
            "linecolor": "white",
            "showbackground": true,
            "ticks": "",
            "zerolinecolor": "white"
           },
           "zaxis": {
            "backgroundcolor": "#E5ECF6",
            "gridcolor": "white",
            "gridwidth": 2,
            "linecolor": "white",
            "showbackground": true,
            "ticks": "",
            "zerolinecolor": "white"
           }
          },
          "shapedefaults": {
           "line": {
            "color": "#2a3f5f"
           }
          },
          "ternary": {
           "aaxis": {
            "gridcolor": "white",
            "linecolor": "white",
            "ticks": ""
           },
           "baxis": {
            "gridcolor": "white",
            "linecolor": "white",
            "ticks": ""
           },
           "bgcolor": "#E5ECF6",
           "caxis": {
            "gridcolor": "white",
            "linecolor": "white",
            "ticks": ""
           }
          },
          "title": {
           "x": 0.05
          },
          "xaxis": {
           "automargin": true,
           "gridcolor": "white",
           "linecolor": "white",
           "ticks": "",
           "title": {
            "standoff": 15
           },
           "zerolinecolor": "white",
           "zerolinewidth": 2
          },
          "yaxis": {
           "automargin": true,
           "gridcolor": "white",
           "linecolor": "white",
           "ticks": "",
           "title": {
            "standoff": 15
           },
           "zerolinecolor": "white",
           "zerolinewidth": 2
          }
         }
        },
        "title": {
         "text": "DFT Spectrum"
        },
        "xaxis": {
         "title": {
          "text": "Frequency, Hz"
         }
        },
        "yaxis": {
         "title": {
          "text": "Magnitude, linear"
         }
        }
       }
      }
     },
     "metadata": {},
     "output_type": "display_data"
    }
   ],
   "source": [
    "import numpy as np\n",
    "import plotly.graph_objects as go\n",
    "from math import pi\n",
    "\n",
    "np.random.seed(42)\n",
    "\n",
    "fs = 4000  # Hz\n",
    "Ts = 1 / fs\n",
    "time = np.arange(0, 20e-3, Ts)  # seconds\n",
    "\n",
    "# Generate periodic signals\n",
    "f1 = 50\n",
    "fmax = 20 * f1\n",
    "F = np.arange(0, fmax, f1)\n",
    "P = np.random.uniform(-pi, pi, len(F))\n",
    "A = np.random.uniform(0, 0.1, len(F))\n",
    "A[1] = 1\n",
    "\n",
    "def get_periodic(A, f1, p, fs, t1, t2):\n",
    "    Ts = 1 / fs\n",
    "    time = np.arange(t1, t2, Ts)  # seconds\n",
    "    periodic = [A * np.cos(2 * pi * f1 * t - p) for t in time]\n",
    "    return periodic, time\n",
    "\n",
    "t1 = 0\n",
    "t2 = 20e-3\n",
    "periodic = np.zeros((len(F),len(time)))\n",
    "for i in range(len(F)):\n",
    "    signal, time = get_periodic(A[i], F[i], P[i], fs, t1, t2)\n",
    "    periodic[i] = signal\n",
    "periodics = np.sum(periodic, axis=0)\n",
    "\n",
    "# Generate white noise\n",
    "noise_max = 0.1\n",
    "noise = np.random.uniform(-noise_max, noise_max, len(time))\n",
    "print(f\"Maximum noise amplitude = {noise_max}\")\n",
    "\n",
    "# Generate aperiodic component\n",
    "fade_coef = 100\n",
    "amp_coef = 1\n",
    "t_start = time[len(time) // 2]  # middle time\n",
    "aperiodic = amp_coef * np.exp(-fade_coef * (time - t_start))\n",
    "aperiodic[time < t_start] = 0  # aperiodic starts form t_start\n",
    "\n",
    "# Sum up all components into one signal\n",
    "signal = 0\n",
    "# signal += periodics\n",
    "# signal += aperiodic\n",
    "signal += noise\n",
    "\n",
    "fig = go.Figure()\n",
    "fig.add_trace(go.Scatter(x=time, y=signal, name=\"noisy\", mode=\"lines+markers\", line=dict(color=\"black\")))\n",
    "fig.add_trace(go.Scatter(x=time, y=periodic[1], name=\"pure\", mode=\"lines+markers\", line=dict(color=\"red\")))\n",
    "# fig.add_trace(go.Scatter(x=time, y=periodic[0], name=\"DC\"))\n",
    "# fig.add_trace(go.Scatter(x=time, y=np.sum(periodic[2:], axis=0), name=\"harmonics\"))\n",
    "# fig.add_trace(go.Scatter(x=time, y=aperiodic, name=\"aperiodic\"))\n",
    "# fig.add_trace(go.Scatter(x=time, y=noise, name=\"noise\"))\n",
    "fig.update_layout(title=\"Digital Signal\", xaxis_title=\"Time, s\", yaxis_title=\"Magnitude, linear\")\n",
    "fig.show()\n",
    "\n",
    "def get_spectrum(signal, fs):\n",
    "    N = len(signal)\n",
    "    res = np.fft.fft(signal,N) / N # complex\n",
    "    freqs = np.fft.fftfreq(len(signal),1/fs)\n",
    "    res = np.fft.fftshift(res)#[N//2:] * 2\n",
    "    freqs = np.fft.fftshift(freqs)#[N//2:]\n",
    "    mags = np.abs(res)\n",
    "    return mags, freqs\n",
    "\n",
    "mags, freqs = get_spectrum(signal, fs)\n",
    "mags1, freqs1 = get_spectrum(periodic[1], fs)\n",
    "\n",
    "fig = go.Figure()\n",
    "# Add the stems (vertical lines)\n",
    "for i in range(len(freqs)):\n",
    "    fig.add_trace(\n",
    "        go.Scatter(\n",
    "            x=[freqs[i], freqs[i]],\n",
    "            y=[0, mags[i]],\n",
    "            mode=\"lines\",\n",
    "            line=dict(color=\"black\", width=2),\n",
    "            showlegend=False,\n",
    "        )\n",
    "    )\n",
    "# Add the markers at stems\n",
    "fig.add_trace(\n",
    "    go.Scatter(\n",
    "        x=freqs,\n",
    "        y=mags,\n",
    "        mode=\"markers\",\n",
    "        marker=dict(color=\"black\", size=8),\n",
    "        name=\"noisy\",\n",
    "    )\n",
    ")\n",
    "for i in range(len(freqs)):\n",
    "    fig.add_trace(\n",
    "        go.Scatter(\n",
    "            x=[freqs1[i], freqs1[i]],\n",
    "            y=[0, mags1[i]],\n",
    "            mode=\"lines\",\n",
    "            line=dict(color=\"red\", width=2),\n",
    "            showlegend=False,\n",
    "        )\n",
    "    )\n",
    "# Add the markers at stems\n",
    "fig.add_trace(\n",
    "    go.Scatter(\n",
    "        x=freqs1,\n",
    "        y=mags1,\n",
    "        mode=\"markers\",\n",
    "        marker=dict(color=\"red\", size=4),\n",
    "        name=\"pure\",\n",
    "    )\n",
    ")\n",
    "fig.update_layout(title=\"DFT Spectrum\", xaxis_title=\"Frequency, Hz\", yaxis_title=\"Magnitude, linear\")\n",
    "fig.show()\n"
   ]
  },
  {
   "cell_type": "code",
   "execution_count": 75,
   "metadata": {},
   "outputs": [
    {
     "data": {
      "text/plain": [
       "array([-2000., -1950., -1900., -1850., -1800., -1750., -1700., -1650.,\n",
       "       -1600., -1550., -1500., -1450., -1400., -1350., -1300., -1250.,\n",
       "       -1200., -1150., -1100., -1050., -1000.,  -950.,  -900.,  -850.,\n",
       "        -800.,  -750.,  -700.,  -650.,  -600.,  -550.,  -500.,  -450.,\n",
       "        -400.,  -350.,  -300.,  -250.,  -200.,  -150.,  -100.,   -50.,\n",
       "           0.,    50.,   100.,   150.,   200.,   250.,   300.,   350.,\n",
       "         400.,   450.,   500.,   550.,   600.,   650.,   700.,   750.,\n",
       "         800.,   850.,   900.,   950.,  1000.,  1050.,  1100.,  1150.,\n",
       "        1200.,  1250.,  1300.,  1350.,  1400.,  1450.,  1500.,  1550.,\n",
       "        1600.,  1650.,  1700.,  1750.,  1800.,  1850.,  1900.,  1950.])"
      ]
     },
     "execution_count": 75,
     "metadata": {},
     "output_type": "execute_result"
    }
   ],
   "source": [
    "freqs"
   ]
  },
  {
   "cell_type": "code",
   "execution_count": 76,
   "metadata": {},
   "outputs": [
    {
     "data": {
      "text/plain": [
       "80"
      ]
     },
     "execution_count": 76,
     "metadata": {},
     "output_type": "execute_result"
    }
   ],
   "source": [
    "N"
   ]
  },
  {
   "cell_type": "code",
   "execution_count": null,
   "metadata": {},
   "outputs": [],
   "source": []
  }
 ],
 "metadata": {
  "kernelspec": {
   "display_name": "base",
   "language": "python",
   "name": "python3"
  },
  "language_info": {
   "codemirror_mode": {
    "name": "ipython",
    "version": 3
   },
   "file_extension": ".py",
   "mimetype": "text/x-python",
   "name": "python",
   "nbconvert_exporter": "python",
   "pygments_lexer": "ipython3",
   "version": "3.12.4"
  }
 },
 "nbformat": 4,
 "nbformat_minor": 2
}
