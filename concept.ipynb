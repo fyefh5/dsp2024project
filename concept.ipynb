{
 "cells": [
  {
   "cell_type": "code",
   "execution_count": null,
   "metadata": {},
   "outputs": [
    {
     "name": "stdout",
     "output_type": "stream",
     "text": [
      "Maximum noise amplitude = 0.1\n"
     ]
    },
    {
     "data": {
      "application/vnd.plotly.v1+json": {
       "config": {
        "plotlyServerURL": "https://plot.ly"
       },
       "data": [
        {
         "line": {
          "color": "black"
         },
         "mode": "lines+markers",
         "name": "signal",
         "type": "scatter",
         "x": [
          0,
          0.00025,
          0.0005,
          0.00075,
          0.001,
          0.00125,
          0.0015,
          0.00175,
          0.002,
          0.0022500000000000003,
          0.0025,
          0.00275,
          0.003,
          0.0032500000000000003,
          0.0035,
          0.00375,
          0.004,
          0.00425,
          0.0045000000000000005,
          0.00475,
          0.005,
          0.00525,
          0.0055,
          0.00575,
          0.006,
          0.00625,
          0.006500000000000001,
          0.00675,
          0.007,
          0.00725,
          0.0075,
          0.00775,
          0.008,
          0.00825,
          0.0085,
          0.00875,
          0.009000000000000001,
          0.00925,
          0.0095,
          0.00975,
          0.01,
          0.01025,
          0.0105,
          0.010750000000000001,
          0.011,
          0.01125,
          0.0115,
          0.01175,
          0.012,
          0.01225,
          0.0125,
          0.012750000000000001,
          0.013000000000000001,
          0.01325,
          0.0135,
          0.01375,
          0.014,
          0.01425,
          0.0145,
          0.014750000000000001,
          0.015,
          0.01525,
          0.0155,
          0.01575,
          0.016,
          0.01625,
          0.0165,
          0.01675,
          0.017,
          0.01725,
          0.0175,
          0.017750000000000002,
          0.018000000000000002,
          0.01825,
          0.0185,
          0.01875,
          0.019,
          0.01925,
          0.0195,
          0.01975
         ],
         "y": [
          -1.0313977998053232,
          -0.7439224707605225,
          -0.7853783166964194,
          -0.9886310399514394,
          -1.0470803999366962,
          -0.941342445766548,
          -0.8226817898235571,
          -0.7366775611596024,
          -0.6871065967067249,
          -0.7685542674695055,
          -0.9854337936561846,
          -1.0998065428159098,
          -0.9341497072597847,
          -0.7059699077038706,
          -0.7529856033799022,
          -0.9902131739644171,
          -0.9834654269716069,
          -0.5840897451621303,
          -0.14744920449515045,
          -0.012735128644421528,
          -0.08104883765004062,
          -0.09131523903389098,
          -0.037436564099962294,
          -0.050007809489928674,
          -0.06288870434693819,
          0.0909795772147568,
          0.34572190011021053,
          0.46506361610346164,
          0.4178019008876731,
          0.41693008317482133,
          0.5578007072330806,
          0.6758577727963054,
          0.6445629404811376,
          0.584865453720595,
          0.6488693992505145,
          0.778629029358616,
          0.838930328198581,
          0.8538550137338439,
          0.933482294740491,
          1.0497814277514794,
          1.069279313133285,
          0.9812924837830201,
          0.9282120863392689,
          0.9911247204981345,
          1.0766716944402355,
          1.061115387869444,
          0.9550553737474431,
          0.8730102834934849,
          0.8931840166091067,
          0.9887507535098666,
          1.069103638976215,
          1.0635559083132398,
          0.9762061867727541,
          0.8631801515434803,
          0.756341942136429,
          0.6406964976474236,
          0.5217416498995798,
          0.45633008571366873,
          0.4628195633971862,
          0.4527377350008368,
          0.33272500342296274,
          0.14431461805545961,
          0.016285063494865623,
          -0.004897779948205341,
          0.008706568780235659,
          -0.014053808208146293,
          -0.07701041129963901,
          -0.15642671612544082,
          -0.2133282561001914,
          -0.19152910124672695,
          -0.12300095819063042,
          -0.19796577544900523,
          -0.5436930429094795,
          -0.9308076966790809,
          -0.9497028234500068,
          -0.5806993040817974,
          -0.3328640512330005,
          -0.6072421465827634,
          -1.129825724628486,
          -1.3096093796270476
         ]
        },
        {
         "line": {
          "color": "red"
         },
         "mode": "lines+markers",
         "name": "50 Hz",
         "type": "scatter",
         "x": [
          0,
          0.00025,
          0.0005,
          0.00075,
          0.001,
          0.00125,
          0.0015,
          0.00175,
          0.002,
          0.0022500000000000003,
          0.0025,
          0.00275,
          0.003,
          0.0032500000000000003,
          0.0035,
          0.00375,
          0.004,
          0.00425,
          0.0045000000000000005,
          0.00475,
          0.005,
          0.00525,
          0.0055,
          0.00575,
          0.006,
          0.00625,
          0.006500000000000001,
          0.00675,
          0.007,
          0.00725,
          0.0075,
          0.00775,
          0.008,
          0.00825,
          0.0085,
          0.00875,
          0.009000000000000001,
          0.00925,
          0.0095,
          0.00975,
          0.01,
          0.01025,
          0.0105,
          0.010750000000000001,
          0.011,
          0.01125,
          0.0115,
          0.01175,
          0.012,
          0.01225,
          0.0125,
          0.012750000000000001,
          0.013000000000000001,
          0.01325,
          0.0135,
          0.01375,
          0.014,
          0.01425,
          0.0145,
          0.014750000000000001,
          0.015,
          0.01525,
          0.0155,
          0.01575,
          0.016,
          0.01625,
          0.0165,
          0.01675,
          0.017,
          0.01725,
          0.0175,
          0.017750000000000002,
          0.018000000000000002,
          0.01825,
          0.0185,
          0.01875,
          0.019,
          0.01925,
          0.0195,
          0.01975
         ],
         "y": [
          -0.9524338381967461,
          -0.9734078542664714,
          -0.9883804872236855,
          -0.9972594258073018,
          -0.9999899284084053,
          -0.9965551605704761,
          -0.9869762987794113,
          -0.9713123999034474,
          -0.9496600370879298,
          -0.9221527043497574,
          -0.8889599935423774,
          -0.8502865487656137,
          -0.8063708046667404,
          -0.7574835164115936,
          -0.7039260903889402,
          -0.6460287259398598,
          -0.58414837956901,
          -0.5186665641890688,
          -0.44998699696676814,
          -0.37853311027230574,
          -0.304745441077983,
          -0.22907891490127116,
          -0.1520000410377246,
          -0.07398403637603682,
          0.004488104472096947,
          0.08293257466371494,
          0.1608657379546507,
          0.23780711047781075,
          0.31328232308598547,
          0.3868260459953913,
          0.4579848576985229,
          0.5263200404585237,
          0.5914102851499232,
          0.6528542887694979,
          0.7102732286027269,
          0.7633130977918048,
          0.8116468879056339,
          0.8549766050555452,
          0.8930351071267186,
          0.9255877507981479,
          0.9524338381967461,
          0.9734078542664715,
          0.9883804872236855,
          0.9972594258073018,
          0.9999899284084053,
          0.9965551605704761,
          0.9869762987794113,
          0.9713123999034473,
          0.9496600370879296,
          0.9221527043497573,
          0.8889599935423774,
          0.8502865487656135,
          0.8063708046667399,
          0.7574835164115936,
          0.7039260903889402,
          0.6460287259398599,
          0.5841483795690101,
          0.5186665641890689,
          0.44998699696676825,
          0.37853311027230585,
          0.3047454410779831,
          0.2290789149012713,
          0.15200004103772471,
          0.07398403637603694,
          -0.004488104472096825,
          -0.08293257466371481,
          -0.16086573795465234,
          -0.23780711047781064,
          -0.3132823230859862,
          -0.38682604599539117,
          -0.45798485769852276,
          -0.5263200404585235,
          -0.5914102851499239,
          -0.6528542887694971,
          -0.7102732286027269,
          -0.7633130977918048,
          -0.8116468879056328,
          -0.8549766050555452,
          -0.8930351071267185,
          -0.9255877507981479
         ]
        }
       ],
       "layout": {
        "template": {
         "data": {
          "bar": [
           {
            "error_x": {
             "color": "#2a3f5f"
            },
            "error_y": {
             "color": "#2a3f5f"
            },
            "marker": {
             "line": {
              "color": "#E5ECF6",
              "width": 0.5
             },
             "pattern": {
              "fillmode": "overlay",
              "size": 10,
              "solidity": 0.2
             }
            },
            "type": "bar"
           }
          ],
          "barpolar": [
           {
            "marker": {
             "line": {
              "color": "#E5ECF6",
              "width": 0.5
             },
             "pattern": {
              "fillmode": "overlay",
              "size": 10,
              "solidity": 0.2
             }
            },
            "type": "barpolar"
           }
          ],
          "carpet": [
           {
            "aaxis": {
             "endlinecolor": "#2a3f5f",
             "gridcolor": "white",
             "linecolor": "white",
             "minorgridcolor": "white",
             "startlinecolor": "#2a3f5f"
            },
            "baxis": {
             "endlinecolor": "#2a3f5f",
             "gridcolor": "white",
             "linecolor": "white",
             "minorgridcolor": "white",
             "startlinecolor": "#2a3f5f"
            },
            "type": "carpet"
           }
          ],
          "choropleth": [
           {
            "colorbar": {
             "outlinewidth": 0,
             "ticks": ""
            },
            "type": "choropleth"
           }
          ],
          "contour": [
           {
            "colorbar": {
             "outlinewidth": 0,
             "ticks": ""
            },
            "colorscale": [
             [
              0,
              "#0d0887"
             ],
             [
              0.1111111111111111,
              "#46039f"
             ],
             [
              0.2222222222222222,
              "#7201a8"
             ],
             [
              0.3333333333333333,
              "#9c179e"
             ],
             [
              0.4444444444444444,
              "#bd3786"
             ],
             [
              0.5555555555555556,
              "#d8576b"
             ],
             [
              0.6666666666666666,
              "#ed7953"
             ],
             [
              0.7777777777777778,
              "#fb9f3a"
             ],
             [
              0.8888888888888888,
              "#fdca26"
             ],
             [
              1,
              "#f0f921"
             ]
            ],
            "type": "contour"
           }
          ],
          "contourcarpet": [
           {
            "colorbar": {
             "outlinewidth": 0,
             "ticks": ""
            },
            "type": "contourcarpet"
           }
          ],
          "heatmap": [
           {
            "colorbar": {
             "outlinewidth": 0,
             "ticks": ""
            },
            "colorscale": [
             [
              0,
              "#0d0887"
             ],
             [
              0.1111111111111111,
              "#46039f"
             ],
             [
              0.2222222222222222,
              "#7201a8"
             ],
             [
              0.3333333333333333,
              "#9c179e"
             ],
             [
              0.4444444444444444,
              "#bd3786"
             ],
             [
              0.5555555555555556,
              "#d8576b"
             ],
             [
              0.6666666666666666,
              "#ed7953"
             ],
             [
              0.7777777777777778,
              "#fb9f3a"
             ],
             [
              0.8888888888888888,
              "#fdca26"
             ],
             [
              1,
              "#f0f921"
             ]
            ],
            "type": "heatmap"
           }
          ],
          "heatmapgl": [
           {
            "colorbar": {
             "outlinewidth": 0,
             "ticks": ""
            },
            "colorscale": [
             [
              0,
              "#0d0887"
             ],
             [
              0.1111111111111111,
              "#46039f"
             ],
             [
              0.2222222222222222,
              "#7201a8"
             ],
             [
              0.3333333333333333,
              "#9c179e"
             ],
             [
              0.4444444444444444,
              "#bd3786"
             ],
             [
              0.5555555555555556,
              "#d8576b"
             ],
             [
              0.6666666666666666,
              "#ed7953"
             ],
             [
              0.7777777777777778,
              "#fb9f3a"
             ],
             [
              0.8888888888888888,
              "#fdca26"
             ],
             [
              1,
              "#f0f921"
             ]
            ],
            "type": "heatmapgl"
           }
          ],
          "histogram": [
           {
            "marker": {
             "pattern": {
              "fillmode": "overlay",
              "size": 10,
              "solidity": 0.2
             }
            },
            "type": "histogram"
           }
          ],
          "histogram2d": [
           {
            "colorbar": {
             "outlinewidth": 0,
             "ticks": ""
            },
            "colorscale": [
             [
              0,
              "#0d0887"
             ],
             [
              0.1111111111111111,
              "#46039f"
             ],
             [
              0.2222222222222222,
              "#7201a8"
             ],
             [
              0.3333333333333333,
              "#9c179e"
             ],
             [
              0.4444444444444444,
              "#bd3786"
             ],
             [
              0.5555555555555556,
              "#d8576b"
             ],
             [
              0.6666666666666666,
              "#ed7953"
             ],
             [
              0.7777777777777778,
              "#fb9f3a"
             ],
             [
              0.8888888888888888,
              "#fdca26"
             ],
             [
              1,
              "#f0f921"
             ]
            ],
            "type": "histogram2d"
           }
          ],
          "histogram2dcontour": [
           {
            "colorbar": {
             "outlinewidth": 0,
             "ticks": ""
            },
            "colorscale": [
             [
              0,
              "#0d0887"
             ],
             [
              0.1111111111111111,
              "#46039f"
             ],
             [
              0.2222222222222222,
              "#7201a8"
             ],
             [
              0.3333333333333333,
              "#9c179e"
             ],
             [
              0.4444444444444444,
              "#bd3786"
             ],
             [
              0.5555555555555556,
              "#d8576b"
             ],
             [
              0.6666666666666666,
              "#ed7953"
             ],
             [
              0.7777777777777778,
              "#fb9f3a"
             ],
             [
              0.8888888888888888,
              "#fdca26"
             ],
             [
              1,
              "#f0f921"
             ]
            ],
            "type": "histogram2dcontour"
           }
          ],
          "mesh3d": [
           {
            "colorbar": {
             "outlinewidth": 0,
             "ticks": ""
            },
            "type": "mesh3d"
           }
          ],
          "parcoords": [
           {
            "line": {
             "colorbar": {
              "outlinewidth": 0,
              "ticks": ""
             }
            },
            "type": "parcoords"
           }
          ],
          "pie": [
           {
            "automargin": true,
            "type": "pie"
           }
          ],
          "scatter": [
           {
            "fillpattern": {
             "fillmode": "overlay",
             "size": 10,
             "solidity": 0.2
            },
            "type": "scatter"
           }
          ],
          "scatter3d": [
           {
            "line": {
             "colorbar": {
              "outlinewidth": 0,
              "ticks": ""
             }
            },
            "marker": {
             "colorbar": {
              "outlinewidth": 0,
              "ticks": ""
             }
            },
            "type": "scatter3d"
           }
          ],
          "scattercarpet": [
           {
            "marker": {
             "colorbar": {
              "outlinewidth": 0,
              "ticks": ""
             }
            },
            "type": "scattercarpet"
           }
          ],
          "scattergeo": [
           {
            "marker": {
             "colorbar": {
              "outlinewidth": 0,
              "ticks": ""
             }
            },
            "type": "scattergeo"
           }
          ],
          "scattergl": [
           {
            "marker": {
             "colorbar": {
              "outlinewidth": 0,
              "ticks": ""
             }
            },
            "type": "scattergl"
           }
          ],
          "scattermapbox": [
           {
            "marker": {
             "colorbar": {
              "outlinewidth": 0,
              "ticks": ""
             }
            },
            "type": "scattermapbox"
           }
          ],
          "scatterpolar": [
           {
            "marker": {
             "colorbar": {
              "outlinewidth": 0,
              "ticks": ""
             }
            },
            "type": "scatterpolar"
           }
          ],
          "scatterpolargl": [
           {
            "marker": {
             "colorbar": {
              "outlinewidth": 0,
              "ticks": ""
             }
            },
            "type": "scatterpolargl"
           }
          ],
          "scatterternary": [
           {
            "marker": {
             "colorbar": {
              "outlinewidth": 0,
              "ticks": ""
             }
            },
            "type": "scatterternary"
           }
          ],
          "surface": [
           {
            "colorbar": {
             "outlinewidth": 0,
             "ticks": ""
            },
            "colorscale": [
             [
              0,
              "#0d0887"
             ],
             [
              0.1111111111111111,
              "#46039f"
             ],
             [
              0.2222222222222222,
              "#7201a8"
             ],
             [
              0.3333333333333333,
              "#9c179e"
             ],
             [
              0.4444444444444444,
              "#bd3786"
             ],
             [
              0.5555555555555556,
              "#d8576b"
             ],
             [
              0.6666666666666666,
              "#ed7953"
             ],
             [
              0.7777777777777778,
              "#fb9f3a"
             ],
             [
              0.8888888888888888,
              "#fdca26"
             ],
             [
              1,
              "#f0f921"
             ]
            ],
            "type": "surface"
           }
          ],
          "table": [
           {
            "cells": {
             "fill": {
              "color": "#EBF0F8"
             },
             "line": {
              "color": "white"
             }
            },
            "header": {
             "fill": {
              "color": "#C8D4E3"
             },
             "line": {
              "color": "white"
             }
            },
            "type": "table"
           }
          ]
         },
         "layout": {
          "annotationdefaults": {
           "arrowcolor": "#2a3f5f",
           "arrowhead": 0,
           "arrowwidth": 1
          },
          "autotypenumbers": "strict",
          "coloraxis": {
           "colorbar": {
            "outlinewidth": 0,
            "ticks": ""
           }
          },
          "colorscale": {
           "diverging": [
            [
             0,
             "#8e0152"
            ],
            [
             0.1,
             "#c51b7d"
            ],
            [
             0.2,
             "#de77ae"
            ],
            [
             0.3,
             "#f1b6da"
            ],
            [
             0.4,
             "#fde0ef"
            ],
            [
             0.5,
             "#f7f7f7"
            ],
            [
             0.6,
             "#e6f5d0"
            ],
            [
             0.7,
             "#b8e186"
            ],
            [
             0.8,
             "#7fbc41"
            ],
            [
             0.9,
             "#4d9221"
            ],
            [
             1,
             "#276419"
            ]
           ],
           "sequential": [
            [
             0,
             "#0d0887"
            ],
            [
             0.1111111111111111,
             "#46039f"
            ],
            [
             0.2222222222222222,
             "#7201a8"
            ],
            [
             0.3333333333333333,
             "#9c179e"
            ],
            [
             0.4444444444444444,
             "#bd3786"
            ],
            [
             0.5555555555555556,
             "#d8576b"
            ],
            [
             0.6666666666666666,
             "#ed7953"
            ],
            [
             0.7777777777777778,
             "#fb9f3a"
            ],
            [
             0.8888888888888888,
             "#fdca26"
            ],
            [
             1,
             "#f0f921"
            ]
           ],
           "sequentialminus": [
            [
             0,
             "#0d0887"
            ],
            [
             0.1111111111111111,
             "#46039f"
            ],
            [
             0.2222222222222222,
             "#7201a8"
            ],
            [
             0.3333333333333333,
             "#9c179e"
            ],
            [
             0.4444444444444444,
             "#bd3786"
            ],
            [
             0.5555555555555556,
             "#d8576b"
            ],
            [
             0.6666666666666666,
             "#ed7953"
            ],
            [
             0.7777777777777778,
             "#fb9f3a"
            ],
            [
             0.8888888888888888,
             "#fdca26"
            ],
            [
             1,
             "#f0f921"
            ]
           ]
          },
          "colorway": [
           "#636efa",
           "#EF553B",
           "#00cc96",
           "#ab63fa",
           "#FFA15A",
           "#19d3f3",
           "#FF6692",
           "#B6E880",
           "#FF97FF",
           "#FECB52"
          ],
          "font": {
           "color": "#2a3f5f"
          },
          "geo": {
           "bgcolor": "white",
           "lakecolor": "white",
           "landcolor": "#E5ECF6",
           "showlakes": true,
           "showland": true,
           "subunitcolor": "white"
          },
          "hoverlabel": {
           "align": "left"
          },
          "hovermode": "closest",
          "mapbox": {
           "style": "light"
          },
          "paper_bgcolor": "white",
          "plot_bgcolor": "#E5ECF6",
          "polar": {
           "angularaxis": {
            "gridcolor": "white",
            "linecolor": "white",
            "ticks": ""
           },
           "bgcolor": "#E5ECF6",
           "radialaxis": {
            "gridcolor": "white",
            "linecolor": "white",
            "ticks": ""
           }
          },
          "scene": {
           "xaxis": {
            "backgroundcolor": "#E5ECF6",
            "gridcolor": "white",
            "gridwidth": 2,
            "linecolor": "white",
            "showbackground": true,
            "ticks": "",
            "zerolinecolor": "white"
           },
           "yaxis": {
            "backgroundcolor": "#E5ECF6",
            "gridcolor": "white",
            "gridwidth": 2,
            "linecolor": "white",
            "showbackground": true,
            "ticks": "",
            "zerolinecolor": "white"
           },
           "zaxis": {
            "backgroundcolor": "#E5ECF6",
            "gridcolor": "white",
            "gridwidth": 2,
            "linecolor": "white",
            "showbackground": true,
            "ticks": "",
            "zerolinecolor": "white"
           }
          },
          "shapedefaults": {
           "line": {
            "color": "#2a3f5f"
           }
          },
          "ternary": {
           "aaxis": {
            "gridcolor": "white",
            "linecolor": "white",
            "ticks": ""
           },
           "baxis": {
            "gridcolor": "white",
            "linecolor": "white",
            "ticks": ""
           },
           "bgcolor": "#E5ECF6",
           "caxis": {
            "gridcolor": "white",
            "linecolor": "white",
            "ticks": ""
           }
          },
          "title": {
           "x": 0.05
          },
          "xaxis": {
           "automargin": true,
           "gridcolor": "white",
           "linecolor": "white",
           "ticks": "",
           "title": {
            "standoff": 15
           },
           "zerolinecolor": "white",
           "zerolinewidth": 2
          },
          "yaxis": {
           "automargin": true,
           "gridcolor": "white",
           "linecolor": "white",
           "ticks": "",
           "title": {
            "standoff": 15
           },
           "zerolinecolor": "white",
           "zerolinewidth": 2
          }
         }
        },
        "title": {
         "text": "Digital Signal"
        },
        "xaxis": {
         "title": {
          "text": "Time, s"
         }
        },
        "yaxis": {
         "title": {
          "text": "Magnitude, linear"
         }
        }
       }
      }
     },
     "metadata": {},
     "output_type": "display_data"
    },
    {
     "data": {
      "application/vnd.plotly.v1+json": {
       "config": {
        "plotlyServerURL": "https://plot.ly"
       },
       "data": [
        {
         "line": {
          "color": "black",
          "width": 2
         },
         "mode": "lines",
         "showlegend": false,
         "type": "scatter",
         "x": [
          0,
          0
         ],
         "y": [
          0,
          0.08627867797057671
         ]
        },
        {
         "line": {
          "color": "black",
          "width": 2
         },
         "mode": "lines",
         "showlegend": false,
         "type": "scatter",
         "x": [
          50,
          50
         ],
         "y": [
          0,
          1
         ]
        },
        {
         "line": {
          "color": "black",
          "width": 2
         },
         "mode": "lines",
         "showlegend": false,
         "type": "scatter",
         "x": [
          100,
          100
         ],
         "y": [
          0,
          0.029214464853521693
         ]
        },
        {
         "line": {
          "color": "black",
          "width": 2
         },
         "mode": "lines",
         "showlegend": false,
         "type": "scatter",
         "x": [
          150,
          150
         ],
         "y": [
          0,
          0.03663618432936923
         ]
        },
        {
         "line": {
          "color": "black",
          "width": 2
         },
         "mode": "lines",
         "showlegend": false,
         "type": "scatter",
         "x": [
          200,
          200
         ],
         "y": [
          0,
          0.04560699842170338
         ]
        },
        {
         "line": {
          "color": "black",
          "width": 2
         },
         "mode": "lines",
         "showlegend": false,
         "type": "scatter",
         "x": [
          250,
          250
         ],
         "y": [
          0,
          0.07851759613930115
         ]
        },
        {
         "line": {
          "color": "black",
          "width": 2
         },
         "mode": "lines",
         "showlegend": false,
         "type": "scatter",
         "x": [
          300,
          300
         ],
         "y": [
          0,
          0.019967378215836017
         ]
        },
        {
         "line": {
          "color": "black",
          "width": 2
         },
         "mode": "lines",
         "showlegend": false,
         "type": "scatter",
         "x": [
          350,
          350
         ],
         "y": [
          0,
          0.05142344384136107
         ]
        },
        {
         "line": {
          "color": "black",
          "width": 2
         },
         "mode": "lines",
         "showlegend": false,
         "type": "scatter",
         "x": [
          400,
          400
         ],
         "y": [
          0,
          0.05924145688620429
         ]
        },
        {
         "line": {
          "color": "black",
          "width": 2
         },
         "mode": "lines",
         "showlegend": false,
         "type": "scatter",
         "x": [
          450,
          450
         ],
         "y": [
          0,
          0.004645041272000022
         ]
        },
        {
         "line": {
          "color": "black",
          "width": 2
         },
         "mode": "lines",
         "showlegend": false,
         "type": "scatter",
         "x": [
          500,
          500
         ],
         "y": [
          0,
          0.060754485190143856
         ]
        },
        {
         "line": {
          "color": "black",
          "width": 2
         },
         "mode": "lines",
         "showlegend": false,
         "type": "scatter",
         "x": [
          550,
          550
         ],
         "y": [
          0,
          0.017052412368729435
         ]
        },
        {
         "line": {
          "color": "black",
          "width": 2
         },
         "mode": "lines",
         "showlegend": false,
         "type": "scatter",
         "x": [
          600,
          600
         ],
         "y": [
          0,
          0.006505159298528008
         ]
        },
        {
         "line": {
          "color": "black",
          "width": 2
         },
         "mode": "lines",
         "showlegend": false,
         "type": "scatter",
         "x": [
          650,
          650
         ],
         "y": [
          0,
          0.0948885537253333
         ]
        },
        {
         "line": {
          "color": "black",
          "width": 2
         },
         "mode": "lines",
         "showlegend": false,
         "type": "scatter",
         "x": [
          700,
          700
         ],
         "y": [
          0,
          0.09656320330745599
         ]
        },
        {
         "line": {
          "color": "black",
          "width": 2
         },
         "mode": "lines",
         "showlegend": false,
         "type": "scatter",
         "x": [
          750,
          750
         ],
         "y": [
          0,
          0.08083973481164623
         ]
        },
        {
         "line": {
          "color": "black",
          "width": 2
         },
         "mode": "lines",
         "showlegend": false,
         "type": "scatter",
         "x": [
          800,
          800
         ],
         "y": [
          0,
          0.030461376917336944
         ]
        },
        {
         "line": {
          "color": "black",
          "width": 2
         },
         "mode": "lines",
         "showlegend": false,
         "type": "scatter",
         "x": [
          850,
          850
         ],
         "y": [
          0,
          0.009767211400638043
         ]
        },
        {
         "line": {
          "color": "black",
          "width": 2
         },
         "mode": "lines",
         "showlegend": false,
         "type": "scatter",
         "x": [
          900,
          900
         ],
         "y": [
          0,
          0.06842330265121568
         ]
        },
        {
         "line": {
          "color": "black",
          "width": 2
         },
         "mode": "lines",
         "showlegend": false,
         "type": "scatter",
         "x": [
          950,
          950
         ],
         "y": [
          0,
          0.04401524937396024
         ]
        },
        {
         "line": {
          "color": "black",
          "width": 2
         },
         "mode": "lines",
         "showlegend": false,
         "type": "scatter",
         "x": [
          1000,
          1000
         ],
         "y": [
          0,
          1.0324330316215516e-16
         ]
        },
        {
         "line": {
          "color": "black",
          "width": 2
         },
         "mode": "lines",
         "showlegend": false,
         "type": "scatter",
         "x": [
          1050,
          1050
         ],
         "y": [
          0,
          2.220619514822176e-16
         ]
        },
        {
         "line": {
          "color": "black",
          "width": 2
         },
         "mode": "lines",
         "showlegend": false,
         "type": "scatter",
         "x": [
          1100,
          1100
         ],
         "y": [
          0,
          1.4808483997114347e-16
         ]
        },
        {
         "line": {
          "color": "black",
          "width": 2
         },
         "mode": "lines",
         "showlegend": false,
         "type": "scatter",
         "x": [
          1150,
          1150
         ],
         "y": [
          0,
          2.98125641985348e-16
         ]
        },
        {
         "line": {
          "color": "black",
          "width": 2
         },
         "mode": "lines",
         "showlegend": false,
         "type": "scatter",
         "x": [
          1200,
          1200
         ],
         "y": [
          0,
          2.4506774448256456e-16
         ]
        },
        {
         "line": {
          "color": "black",
          "width": 2
         },
         "mode": "lines",
         "showlegend": false,
         "type": "scatter",
         "x": [
          1250,
          1250
         ],
         "y": [
          0,
          2.9275225451776116e-16
         ]
        },
        {
         "line": {
          "color": "black",
          "width": 2
         },
         "mode": "lines",
         "showlegend": false,
         "type": "scatter",
         "x": [
          1300,
          1300
         ],
         "y": [
          0,
          2.2081387728594338e-16
         ]
        },
        {
         "line": {
          "color": "black",
          "width": 2
         },
         "mode": "lines",
         "showlegend": false,
         "type": "scatter",
         "x": [
          1350,
          1350
         ],
         "y": [
          0,
          7.947987303456223e-17
         ]
        },
        {
         "line": {
          "color": "black",
          "width": 2
         },
         "mode": "lines",
         "showlegend": false,
         "type": "scatter",
         "x": [
          1400,
          1400
         ],
         "y": [
          0,
          8.252325904466732e-17
         ]
        },
        {
         "line": {
          "color": "black",
          "width": 2
         },
         "mode": "lines",
         "showlegend": false,
         "type": "scatter",
         "x": [
          1450,
          1450
         ],
         "y": [
          0,
          1.518460842241379e-16
         ]
        },
        {
         "line": {
          "color": "black",
          "width": 2
         },
         "mode": "lines",
         "showlegend": false,
         "type": "scatter",
         "x": [
          1500,
          1500
         ],
         "y": [
          0,
          1.0371267395744223e-16
         ]
        },
        {
         "line": {
          "color": "black",
          "width": 2
         },
         "mode": "lines",
         "showlegend": false,
         "type": "scatter",
         "x": [
          1550,
          1550
         ],
         "y": [
          0,
          1.6011864169946888e-16
         ]
        },
        {
         "line": {
          "color": "black",
          "width": 2
         },
         "mode": "lines",
         "showlegend": false,
         "type": "scatter",
         "x": [
          1600,
          1600
         ],
         "y": [
          0,
          1.128546619428404e-16
         ]
        },
        {
         "line": {
          "color": "black",
          "width": 2
         },
         "mode": "lines",
         "showlegend": false,
         "type": "scatter",
         "x": [
          1650,
          1650
         ],
         "y": [
          0,
          3.239802184842531e-17
         ]
        },
        {
         "line": {
          "color": "black",
          "width": 2
         },
         "mode": "lines",
         "showlegend": false,
         "type": "scatter",
         "x": [
          1700,
          1700
         ],
         "y": [
          0,
          2.226790410280365e-16
         ]
        },
        {
         "line": {
          "color": "black",
          "width": 2
         },
         "mode": "lines",
         "showlegend": false,
         "type": "scatter",
         "x": [
          1750,
          1750
         ],
         "y": [
          0,
          1.1905057257891368e-16
         ]
        },
        {
         "line": {
          "color": "black",
          "width": 2
         },
         "mode": "lines",
         "showlegend": false,
         "type": "scatter",
         "x": [
          1800,
          1800
         ],
         "y": [
          0,
          1.3453295035594508e-16
         ]
        },
        {
         "line": {
          "color": "black",
          "width": 2
         },
         "mode": "lines",
         "showlegend": false,
         "type": "scatter",
         "x": [
          1850,
          1850
         ],
         "y": [
          0,
          2.2979738886043597e-16
         ]
        },
        {
         "line": {
          "color": "black",
          "width": 2
         },
         "mode": "lines",
         "showlegend": false,
         "type": "scatter",
         "x": [
          1900,
          1900
         ],
         "y": [
          0,
          1.156179857640118e-16
         ]
        },
        {
         "line": {
          "color": "black",
          "width": 2
         },
         "mode": "lines",
         "showlegend": false,
         "type": "scatter",
         "x": [
          1950,
          1950
         ],
         "y": [
          0,
          1.3935812942010916e-16
         ]
        },
        {
         "marker": {
          "color": "black",
          "size": 8
         },
         "mode": "markers",
         "name": "Signal",
         "type": "scatter",
         "x": [
          0,
          50,
          100,
          150,
          200,
          250,
          300,
          350,
          400,
          450,
          500,
          550,
          600,
          650,
          700,
          750,
          800,
          850,
          900,
          950,
          1000,
          1050,
          1100,
          1150,
          1200,
          1250,
          1300,
          1350,
          1400,
          1450,
          1500,
          1550,
          1600,
          1650,
          1700,
          1750,
          1800,
          1850,
          1900,
          1950
         ],
         "y": [
          0.08627867797057671,
          1,
          0.029214464853521693,
          0.03663618432936923,
          0.04560699842170338,
          0.07851759613930115,
          0.019967378215836017,
          0.05142344384136107,
          0.05924145688620429,
          0.004645041272000022,
          0.060754485190143856,
          0.017052412368729435,
          0.006505159298528008,
          0.0948885537253333,
          0.09656320330745599,
          0.08083973481164623,
          0.030461376917336944,
          0.009767211400638043,
          0.06842330265121568,
          0.04401524937396024,
          1.0324330316215516e-16,
          2.220619514822176e-16,
          1.4808483997114347e-16,
          2.98125641985348e-16,
          2.4506774448256456e-16,
          2.9275225451776116e-16,
          2.2081387728594338e-16,
          7.947987303456223e-17,
          8.252325904466732e-17,
          1.518460842241379e-16,
          1.0371267395744223e-16,
          1.6011864169946888e-16,
          1.128546619428404e-16,
          3.239802184842531e-17,
          2.226790410280365e-16,
          1.1905057257891368e-16,
          1.3453295035594508e-16,
          2.2979738886043597e-16,
          1.156179857640118e-16,
          1.3935812942010916e-16
         ]
        },
        {
         "line": {
          "color": "red",
          "width": 1
         },
         "mode": "lines",
         "showlegend": false,
         "type": "scatter",
         "x": [
          50,
          50
         ],
         "y": [
          0,
          1
         ]
        },
        {
         "marker": {
          "color": "red",
          "size": 4
         },
         "mode": "markers",
         "name": "Filtered signal",
         "type": "scatter",
         "x": [
          50
         ],
         "y": [
          1
         ]
        }
       ],
       "layout": {
        "template": {
         "data": {
          "bar": [
           {
            "error_x": {
             "color": "#2a3f5f"
            },
            "error_y": {
             "color": "#2a3f5f"
            },
            "marker": {
             "line": {
              "color": "#E5ECF6",
              "width": 0.5
             },
             "pattern": {
              "fillmode": "overlay",
              "size": 10,
              "solidity": 0.2
             }
            },
            "type": "bar"
           }
          ],
          "barpolar": [
           {
            "marker": {
             "line": {
              "color": "#E5ECF6",
              "width": 0.5
             },
             "pattern": {
              "fillmode": "overlay",
              "size": 10,
              "solidity": 0.2
             }
            },
            "type": "barpolar"
           }
          ],
          "carpet": [
           {
            "aaxis": {
             "endlinecolor": "#2a3f5f",
             "gridcolor": "white",
             "linecolor": "white",
             "minorgridcolor": "white",
             "startlinecolor": "#2a3f5f"
            },
            "baxis": {
             "endlinecolor": "#2a3f5f",
             "gridcolor": "white",
             "linecolor": "white",
             "minorgridcolor": "white",
             "startlinecolor": "#2a3f5f"
            },
            "type": "carpet"
           }
          ],
          "choropleth": [
           {
            "colorbar": {
             "outlinewidth": 0,
             "ticks": ""
            },
            "type": "choropleth"
           }
          ],
          "contour": [
           {
            "colorbar": {
             "outlinewidth": 0,
             "ticks": ""
            },
            "colorscale": [
             [
              0,
              "#0d0887"
             ],
             [
              0.1111111111111111,
              "#46039f"
             ],
             [
              0.2222222222222222,
              "#7201a8"
             ],
             [
              0.3333333333333333,
              "#9c179e"
             ],
             [
              0.4444444444444444,
              "#bd3786"
             ],
             [
              0.5555555555555556,
              "#d8576b"
             ],
             [
              0.6666666666666666,
              "#ed7953"
             ],
             [
              0.7777777777777778,
              "#fb9f3a"
             ],
             [
              0.8888888888888888,
              "#fdca26"
             ],
             [
              1,
              "#f0f921"
             ]
            ],
            "type": "contour"
           }
          ],
          "contourcarpet": [
           {
            "colorbar": {
             "outlinewidth": 0,
             "ticks": ""
            },
            "type": "contourcarpet"
           }
          ],
          "heatmap": [
           {
            "colorbar": {
             "outlinewidth": 0,
             "ticks": ""
            },
            "colorscale": [
             [
              0,
              "#0d0887"
             ],
             [
              0.1111111111111111,
              "#46039f"
             ],
             [
              0.2222222222222222,
              "#7201a8"
             ],
             [
              0.3333333333333333,
              "#9c179e"
             ],
             [
              0.4444444444444444,
              "#bd3786"
             ],
             [
              0.5555555555555556,
              "#d8576b"
             ],
             [
              0.6666666666666666,
              "#ed7953"
             ],
             [
              0.7777777777777778,
              "#fb9f3a"
             ],
             [
              0.8888888888888888,
              "#fdca26"
             ],
             [
              1,
              "#f0f921"
             ]
            ],
            "type": "heatmap"
           }
          ],
          "heatmapgl": [
           {
            "colorbar": {
             "outlinewidth": 0,
             "ticks": ""
            },
            "colorscale": [
             [
              0,
              "#0d0887"
             ],
             [
              0.1111111111111111,
              "#46039f"
             ],
             [
              0.2222222222222222,
              "#7201a8"
             ],
             [
              0.3333333333333333,
              "#9c179e"
             ],
             [
              0.4444444444444444,
              "#bd3786"
             ],
             [
              0.5555555555555556,
              "#d8576b"
             ],
             [
              0.6666666666666666,
              "#ed7953"
             ],
             [
              0.7777777777777778,
              "#fb9f3a"
             ],
             [
              0.8888888888888888,
              "#fdca26"
             ],
             [
              1,
              "#f0f921"
             ]
            ],
            "type": "heatmapgl"
           }
          ],
          "histogram": [
           {
            "marker": {
             "pattern": {
              "fillmode": "overlay",
              "size": 10,
              "solidity": 0.2
             }
            },
            "type": "histogram"
           }
          ],
          "histogram2d": [
           {
            "colorbar": {
             "outlinewidth": 0,
             "ticks": ""
            },
            "colorscale": [
             [
              0,
              "#0d0887"
             ],
             [
              0.1111111111111111,
              "#46039f"
             ],
             [
              0.2222222222222222,
              "#7201a8"
             ],
             [
              0.3333333333333333,
              "#9c179e"
             ],
             [
              0.4444444444444444,
              "#bd3786"
             ],
             [
              0.5555555555555556,
              "#d8576b"
             ],
             [
              0.6666666666666666,
              "#ed7953"
             ],
             [
              0.7777777777777778,
              "#fb9f3a"
             ],
             [
              0.8888888888888888,
              "#fdca26"
             ],
             [
              1,
              "#f0f921"
             ]
            ],
            "type": "histogram2d"
           }
          ],
          "histogram2dcontour": [
           {
            "colorbar": {
             "outlinewidth": 0,
             "ticks": ""
            },
            "colorscale": [
             [
              0,
              "#0d0887"
             ],
             [
              0.1111111111111111,
              "#46039f"
             ],
             [
              0.2222222222222222,
              "#7201a8"
             ],
             [
              0.3333333333333333,
              "#9c179e"
             ],
             [
              0.4444444444444444,
              "#bd3786"
             ],
             [
              0.5555555555555556,
              "#d8576b"
             ],
             [
              0.6666666666666666,
              "#ed7953"
             ],
             [
              0.7777777777777778,
              "#fb9f3a"
             ],
             [
              0.8888888888888888,
              "#fdca26"
             ],
             [
              1,
              "#f0f921"
             ]
            ],
            "type": "histogram2dcontour"
           }
          ],
          "mesh3d": [
           {
            "colorbar": {
             "outlinewidth": 0,
             "ticks": ""
            },
            "type": "mesh3d"
           }
          ],
          "parcoords": [
           {
            "line": {
             "colorbar": {
              "outlinewidth": 0,
              "ticks": ""
             }
            },
            "type": "parcoords"
           }
          ],
          "pie": [
           {
            "automargin": true,
            "type": "pie"
           }
          ],
          "scatter": [
           {
            "fillpattern": {
             "fillmode": "overlay",
             "size": 10,
             "solidity": 0.2
            },
            "type": "scatter"
           }
          ],
          "scatter3d": [
           {
            "line": {
             "colorbar": {
              "outlinewidth": 0,
              "ticks": ""
             }
            },
            "marker": {
             "colorbar": {
              "outlinewidth": 0,
              "ticks": ""
             }
            },
            "type": "scatter3d"
           }
          ],
          "scattercarpet": [
           {
            "marker": {
             "colorbar": {
              "outlinewidth": 0,
              "ticks": ""
             }
            },
            "type": "scattercarpet"
           }
          ],
          "scattergeo": [
           {
            "marker": {
             "colorbar": {
              "outlinewidth": 0,
              "ticks": ""
             }
            },
            "type": "scattergeo"
           }
          ],
          "scattergl": [
           {
            "marker": {
             "colorbar": {
              "outlinewidth": 0,
              "ticks": ""
             }
            },
            "type": "scattergl"
           }
          ],
          "scattermapbox": [
           {
            "marker": {
             "colorbar": {
              "outlinewidth": 0,
              "ticks": ""
             }
            },
            "type": "scattermapbox"
           }
          ],
          "scatterpolar": [
           {
            "marker": {
             "colorbar": {
              "outlinewidth": 0,
              "ticks": ""
             }
            },
            "type": "scatterpolar"
           }
          ],
          "scatterpolargl": [
           {
            "marker": {
             "colorbar": {
              "outlinewidth": 0,
              "ticks": ""
             }
            },
            "type": "scatterpolargl"
           }
          ],
          "scatterternary": [
           {
            "marker": {
             "colorbar": {
              "outlinewidth": 0,
              "ticks": ""
             }
            },
            "type": "scatterternary"
           }
          ],
          "surface": [
           {
            "colorbar": {
             "outlinewidth": 0,
             "ticks": ""
            },
            "colorscale": [
             [
              0,
              "#0d0887"
             ],
             [
              0.1111111111111111,
              "#46039f"
             ],
             [
              0.2222222222222222,
              "#7201a8"
             ],
             [
              0.3333333333333333,
              "#9c179e"
             ],
             [
              0.4444444444444444,
              "#bd3786"
             ],
             [
              0.5555555555555556,
              "#d8576b"
             ],
             [
              0.6666666666666666,
              "#ed7953"
             ],
             [
              0.7777777777777778,
              "#fb9f3a"
             ],
             [
              0.8888888888888888,
              "#fdca26"
             ],
             [
              1,
              "#f0f921"
             ]
            ],
            "type": "surface"
           }
          ],
          "table": [
           {
            "cells": {
             "fill": {
              "color": "#EBF0F8"
             },
             "line": {
              "color": "white"
             }
            },
            "header": {
             "fill": {
              "color": "#C8D4E3"
             },
             "line": {
              "color": "white"
             }
            },
            "type": "table"
           }
          ]
         },
         "layout": {
          "annotationdefaults": {
           "arrowcolor": "#2a3f5f",
           "arrowhead": 0,
           "arrowwidth": 1
          },
          "autotypenumbers": "strict",
          "coloraxis": {
           "colorbar": {
            "outlinewidth": 0,
            "ticks": ""
           }
          },
          "colorscale": {
           "diverging": [
            [
             0,
             "#8e0152"
            ],
            [
             0.1,
             "#c51b7d"
            ],
            [
             0.2,
             "#de77ae"
            ],
            [
             0.3,
             "#f1b6da"
            ],
            [
             0.4,
             "#fde0ef"
            ],
            [
             0.5,
             "#f7f7f7"
            ],
            [
             0.6,
             "#e6f5d0"
            ],
            [
             0.7,
             "#b8e186"
            ],
            [
             0.8,
             "#7fbc41"
            ],
            [
             0.9,
             "#4d9221"
            ],
            [
             1,
             "#276419"
            ]
           ],
           "sequential": [
            [
             0,
             "#0d0887"
            ],
            [
             0.1111111111111111,
             "#46039f"
            ],
            [
             0.2222222222222222,
             "#7201a8"
            ],
            [
             0.3333333333333333,
             "#9c179e"
            ],
            [
             0.4444444444444444,
             "#bd3786"
            ],
            [
             0.5555555555555556,
             "#d8576b"
            ],
            [
             0.6666666666666666,
             "#ed7953"
            ],
            [
             0.7777777777777778,
             "#fb9f3a"
            ],
            [
             0.8888888888888888,
             "#fdca26"
            ],
            [
             1,
             "#f0f921"
            ]
           ],
           "sequentialminus": [
            [
             0,
             "#0d0887"
            ],
            [
             0.1111111111111111,
             "#46039f"
            ],
            [
             0.2222222222222222,
             "#7201a8"
            ],
            [
             0.3333333333333333,
             "#9c179e"
            ],
            [
             0.4444444444444444,
             "#bd3786"
            ],
            [
             0.5555555555555556,
             "#d8576b"
            ],
            [
             0.6666666666666666,
             "#ed7953"
            ],
            [
             0.7777777777777778,
             "#fb9f3a"
            ],
            [
             0.8888888888888888,
             "#fdca26"
            ],
            [
             1,
             "#f0f921"
            ]
           ]
          },
          "colorway": [
           "#636efa",
           "#EF553B",
           "#00cc96",
           "#ab63fa",
           "#FFA15A",
           "#19d3f3",
           "#FF6692",
           "#B6E880",
           "#FF97FF",
           "#FECB52"
          ],
          "font": {
           "color": "#2a3f5f"
          },
          "geo": {
           "bgcolor": "white",
           "lakecolor": "white",
           "landcolor": "#E5ECF6",
           "showlakes": true,
           "showland": true,
           "subunitcolor": "white"
          },
          "hoverlabel": {
           "align": "left"
          },
          "hovermode": "closest",
          "mapbox": {
           "style": "light"
          },
          "paper_bgcolor": "white",
          "plot_bgcolor": "#E5ECF6",
          "polar": {
           "angularaxis": {
            "gridcolor": "white",
            "linecolor": "white",
            "ticks": ""
           },
           "bgcolor": "#E5ECF6",
           "radialaxis": {
            "gridcolor": "white",
            "linecolor": "white",
            "ticks": ""
           }
          },
          "scene": {
           "xaxis": {
            "backgroundcolor": "#E5ECF6",
            "gridcolor": "white",
            "gridwidth": 2,
            "linecolor": "white",
            "showbackground": true,
            "ticks": "",
            "zerolinecolor": "white"
           },
           "yaxis": {
            "backgroundcolor": "#E5ECF6",
            "gridcolor": "white",
            "gridwidth": 2,
            "linecolor": "white",
            "showbackground": true,
            "ticks": "",
            "zerolinecolor": "white"
           },
           "zaxis": {
            "backgroundcolor": "#E5ECF6",
            "gridcolor": "white",
            "gridwidth": 2,
            "linecolor": "white",
            "showbackground": true,
            "ticks": "",
            "zerolinecolor": "white"
           }
          },
          "shapedefaults": {
           "line": {
            "color": "#2a3f5f"
           }
          },
          "ternary": {
           "aaxis": {
            "gridcolor": "white",
            "linecolor": "white",
            "ticks": ""
           },
           "baxis": {
            "gridcolor": "white",
            "linecolor": "white",
            "ticks": ""
           },
           "bgcolor": "#E5ECF6",
           "caxis": {
            "gridcolor": "white",
            "linecolor": "white",
            "ticks": ""
           }
          },
          "title": {
           "x": 0.05
          },
          "xaxis": {
           "automargin": true,
           "gridcolor": "white",
           "linecolor": "white",
           "ticks": "",
           "title": {
            "standoff": 15
           },
           "zerolinecolor": "white",
           "zerolinewidth": 2
          },
          "yaxis": {
           "automargin": true,
           "gridcolor": "white",
           "linecolor": "white",
           "ticks": "",
           "title": {
            "standoff": 15
           },
           "zerolinecolor": "white",
           "zerolinewidth": 2
          }
         }
        },
        "title": {
         "text": "DFT Spectrum"
        },
        "xaxis": {
         "title": {
          "text": "Frequency, Hz"
         }
        },
        "yaxis": {
         "title": {
          "text": "Magnitude, linear"
         }
        }
       }
      }
     },
     "metadata": {},
     "output_type": "display_data"
    }
   ],
   "source": [
    "import numpy as np\n",
    "import plotly.graph_objects as go\n",
    "from math import pi\n",
    "\n",
    "np.random.seed(42)\n",
    "\n",
    "fs = 4000  # Hz\n",
    "Ts = 1 / fs\n",
    "time = np.arange(0, 20e-3, Ts)  # seconds\n",
    "\n",
    "# Generate periodic signals\n",
    "f1 = 50\n",
    "T1 = 1 / f1\n",
    "fmax = 20 * f1\n",
    "F = np.arange(0, fmax, f1)\n",
    "P = np.random.uniform(-pi, pi, len(F))\n",
    "A = np.random.uniform(0, 0.1, len(F))\n",
    "A[1] = 1\n",
    "periodic = np.zeros((len(F),len(time)))\n",
    "for i in range(len(F)):\n",
    "    for j, t in enumerate(time):\n",
    "        periodic[i,j] = A[i] * np.cos(2 * pi * F[i] * t + P[i])\n",
    "periodics = np.sum(periodic, axis=0)\n",
    "# print(\"Periodic components\")\n",
    "# print(\"Frequencies (Hz): Amplitudes\")\n",
    "# for i in range(len(F)):\n",
    "#     print(f\"{F[i]}: {A[i]}\")\n",
    "\n",
    "# Generate white noise\n",
    "noise_max = 0.1\n",
    "noise = np.random.uniform(0, noise_max, len(time))\n",
    "print(f\"Maximum noise amplitude = {noise_max}\")\n",
    "\n",
    "# Generate aperiodic component\n",
    "fade_coef = 100\n",
    "amp_coef = 1\n",
    "t_start = time[len(time) // 2]  # middle time\n",
    "aperiodic = amp_coef * np.exp(-fade_coef * (time - t_start))\n",
    "aperiodic[time < t_start] = 0  # aperiodic starts form t_start\n",
    "\n",
    "# Sum up all components into one signal\n",
    "signal = 0\n",
    "signal += periodics\n",
    "# signal += aperiodic\n",
    "# signal += noise\n",
    "\n",
    "fig = go.Figure()\n",
    "fig.add_trace(go.Scatter(x=time, y=signal, name=\"signal\", mode=\"lines+markers\", line=dict(color=\"black\")))\n",
    "fig.add_trace(go.Scatter(x=time, y=periodic[1], name=\"50 Hz\", mode=\"lines+markers\", line=dict(color=\"red\")))\n",
    "# fig.add_trace(go.Scatter(y=periodic[0], name=\"DC\"))\n",
    "# fig.add_trace(go.Scatter(y=np.sum(periodic[2:], axis=0), name=\"harmonics\"))\n",
    "# fig.add_trace(go.Scatter(y=aperiodic, name=\"aperiodic\"))\n",
    "# fig.add_trace(go.Scatter(y=noise, name=\"noise\"))\n",
    "fig.update_layout(title=\"Digital Signal\", xaxis_title=\"Time, s\", yaxis_title=\"Magnitude, linear\")\n",
    "fig.show()\n",
    "\n",
    "N = len(signal)\n",
    "res = np.fft.fft(signal,N) / N # complex\n",
    "freqs = np.fft.fftfreq(len(signal),Ts)\n",
    "res = np.fft.fftshift(res)[N//2:] * 2\n",
    "freqs = np.fft.fftshift(freqs)[N//2:]\n",
    "\n",
    "mags = np.abs(res)\n",
    "\n",
    "fig = go.Figure()\n",
    "# Add the stems (vertical lines)\n",
    "for i in range(len(freqs)):\n",
    "    fig.add_trace(\n",
    "        go.Scatter(\n",
    "            x=[freqs[i], freqs[i]],\n",
    "            y=[0, mags[i]],\n",
    "            mode=\"lines\",\n",
    "            line=dict(color=\"black\", width=2),\n",
    "            showlegend=False,\n",
    "        )\n",
    "    )\n",
    "# Add the markers at stems\n",
    "fig.add_trace(\n",
    "    go.Scatter(\n",
    "        x=freqs,\n",
    "        y=mags,\n",
    "        mode=\"markers\",\n",
    "        marker=dict(color=\"black\", size=8),\n",
    "        name=\"Signal\",\n",
    "    )\n",
    ")\n",
    "fig.add_trace(\n",
    "    go.Scatter(\n",
    "        x=[freqs[1], freqs[1]],\n",
    "        y=[0, mags[1]],\n",
    "        mode=\"lines\",\n",
    "        line=dict(color=\"red\", width=1),\n",
    "        showlegend=False,\n",
    "    )\n",
    ")\n",
    "fig.add_trace(\n",
    "    go.Scatter(\n",
    "        x=[freqs[1]],\n",
    "        y=[mags[1]],\n",
    "        mode=\"markers\",\n",
    "        marker=dict(color=\"red\", size=4),\n",
    "        name=\"Filtered signal\",\n",
    "    )\n",
    ")\n",
    "fig.update_layout(title=\"DFT Spectrum\", xaxis_title=\"Frequency, Hz\", yaxis_title=\"Magnitude, linear\")\n",
    "fig.show()\n"
   ]
  },
  {
   "cell_type": "code",
   "execution_count": 36,
   "metadata": {},
   "outputs": [
    {
     "data": {
      "text/plain": [
       "array([   0.,   50.,  100.,  150.,  200.,  250.,  300.,  350.,  400.,\n",
       "        450.,  500.,  550.,  600.,  650.,  700.,  750.,  800.,  850.,\n",
       "        900.,  950., 1000., 1050., 1100., 1150., 1200., 1250., 1300.,\n",
       "       1350., 1400., 1450., 1500., 1550., 1600., 1650., 1700., 1750.,\n",
       "       1800., 1850., 1900., 1950.])"
      ]
     },
     "execution_count": 36,
     "metadata": {},
     "output_type": "execute_result"
    }
   ],
   "source": [
    "freqs"
   ]
  },
  {
   "cell_type": "code",
   "execution_count": 37,
   "metadata": {},
   "outputs": [
    {
     "data": {
      "text/plain": [
       "80"
      ]
     },
     "execution_count": 37,
     "metadata": {},
     "output_type": "execute_result"
    }
   ],
   "source": [
    "N"
   ]
  },
  {
   "cell_type": "code",
   "execution_count": null,
   "metadata": {},
   "outputs": [],
   "source": []
  }
 ],
 "metadata": {
  "kernelspec": {
   "display_name": "base",
   "language": "python",
   "name": "python3"
  },
  "language_info": {
   "codemirror_mode": {
    "name": "ipython",
    "version": 3
   },
   "file_extension": ".py",
   "mimetype": "text/x-python",
   "name": "python",
   "nbconvert_exporter": "python",
   "pygments_lexer": "ipython3",
   "version": "3.12.4"
  }
 },
 "nbformat": 4,
 "nbformat_minor": 2
}
