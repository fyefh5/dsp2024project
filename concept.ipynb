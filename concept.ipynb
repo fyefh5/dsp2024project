{
 "cells": [
  {
   "cell_type": "code",
   "execution_count": 71,
   "metadata": {},
   "outputs": [
    {
     "name": "stdout",
     "output_type": "stream",
     "text": [
      "Maximum noise amplitude = 0.1\n"
     ]
    },
    {
     "data": {
      "application/vnd.plotly.v1+json": {
       "config": {
        "plotlyServerURL": "https://plot.ly"
       },
       "data": [
        {
         "line": {
          "color": "black"
         },
         "mode": "lines+markers",
         "name": "noisy",
         "type": "scatter",
         "x": [
          0,
          0.00025,
          0.0005,
          0.00075,
          0.001,
          0.00125,
          0.0015,
          0.00175,
          0.002,
          0.0022500000000000003,
          0.0025,
          0.00275,
          0.003,
          0.0032500000000000003,
          0.0035,
          0.00375,
          0.004,
          0.00425,
          0.0045000000000000005,
          0.00475,
          0.005,
          0.00525,
          0.0055,
          0.00575,
          0.006,
          0.00625,
          0.006500000000000001,
          0.00675,
          0.007,
          0.00725,
          0.0075,
          0.00775,
          0.008,
          0.00825,
          0.0085,
          0.00875,
          0.009000000000000001,
          0.00925,
          0.0095,
          0.00975,
          0.01,
          0.01025,
          0.0105,
          0.010750000000000001,
          0.011,
          0.01125,
          0.0115,
          0.01175,
          0.012,
          0.01225,
          0.0125,
          0.012750000000000001,
          0.013000000000000001,
          0.01325,
          0.0135,
          0.01375,
          0.014,
          0.01425,
          0.0145,
          0.014750000000000001,
          0.015,
          0.01525,
          0.0155,
          0.01575,
          0.016,
          0.01625,
          0.0165,
          0.01675,
          0.017,
          0.01725,
          0.0175,
          0.017750000000000002,
          0.018000000000000002,
          0.01825,
          0.0185,
          0.01875,
          0.019,
          0.01925,
          0.0195,
          0.01975
         ],
         "y": [
          -1.0191939763208453,
          -1.260091688615921,
          -1.1263868725169666,
          -0.5163101063748883,
          -0.30698605307299937,
          -0.5144470756463969,
          -0.9185317158410633,
          -0.8788008945613015,
          -0.4890220149751491,
          -0.17948032989645182,
          -0.026042495414174555,
          -0.11401581891061505,
          -0.11937836194377172,
          -0.0669439810826763,
          -0.0172204134185297,
          0.07813361529416656,
          0.017555818985427088,
          0.014700506293710048,
          0.020807792385920478,
          0.17684765113178627,
          0.3715927323919085,
          0.4798726381782258,
          0.5456933143123792,
          0.49200541838302786,
          0.5498351008683189,
          0.6949661059632477,
          0.7704343646339042,
          0.943399849618885,
          0.9836612511407324,
          1.1622446019732922,
          1.1463281159058811,
          1.0086223216632846,
          0.8937362283214674,
          0.9545564263389686,
          1.0257411081322045,
          1.134016104673541,
          1.1537987291088303,
          0.9985291856715435,
          0.9640586591936958,
          0.9928793897355337,
          1.1555896557208438,
          1.1121112404342353,
          0.9665720972257554,
          0.860210848762446,
          0.8700285603701471,
          0.8111473615612913,
          0.7218300170843207,
          0.6486212008561155,
          0.7332842147387701,
          0.7230792653124991,
          0.5697601318269112,
          0.488254561897121,
          0.49388040574936304,
          0.5211913358604107,
          0.4228186181056673,
          0.14035913685119425,
          -0.010615421408737946,
          -0.007253707654073634,
          -0.034894651425551704,
          -0.08052609633456163,
          -0.07790591908136837,
          0.0509059124819562,
          -0.1160136063875151,
          -0.533232676045659,
          -0.8927087795789974,
          -0.9652839510495312,
          -0.71194731107634,
          -0.630414793849566,
          -0.9112698907106201,
          -1.09210855183303,
          -0.9564586483648087,
          -0.7524321387441048,
          -0.5941368314724678,
          -0.6558655232031596,
          -0.7593414141725127,
          -0.854196386747776,
          -0.9667131922467856,
          -0.9699740340628378,
          -0.6961224168474229,
          -0.6899882465689542
         ]
        },
        {
         "line": {
          "color": "red"
         },
         "mode": "lines+markers",
         "name": "pure",
         "type": "scatter",
         "x": [
          0,
          0.00025,
          0.0005,
          0.00075,
          0.001,
          0.00125,
          0.0015,
          0.00175,
          0.002,
          0.0022500000000000003,
          0.0025,
          0.00275,
          0.003,
          0.0032500000000000003,
          0.0035,
          0.00375,
          0.004,
          0.00425,
          0.0045000000000000005,
          0.00475,
          0.005,
          0.00525,
          0.0055,
          0.00575,
          0.006,
          0.00625,
          0.006500000000000001,
          0.00675,
          0.007,
          0.00725,
          0.0075,
          0.00775,
          0.008,
          0.00825,
          0.0085,
          0.00875,
          0.009000000000000001,
          0.00925,
          0.0095,
          0.00975,
          0.01,
          0.01025,
          0.0105,
          0.010750000000000001,
          0.011,
          0.01125,
          0.0115,
          0.01175,
          0.012,
          0.01225,
          0.0125,
          0.012750000000000001,
          0.013000000000000001,
          0.01325,
          0.0135,
          0.01375,
          0.014,
          0.01425,
          0.0145,
          0.014750000000000001,
          0.015,
          0.01525,
          0.0155,
          0.01575,
          0.016,
          0.01625,
          0.0165,
          0.01675,
          0.017,
          0.01725,
          0.0175,
          0.017750000000000002,
          0.018000000000000002,
          0.01825,
          0.0185,
          0.01875,
          0.019,
          0.01925,
          0.0195,
          0.01975
         ],
         "y": [
          -0.9524338381967461,
          -0.9255877507981478,
          -0.8930351071267186,
          -0.8549766050555455,
          -0.8116468879056334,
          -0.7633130977918046,
          -0.710273228602727,
          -0.6528542887694977,
          -0.5914102851499233,
          -0.5263200404585234,
          -0.457984857698523,
          -0.3868260459953918,
          -0.3132823230859856,
          -0.23780711047781022,
          -0.1608657379546508,
          -0.08293257466371462,
          -0.00448810447209707,
          0.07398403637603736,
          0.1520000410377247,
          0.2290789149012715,
          0.3047454410779829,
          0.37853311027230624,
          0.449986996966768,
          0.518666564189069,
          0.5841483795690101,
          0.6460287259398603,
          0.7039260903889404,
          0.7574835164115938,
          0.8063708046667403,
          0.8502865487656136,
          0.8889599935423773,
          0.9221527043497574,
          0.9496600370879298,
          0.9713123999034474,
          0.9869762987794113,
          0.9965551605704761,
          0.9999899284084053,
          0.9972594258073018,
          0.9883804872236855,
          0.9734078542664714,
          0.9524338381967462,
          0.9255877507981477,
          0.8930351071267185,
          0.8549766050555454,
          0.8116468879056334,
          0.7633130977918047,
          0.7102732286027271,
          0.6528542887694978,
          0.5914102851499231,
          0.5263200404585231,
          0.4579848576985227,
          0.3868260459953915,
          0.31328232308598486,
          0.23780711047781014,
          0.16086573795465092,
          0.0829325746637143,
          0.004488104472097193,
          -0.07398403637603747,
          -0.15200004103772435,
          -0.2290789149012718,
          -0.3047454410779828,
          -0.37853311027230635,
          -0.4499869969667679,
          -0.5186665641890693,
          -0.5841483795690098,
          -0.6460287259398603,
          -0.7039260903889406,
          -0.757483516411594,
          -0.8063708046667408,
          -0.8502865487656138,
          -0.8889599935423778,
          -0.9221527043497575,
          -0.94966003708793,
          -0.9713123999034472,
          -0.9869762987794112,
          -0.9965551605704761,
          -0.9999899284084053,
          -0.9972594258073018,
          -0.9883804872236855,
          -0.9734078542664714
         ]
        }
       ],
       "layout": {
        "template": {
         "data": {
          "bar": [
           {
            "error_x": {
             "color": "#2a3f5f"
            },
            "error_y": {
             "color": "#2a3f5f"
            },
            "marker": {
             "line": {
              "color": "#E5ECF6",
              "width": 0.5
             },
             "pattern": {
              "fillmode": "overlay",
              "size": 10,
              "solidity": 0.2
             }
            },
            "type": "bar"
           }
          ],
          "barpolar": [
           {
            "marker": {
             "line": {
              "color": "#E5ECF6",
              "width": 0.5
             },
             "pattern": {
              "fillmode": "overlay",
              "size": 10,
              "solidity": 0.2
             }
            },
            "type": "barpolar"
           }
          ],
          "carpet": [
           {
            "aaxis": {
             "endlinecolor": "#2a3f5f",
             "gridcolor": "white",
             "linecolor": "white",
             "minorgridcolor": "white",
             "startlinecolor": "#2a3f5f"
            },
            "baxis": {
             "endlinecolor": "#2a3f5f",
             "gridcolor": "white",
             "linecolor": "white",
             "minorgridcolor": "white",
             "startlinecolor": "#2a3f5f"
            },
            "type": "carpet"
           }
          ],
          "choropleth": [
           {
            "colorbar": {
             "outlinewidth": 0,
             "ticks": ""
            },
            "type": "choropleth"
           }
          ],
          "contour": [
           {
            "colorbar": {
             "outlinewidth": 0,
             "ticks": ""
            },
            "colorscale": [
             [
              0,
              "#0d0887"
             ],
             [
              0.1111111111111111,
              "#46039f"
             ],
             [
              0.2222222222222222,
              "#7201a8"
             ],
             [
              0.3333333333333333,
              "#9c179e"
             ],
             [
              0.4444444444444444,
              "#bd3786"
             ],
             [
              0.5555555555555556,
              "#d8576b"
             ],
             [
              0.6666666666666666,
              "#ed7953"
             ],
             [
              0.7777777777777778,
              "#fb9f3a"
             ],
             [
              0.8888888888888888,
              "#fdca26"
             ],
             [
              1,
              "#f0f921"
             ]
            ],
            "type": "contour"
           }
          ],
          "contourcarpet": [
           {
            "colorbar": {
             "outlinewidth": 0,
             "ticks": ""
            },
            "type": "contourcarpet"
           }
          ],
          "heatmap": [
           {
            "colorbar": {
             "outlinewidth": 0,
             "ticks": ""
            },
            "colorscale": [
             [
              0,
              "#0d0887"
             ],
             [
              0.1111111111111111,
              "#46039f"
             ],
             [
              0.2222222222222222,
              "#7201a8"
             ],
             [
              0.3333333333333333,
              "#9c179e"
             ],
             [
              0.4444444444444444,
              "#bd3786"
             ],
             [
              0.5555555555555556,
              "#d8576b"
             ],
             [
              0.6666666666666666,
              "#ed7953"
             ],
             [
              0.7777777777777778,
              "#fb9f3a"
             ],
             [
              0.8888888888888888,
              "#fdca26"
             ],
             [
              1,
              "#f0f921"
             ]
            ],
            "type": "heatmap"
           }
          ],
          "heatmapgl": [
           {
            "colorbar": {
             "outlinewidth": 0,
             "ticks": ""
            },
            "colorscale": [
             [
              0,
              "#0d0887"
             ],
             [
              0.1111111111111111,
              "#46039f"
             ],
             [
              0.2222222222222222,
              "#7201a8"
             ],
             [
              0.3333333333333333,
              "#9c179e"
             ],
             [
              0.4444444444444444,
              "#bd3786"
             ],
             [
              0.5555555555555556,
              "#d8576b"
             ],
             [
              0.6666666666666666,
              "#ed7953"
             ],
             [
              0.7777777777777778,
              "#fb9f3a"
             ],
             [
              0.8888888888888888,
              "#fdca26"
             ],
             [
              1,
              "#f0f921"
             ]
            ],
            "type": "heatmapgl"
           }
          ],
          "histogram": [
           {
            "marker": {
             "pattern": {
              "fillmode": "overlay",
              "size": 10,
              "solidity": 0.2
             }
            },
            "type": "histogram"
           }
          ],
          "histogram2d": [
           {
            "colorbar": {
             "outlinewidth": 0,
             "ticks": ""
            },
            "colorscale": [
             [
              0,
              "#0d0887"
             ],
             [
              0.1111111111111111,
              "#46039f"
             ],
             [
              0.2222222222222222,
              "#7201a8"
             ],
             [
              0.3333333333333333,
              "#9c179e"
             ],
             [
              0.4444444444444444,
              "#bd3786"
             ],
             [
              0.5555555555555556,
              "#d8576b"
             ],
             [
              0.6666666666666666,
              "#ed7953"
             ],
             [
              0.7777777777777778,
              "#fb9f3a"
             ],
             [
              0.8888888888888888,
              "#fdca26"
             ],
             [
              1,
              "#f0f921"
             ]
            ],
            "type": "histogram2d"
           }
          ],
          "histogram2dcontour": [
           {
            "colorbar": {
             "outlinewidth": 0,
             "ticks": ""
            },
            "colorscale": [
             [
              0,
              "#0d0887"
             ],
             [
              0.1111111111111111,
              "#46039f"
             ],
             [
              0.2222222222222222,
              "#7201a8"
             ],
             [
              0.3333333333333333,
              "#9c179e"
             ],
             [
              0.4444444444444444,
              "#bd3786"
             ],
             [
              0.5555555555555556,
              "#d8576b"
             ],
             [
              0.6666666666666666,
              "#ed7953"
             ],
             [
              0.7777777777777778,
              "#fb9f3a"
             ],
             [
              0.8888888888888888,
              "#fdca26"
             ],
             [
              1,
              "#f0f921"
             ]
            ],
            "type": "histogram2dcontour"
           }
          ],
          "mesh3d": [
           {
            "colorbar": {
             "outlinewidth": 0,
             "ticks": ""
            },
            "type": "mesh3d"
           }
          ],
          "parcoords": [
           {
            "line": {
             "colorbar": {
              "outlinewidth": 0,
              "ticks": ""
             }
            },
            "type": "parcoords"
           }
          ],
          "pie": [
           {
            "automargin": true,
            "type": "pie"
           }
          ],
          "scatter": [
           {
            "fillpattern": {
             "fillmode": "overlay",
             "size": 10,
             "solidity": 0.2
            },
            "type": "scatter"
           }
          ],
          "scatter3d": [
           {
            "line": {
             "colorbar": {
              "outlinewidth": 0,
              "ticks": ""
             }
            },
            "marker": {
             "colorbar": {
              "outlinewidth": 0,
              "ticks": ""
             }
            },
            "type": "scatter3d"
           }
          ],
          "scattercarpet": [
           {
            "marker": {
             "colorbar": {
              "outlinewidth": 0,
              "ticks": ""
             }
            },
            "type": "scattercarpet"
           }
          ],
          "scattergeo": [
           {
            "marker": {
             "colorbar": {
              "outlinewidth": 0,
              "ticks": ""
             }
            },
            "type": "scattergeo"
           }
          ],
          "scattergl": [
           {
            "marker": {
             "colorbar": {
              "outlinewidth": 0,
              "ticks": ""
             }
            },
            "type": "scattergl"
           }
          ],
          "scattermapbox": [
           {
            "marker": {
             "colorbar": {
              "outlinewidth": 0,
              "ticks": ""
             }
            },
            "type": "scattermapbox"
           }
          ],
          "scatterpolar": [
           {
            "marker": {
             "colorbar": {
              "outlinewidth": 0,
              "ticks": ""
             }
            },
            "type": "scatterpolar"
           }
          ],
          "scatterpolargl": [
           {
            "marker": {
             "colorbar": {
              "outlinewidth": 0,
              "ticks": ""
             }
            },
            "type": "scatterpolargl"
           }
          ],
          "scatterternary": [
           {
            "marker": {
             "colorbar": {
              "outlinewidth": 0,
              "ticks": ""
             }
            },
            "type": "scatterternary"
           }
          ],
          "surface": [
           {
            "colorbar": {
             "outlinewidth": 0,
             "ticks": ""
            },
            "colorscale": [
             [
              0,
              "#0d0887"
             ],
             [
              0.1111111111111111,
              "#46039f"
             ],
             [
              0.2222222222222222,
              "#7201a8"
             ],
             [
              0.3333333333333333,
              "#9c179e"
             ],
             [
              0.4444444444444444,
              "#bd3786"
             ],
             [
              0.5555555555555556,
              "#d8576b"
             ],
             [
              0.6666666666666666,
              "#ed7953"
             ],
             [
              0.7777777777777778,
              "#fb9f3a"
             ],
             [
              0.8888888888888888,
              "#fdca26"
             ],
             [
              1,
              "#f0f921"
             ]
            ],
            "type": "surface"
           }
          ],
          "table": [
           {
            "cells": {
             "fill": {
              "color": "#EBF0F8"
             },
             "line": {
              "color": "white"
             }
            },
            "header": {
             "fill": {
              "color": "#C8D4E3"
             },
             "line": {
              "color": "white"
             }
            },
            "type": "table"
           }
          ]
         },
         "layout": {
          "annotationdefaults": {
           "arrowcolor": "#2a3f5f",
           "arrowhead": 0,
           "arrowwidth": 1
          },
          "autotypenumbers": "strict",
          "coloraxis": {
           "colorbar": {
            "outlinewidth": 0,
            "ticks": ""
           }
          },
          "colorscale": {
           "diverging": [
            [
             0,
             "#8e0152"
            ],
            [
             0.1,
             "#c51b7d"
            ],
            [
             0.2,
             "#de77ae"
            ],
            [
             0.3,
             "#f1b6da"
            ],
            [
             0.4,
             "#fde0ef"
            ],
            [
             0.5,
             "#f7f7f7"
            ],
            [
             0.6,
             "#e6f5d0"
            ],
            [
             0.7,
             "#b8e186"
            ],
            [
             0.8,
             "#7fbc41"
            ],
            [
             0.9,
             "#4d9221"
            ],
            [
             1,
             "#276419"
            ]
           ],
           "sequential": [
            [
             0,
             "#0d0887"
            ],
            [
             0.1111111111111111,
             "#46039f"
            ],
            [
             0.2222222222222222,
             "#7201a8"
            ],
            [
             0.3333333333333333,
             "#9c179e"
            ],
            [
             0.4444444444444444,
             "#bd3786"
            ],
            [
             0.5555555555555556,
             "#d8576b"
            ],
            [
             0.6666666666666666,
             "#ed7953"
            ],
            [
             0.7777777777777778,
             "#fb9f3a"
            ],
            [
             0.8888888888888888,
             "#fdca26"
            ],
            [
             1,
             "#f0f921"
            ]
           ],
           "sequentialminus": [
            [
             0,
             "#0d0887"
            ],
            [
             0.1111111111111111,
             "#46039f"
            ],
            [
             0.2222222222222222,
             "#7201a8"
            ],
            [
             0.3333333333333333,
             "#9c179e"
            ],
            [
             0.4444444444444444,
             "#bd3786"
            ],
            [
             0.5555555555555556,
             "#d8576b"
            ],
            [
             0.6666666666666666,
             "#ed7953"
            ],
            [
             0.7777777777777778,
             "#fb9f3a"
            ],
            [
             0.8888888888888888,
             "#fdca26"
            ],
            [
             1,
             "#f0f921"
            ]
           ]
          },
          "colorway": [
           "#636efa",
           "#EF553B",
           "#00cc96",
           "#ab63fa",
           "#FFA15A",
           "#19d3f3",
           "#FF6692",
           "#B6E880",
           "#FF97FF",
           "#FECB52"
          ],
          "font": {
           "color": "#2a3f5f"
          },
          "geo": {
           "bgcolor": "white",
           "lakecolor": "white",
           "landcolor": "#E5ECF6",
           "showlakes": true,
           "showland": true,
           "subunitcolor": "white"
          },
          "hoverlabel": {
           "align": "left"
          },
          "hovermode": "closest",
          "mapbox": {
           "style": "light"
          },
          "paper_bgcolor": "white",
          "plot_bgcolor": "#E5ECF6",
          "polar": {
           "angularaxis": {
            "gridcolor": "white",
            "linecolor": "white",
            "ticks": ""
           },
           "bgcolor": "#E5ECF6",
           "radialaxis": {
            "gridcolor": "white",
            "linecolor": "white",
            "ticks": ""
           }
          },
          "scene": {
           "xaxis": {
            "backgroundcolor": "#E5ECF6",
            "gridcolor": "white",
            "gridwidth": 2,
            "linecolor": "white",
            "showbackground": true,
            "ticks": "",
            "zerolinecolor": "white"
           },
           "yaxis": {
            "backgroundcolor": "#E5ECF6",
            "gridcolor": "white",
            "gridwidth": 2,
            "linecolor": "white",
            "showbackground": true,
            "ticks": "",
            "zerolinecolor": "white"
           },
           "zaxis": {
            "backgroundcolor": "#E5ECF6",
            "gridcolor": "white",
            "gridwidth": 2,
            "linecolor": "white",
            "showbackground": true,
            "ticks": "",
            "zerolinecolor": "white"
           }
          },
          "shapedefaults": {
           "line": {
            "color": "#2a3f5f"
           }
          },
          "ternary": {
           "aaxis": {
            "gridcolor": "white",
            "linecolor": "white",
            "ticks": ""
           },
           "baxis": {
            "gridcolor": "white",
            "linecolor": "white",
            "ticks": ""
           },
           "bgcolor": "#E5ECF6",
           "caxis": {
            "gridcolor": "white",
            "linecolor": "white",
            "ticks": ""
           }
          },
          "title": {
           "x": 0.05
          },
          "xaxis": {
           "automargin": true,
           "gridcolor": "white",
           "linecolor": "white",
           "ticks": "",
           "title": {
            "standoff": 15
           },
           "zerolinecolor": "white",
           "zerolinewidth": 2
          },
          "yaxis": {
           "automargin": true,
           "gridcolor": "white",
           "linecolor": "white",
           "ticks": "",
           "title": {
            "standoff": 15
           },
           "zerolinecolor": "white",
           "zerolinewidth": 2
          }
         }
        },
        "title": {
         "text": "Digital Signal"
        },
        "xaxis": {
         "title": {
          "text": "Time, s"
         }
        },
        "yaxis": {
         "title": {
          "text": "Magnitude, linear"
         }
        }
       }
      }
     },
     "metadata": {},
     "output_type": "display_data"
    },
    {
     "data": {
      "application/vnd.plotly.v1+json": {
       "config": {
        "plotlyServerURL": "https://plot.ly"
       },
       "data": [
        {
         "line": {
          "color": "black",
          "width": 2
         },
         "mode": "lines",
         "showlegend": false,
         "type": "scatter",
         "x": [
          -2000,
          -2000
         ],
         "y": [
          0,
          0.0012396468478644588
         ]
        },
        {
         "line": {
          "color": "black",
          "width": 2
         },
         "mode": "lines",
         "showlegend": false,
         "type": "scatter",
         "x": [
          -1950,
          -1950
         ],
         "y": [
          0,
          0.002580895162079747
         ]
        },
        {
         "line": {
          "color": "black",
          "width": 2
         },
         "mode": "lines",
         "showlegend": false,
         "type": "scatter",
         "x": [
          -1900,
          -1900
         ],
         "y": [
          0,
          0.0018944859897806641
         ]
        },
        {
         "line": {
          "color": "black",
          "width": 2
         },
         "mode": "lines",
         "showlegend": false,
         "type": "scatter",
         "x": [
          -1850,
          -1850
         ],
         "y": [
          0,
          0.004572179366002622
         ]
        },
        {
         "line": {
          "color": "black",
          "width": 2
         },
         "mode": "lines",
         "showlegend": false,
         "type": "scatter",
         "x": [
          -1800,
          -1800
         ],
         "y": [
          0,
          0.0017308138160802245
         ]
        },
        {
         "line": {
          "color": "black",
          "width": 2
         },
         "mode": "lines",
         "showlegend": false,
         "type": "scatter",
         "x": [
          -1750,
          -1750
         ],
         "y": [
          0,
          0.0034393012478498046
         ]
        },
        {
         "line": {
          "color": "black",
          "width": 2
         },
         "mode": "lines",
         "showlegend": false,
         "type": "scatter",
         "x": [
          -1700,
          -1700
         ],
         "y": [
          0,
          0.0051470768353635895
         ]
        },
        {
         "line": {
          "color": "black",
          "width": 2
         },
         "mode": "lines",
         "showlegend": false,
         "type": "scatter",
         "x": [
          -1650,
          -1650
         ],
         "y": [
          0,
          0.005218871062872562
         ]
        },
        {
         "line": {
          "color": "black",
          "width": 2
         },
         "mode": "lines",
         "showlegend": false,
         "type": "scatter",
         "x": [
          -1600,
          -1600
         ],
         "y": [
          0,
          0.001518920630211959
         ]
        },
        {
         "line": {
          "color": "black",
          "width": 2
         },
         "mode": "lines",
         "showlegend": false,
         "type": "scatter",
         "x": [
          -1550,
          -1550
         ],
         "y": [
          0,
          0.002724177446874578
         ]
        },
        {
         "line": {
          "color": "black",
          "width": 2
         },
         "mode": "lines",
         "showlegend": false,
         "type": "scatter",
         "x": [
          -1500,
          -1500
         ],
         "y": [
          0,
          0.005023050667130474
         ]
        },
        {
         "line": {
          "color": "black",
          "width": 2
         },
         "mode": "lines",
         "showlegend": false,
         "type": "scatter",
         "x": [
          -1450,
          -1450
         ],
         "y": [
          0,
          0.0006869175939098723
         ]
        },
        {
         "line": {
          "color": "black",
          "width": 2
         },
         "mode": "lines",
         "showlegend": false,
         "type": "scatter",
         "x": [
          -1400,
          -1400
         ],
         "y": [
          0,
          0.00401989666845849
         ]
        },
        {
         "line": {
          "color": "black",
          "width": 2
         },
         "mode": "lines",
         "showlegend": false,
         "type": "scatter",
         "x": [
          -1350,
          -1350
         ],
         "y": [
          0,
          0.0032748718383979985
         ]
        },
        {
         "line": {
          "color": "black",
          "width": 2
         },
         "mode": "lines",
         "showlegend": false,
         "type": "scatter",
         "x": [
          -1300,
          -1300
         ],
         "y": [
          0,
          0.003411725614108829
         ]
        },
        {
         "line": {
          "color": "black",
          "width": 2
         },
         "mode": "lines",
         "showlegend": false,
         "type": "scatter",
         "x": [
          -1250,
          -1250
         ],
         "y": [
          0,
          0.0007922483554524423
         ]
        },
        {
         "line": {
          "color": "black",
          "width": 2
         },
         "mode": "lines",
         "showlegend": false,
         "type": "scatter",
         "x": [
          -1200,
          -1200
         ],
         "y": [
          0,
          0.0004989871595658588
         ]
        },
        {
         "line": {
          "color": "black",
          "width": 2
         },
         "mode": "lines",
         "showlegend": false,
         "type": "scatter",
         "x": [
          -1150,
          -1150
         ],
         "y": [
          0,
          0.0029035621625147076
         ]
        },
        {
         "line": {
          "color": "black",
          "width": 2
         },
         "mode": "lines",
         "showlegend": false,
         "type": "scatter",
         "x": [
          -1100,
          -1100
         ],
         "y": [
          0,
          0.0018968198856390407
         ]
        },
        {
         "line": {
          "color": "black",
          "width": 2
         },
         "mode": "lines",
         "showlegend": false,
         "type": "scatter",
         "x": [
          -1050,
          -1050
         ],
         "y": [
          0,
          0.005195033236411094
         ]
        },
        {
         "line": {
          "color": "black",
          "width": 2
         },
         "mode": "lines",
         "showlegend": false,
         "type": "scatter",
         "x": [
          -1000,
          -1000
         ],
         "y": [
          0,
          0.0013834579855180598
         ]
        },
        {
         "line": {
          "color": "black",
          "width": 2
         },
         "mode": "lines",
         "showlegend": false,
         "type": "scatter",
         "x": [
          -950,
          -950
         ],
         "y": [
          0,
          0.02169985429653531
         ]
        },
        {
         "line": {
          "color": "black",
          "width": 2
         },
         "mode": "lines",
         "showlegend": false,
         "type": "scatter",
         "x": [
          -900,
          -900
         ],
         "y": [
          0,
          0.03417743100345295
         ]
        },
        {
         "line": {
          "color": "black",
          "width": 2
         },
         "mode": "lines",
         "showlegend": false,
         "type": "scatter",
         "x": [
          -850,
          -850
         ],
         "y": [
          0,
          0.004765859503419886
         ]
        },
        {
         "line": {
          "color": "black",
          "width": 2
         },
         "mode": "lines",
         "showlegend": false,
         "type": "scatter",
         "x": [
          -800,
          -800
         ],
         "y": [
          0,
          0.015078911231687914
         ]
        },
        {
         "line": {
          "color": "black",
          "width": 2
         },
         "mode": "lines",
         "showlegend": false,
         "type": "scatter",
         "x": [
          -750,
          -750
         ],
         "y": [
          0,
          0.04476991241948287
         ]
        },
        {
         "line": {
          "color": "black",
          "width": 2
         },
         "mode": "lines",
         "showlegend": false,
         "type": "scatter",
         "x": [
          -700,
          -700
         ],
         "y": [
          0,
          0.04688855695311607
         ]
        },
        {
         "line": {
          "color": "black",
          "width": 2
         },
         "mode": "lines",
         "showlegend": false,
         "type": "scatter",
         "x": [
          -650,
          -650
         ],
         "y": [
          0,
          0.05210381557725775
         ]
        },
        {
         "line": {
          "color": "black",
          "width": 2
         },
         "mode": "lines",
         "showlegend": false,
         "type": "scatter",
         "x": [
          -600,
          -600
         ],
         "y": [
          0,
          0.005965013496827955
         ]
        },
        {
         "line": {
          "color": "black",
          "width": 2
         },
         "mode": "lines",
         "showlegend": false,
         "type": "scatter",
         "x": [
          -550,
          -550
         ],
         "y": [
          0,
          0.009265748214036734
         ]
        },
        {
         "line": {
          "color": "black",
          "width": 2
         },
         "mode": "lines",
         "showlegend": false,
         "type": "scatter",
         "x": [
          -500,
          -500
         ],
         "y": [
          0,
          0.03116159397024209
         ]
        },
        {
         "line": {
          "color": "black",
          "width": 2
         },
         "mode": "lines",
         "showlegend": false,
         "type": "scatter",
         "x": [
          -450,
          -450
         ],
         "y": [
          0,
          0.006854967434581475
         ]
        },
        {
         "line": {
          "color": "black",
          "width": 2
         },
         "mode": "lines",
         "showlegend": false,
         "type": "scatter",
         "x": [
          -400,
          -400
         ],
         "y": [
          0,
          0.029667000765099746
         ]
        },
        {
         "line": {
          "color": "black",
          "width": 2
         },
         "mode": "lines",
         "showlegend": false,
         "type": "scatter",
         "x": [
          -350,
          -350
         ],
         "y": [
          0,
          0.025775064296102965
         ]
        },
        {
         "line": {
          "color": "black",
          "width": 2
         },
         "mode": "lines",
         "showlegend": false,
         "type": "scatter",
         "x": [
          -300,
          -300
         ],
         "y": [
          0,
          0.011945345149538445
         ]
        },
        {
         "line": {
          "color": "black",
          "width": 2
         },
         "mode": "lines",
         "showlegend": false,
         "type": "scatter",
         "x": [
          -250,
          -250
         ],
         "y": [
          0,
          0.04102165810678231
         ]
        },
        {
         "line": {
          "color": "black",
          "width": 2
         },
         "mode": "lines",
         "showlegend": false,
         "type": "scatter",
         "x": [
          -200,
          -200
         ],
         "y": [
          0,
          0.028456035035998153
         ]
        },
        {
         "line": {
          "color": "black",
          "width": 2
         },
         "mode": "lines",
         "showlegend": false,
         "type": "scatter",
         "x": [
          -150,
          -150
         ],
         "y": [
          0,
          0.018331274642798167
         ]
        },
        {
         "line": {
          "color": "black",
          "width": 2
         },
         "mode": "lines",
         "showlegend": false,
         "type": "scatter",
         "x": [
          -100,
          -100
         ],
         "y": [
          0,
          0.016390625333847286
         ]
        },
        {
         "line": {
          "color": "black",
          "width": 2
         },
         "mode": "lines",
         "showlegend": false,
         "type": "scatter",
         "x": [
          -50,
          -50
         ],
         "y": [
          0,
          0.4990501409325294
         ]
        },
        {
         "line": {
          "color": "black",
          "width": 2
         },
         "mode": "lines",
         "showlegend": false,
         "type": "scatter",
         "x": [
          0,
          0
         ],
         "y": [
          0,
          0.09189257009600998
         ]
        },
        {
         "line": {
          "color": "black",
          "width": 2
         },
         "mode": "lines",
         "showlegend": false,
         "type": "scatter",
         "x": [
          50,
          50
         ],
         "y": [
          0,
          0.4990501409325294
         ]
        },
        {
         "line": {
          "color": "black",
          "width": 2
         },
         "mode": "lines",
         "showlegend": false,
         "type": "scatter",
         "x": [
          100,
          100
         ],
         "y": [
          0,
          0.01639062533384729
         ]
        },
        {
         "line": {
          "color": "black",
          "width": 2
         },
         "mode": "lines",
         "showlegend": false,
         "type": "scatter",
         "x": [
          150,
          150
         ],
         "y": [
          0,
          0.018331274642798174
         ]
        },
        {
         "line": {
          "color": "black",
          "width": 2
         },
         "mode": "lines",
         "showlegend": false,
         "type": "scatter",
         "x": [
          200,
          200
         ],
         "y": [
          0,
          0.028456035035998157
         ]
        },
        {
         "line": {
          "color": "black",
          "width": 2
         },
         "mode": "lines",
         "showlegend": false,
         "type": "scatter",
         "x": [
          250,
          250
         ],
         "y": [
          0,
          0.04102165810678232
         ]
        },
        {
         "line": {
          "color": "black",
          "width": 2
         },
         "mode": "lines",
         "showlegend": false,
         "type": "scatter",
         "x": [
          300,
          300
         ],
         "y": [
          0,
          0.011945345149538449
         ]
        },
        {
         "line": {
          "color": "black",
          "width": 2
         },
         "mode": "lines",
         "showlegend": false,
         "type": "scatter",
         "x": [
          350,
          350
         ],
         "y": [
          0,
          0.02577506429610295
         ]
        },
        {
         "line": {
          "color": "black",
          "width": 2
         },
         "mode": "lines",
         "showlegend": false,
         "type": "scatter",
         "x": [
          400,
          400
         ],
         "y": [
          0,
          0.029667000765099746
         ]
        },
        {
         "line": {
          "color": "black",
          "width": 2
         },
         "mode": "lines",
         "showlegend": false,
         "type": "scatter",
         "x": [
          450,
          450
         ],
         "y": [
          0,
          0.00685496743458148
         ]
        },
        {
         "line": {
          "color": "black",
          "width": 2
         },
         "mode": "lines",
         "showlegend": false,
         "type": "scatter",
         "x": [
          500,
          500
         ],
         "y": [
          0,
          0.03116159397024209
         ]
        },
        {
         "line": {
          "color": "black",
          "width": 2
         },
         "mode": "lines",
         "showlegend": false,
         "type": "scatter",
         "x": [
          550,
          550
         ],
         "y": [
          0,
          0.009265748214036723
         ]
        },
        {
         "line": {
          "color": "black",
          "width": 2
         },
         "mode": "lines",
         "showlegend": false,
         "type": "scatter",
         "x": [
          600,
          600
         ],
         "y": [
          0,
          0.005965013496827955
         ]
        },
        {
         "line": {
          "color": "black",
          "width": 2
         },
         "mode": "lines",
         "showlegend": false,
         "type": "scatter",
         "x": [
          650,
          650
         ],
         "y": [
          0,
          0.05210381557725775
         ]
        },
        {
         "line": {
          "color": "black",
          "width": 2
         },
         "mode": "lines",
         "showlegend": false,
         "type": "scatter",
         "x": [
          700,
          700
         ],
         "y": [
          0,
          0.04688855695311607
         ]
        },
        {
         "line": {
          "color": "black",
          "width": 2
         },
         "mode": "lines",
         "showlegend": false,
         "type": "scatter",
         "x": [
          750,
          750
         ],
         "y": [
          0,
          0.04476991241948284
         ]
        },
        {
         "line": {
          "color": "black",
          "width": 2
         },
         "mode": "lines",
         "showlegend": false,
         "type": "scatter",
         "x": [
          800,
          800
         ],
         "y": [
          0,
          0.015078911231687914
         ]
        },
        {
         "line": {
          "color": "black",
          "width": 2
         },
         "mode": "lines",
         "showlegend": false,
         "type": "scatter",
         "x": [
          850,
          850
         ],
         "y": [
          0,
          0.004765859503419854
         ]
        },
        {
         "line": {
          "color": "black",
          "width": 2
         },
         "mode": "lines",
         "showlegend": false,
         "type": "scatter",
         "x": [
          900,
          900
         ],
         "y": [
          0,
          0.03417743100345294
         ]
        },
        {
         "line": {
          "color": "black",
          "width": 2
         },
         "mode": "lines",
         "showlegend": false,
         "type": "scatter",
         "x": [
          950,
          950
         ],
         "y": [
          0,
          0.021699854296535308
         ]
        },
        {
         "line": {
          "color": "black",
          "width": 2
         },
         "mode": "lines",
         "showlegend": false,
         "type": "scatter",
         "x": [
          1000,
          1000
         ],
         "y": [
          0,
          0.0013834579855180609
         ]
        },
        {
         "line": {
          "color": "black",
          "width": 2
         },
         "mode": "lines",
         "showlegend": false,
         "type": "scatter",
         "x": [
          1050,
          1050
         ],
         "y": [
          0,
          0.005195033236411094
         ]
        },
        {
         "line": {
          "color": "black",
          "width": 2
         },
         "mode": "lines",
         "showlegend": false,
         "type": "scatter",
         "x": [
          1100,
          1100
         ],
         "y": [
          0,
          0.0018968198856390364
         ]
        },
        {
         "line": {
          "color": "black",
          "width": 2
         },
         "mode": "lines",
         "showlegend": false,
         "type": "scatter",
         "x": [
          1150,
          1150
         ],
         "y": [
          0,
          0.002903562162514727
         ]
        },
        {
         "line": {
          "color": "black",
          "width": 2
         },
         "mode": "lines",
         "showlegend": false,
         "type": "scatter",
         "x": [
          1200,
          1200
         ],
         "y": [
          0,
          0.0004989871595658589
         ]
        },
        {
         "line": {
          "color": "black",
          "width": 2
         },
         "mode": "lines",
         "showlegend": false,
         "type": "scatter",
         "x": [
          1250,
          1250
         ],
         "y": [
          0,
          0.0007922483554524565
         ]
        },
        {
         "line": {
          "color": "black",
          "width": 2
         },
         "mode": "lines",
         "showlegend": false,
         "type": "scatter",
         "x": [
          1300,
          1300
         ],
         "y": [
          0,
          0.00341172561410883
         ]
        },
        {
         "line": {
          "color": "black",
          "width": 2
         },
         "mode": "lines",
         "showlegend": false,
         "type": "scatter",
         "x": [
          1350,
          1350
         ],
         "y": [
          0,
          0.0032748718383980055
         ]
        },
        {
         "line": {
          "color": "black",
          "width": 2
         },
         "mode": "lines",
         "showlegend": false,
         "type": "scatter",
         "x": [
          1400,
          1400
         ],
         "y": [
          0,
          0.004019896668458489
         ]
        },
        {
         "line": {
          "color": "black",
          "width": 2
         },
         "mode": "lines",
         "showlegend": false,
         "type": "scatter",
         "x": [
          1450,
          1450
         ],
         "y": [
          0,
          0.000686917593909863
         ]
        },
        {
         "line": {
          "color": "black",
          "width": 2
         },
         "mode": "lines",
         "showlegend": false,
         "type": "scatter",
         "x": [
          1500,
          1500
         ],
         "y": [
          0,
          0.005023050667130473
         ]
        },
        {
         "line": {
          "color": "black",
          "width": 2
         },
         "mode": "lines",
         "showlegend": false,
         "type": "scatter",
         "x": [
          1550,
          1550
         ],
         "y": [
          0,
          0.002724177446874575
         ]
        },
        {
         "line": {
          "color": "black",
          "width": 2
         },
         "mode": "lines",
         "showlegend": false,
         "type": "scatter",
         "x": [
          1600,
          1600
         ],
         "y": [
          0,
          0.001518920630211959
         ]
        },
        {
         "line": {
          "color": "black",
          "width": 2
         },
         "mode": "lines",
         "showlegend": false,
         "type": "scatter",
         "x": [
          1650,
          1650
         ],
         "y": [
          0,
          0.00521887106287255
         ]
        },
        {
         "line": {
          "color": "black",
          "width": 2
         },
         "mode": "lines",
         "showlegend": false,
         "type": "scatter",
         "x": [
          1700,
          1700
         ],
         "y": [
          0,
          0.005147076835363588
         ]
        },
        {
         "line": {
          "color": "black",
          "width": 2
         },
         "mode": "lines",
         "showlegend": false,
         "type": "scatter",
         "x": [
          1750,
          1750
         ],
         "y": [
          0,
          0.003439301247849805
         ]
        },
        {
         "line": {
          "color": "black",
          "width": 2
         },
         "mode": "lines",
         "showlegend": false,
         "type": "scatter",
         "x": [
          1800,
          1800
         ],
         "y": [
          0,
          0.0017308138160802245
         ]
        },
        {
         "line": {
          "color": "black",
          "width": 2
         },
         "mode": "lines",
         "showlegend": false,
         "type": "scatter",
         "x": [
          1850,
          1850
         ],
         "y": [
          0,
          0.004572179366002617
         ]
        },
        {
         "line": {
          "color": "black",
          "width": 2
         },
         "mode": "lines",
         "showlegend": false,
         "type": "scatter",
         "x": [
          1900,
          1900
         ],
         "y": [
          0,
          0.0018944859897806648
         ]
        },
        {
         "line": {
          "color": "black",
          "width": 2
         },
         "mode": "lines",
         "showlegend": false,
         "type": "scatter",
         "x": [
          1950,
          1950
         ],
         "y": [
          0,
          0.0025808951620797443
         ]
        },
        {
         "marker": {
          "color": "black",
          "size": 8
         },
         "mode": "markers",
         "name": "noisy",
         "type": "scatter",
         "x": [
          -2000,
          -1950,
          -1900,
          -1850,
          -1800,
          -1750,
          -1700,
          -1650,
          -1600,
          -1550,
          -1500,
          -1450,
          -1400,
          -1350,
          -1300,
          -1250,
          -1200,
          -1150,
          -1100,
          -1050,
          -1000,
          -950,
          -900,
          -850,
          -800,
          -750,
          -700,
          -650,
          -600,
          -550,
          -500,
          -450,
          -400,
          -350,
          -300,
          -250,
          -200,
          -150,
          -100,
          -50,
          0,
          50,
          100,
          150,
          200,
          250,
          300,
          350,
          400,
          450,
          500,
          550,
          600,
          650,
          700,
          750,
          800,
          850,
          900,
          950,
          1000,
          1050,
          1100,
          1150,
          1200,
          1250,
          1300,
          1350,
          1400,
          1450,
          1500,
          1550,
          1600,
          1650,
          1700,
          1750,
          1800,
          1850,
          1900,
          1950
         ],
         "y": [
          0.0012396468478644588,
          0.002580895162079747,
          0.0018944859897806641,
          0.004572179366002622,
          0.0017308138160802245,
          0.0034393012478498046,
          0.0051470768353635895,
          0.005218871062872562,
          0.001518920630211959,
          0.002724177446874578,
          0.005023050667130474,
          0.0006869175939098723,
          0.00401989666845849,
          0.0032748718383979985,
          0.003411725614108829,
          0.0007922483554524423,
          0.0004989871595658588,
          0.0029035621625147076,
          0.0018968198856390407,
          0.005195033236411094,
          0.0013834579855180598,
          0.02169985429653531,
          0.03417743100345295,
          0.004765859503419886,
          0.015078911231687914,
          0.04476991241948287,
          0.04688855695311607,
          0.05210381557725775,
          0.005965013496827955,
          0.009265748214036734,
          0.03116159397024209,
          0.006854967434581475,
          0.029667000765099746,
          0.025775064296102965,
          0.011945345149538445,
          0.04102165810678231,
          0.028456035035998153,
          0.018331274642798167,
          0.016390625333847286,
          0.4990501409325294,
          0.09189257009600998,
          0.4990501409325294,
          0.01639062533384729,
          0.018331274642798174,
          0.028456035035998157,
          0.04102165810678232,
          0.011945345149538449,
          0.02577506429610295,
          0.029667000765099746,
          0.00685496743458148,
          0.03116159397024209,
          0.009265748214036723,
          0.005965013496827955,
          0.05210381557725775,
          0.04688855695311607,
          0.04476991241948284,
          0.015078911231687914,
          0.004765859503419854,
          0.03417743100345294,
          0.021699854296535308,
          0.0013834579855180609,
          0.005195033236411094,
          0.0018968198856390364,
          0.002903562162514727,
          0.0004989871595658589,
          0.0007922483554524565,
          0.00341172561410883,
          0.0032748718383980055,
          0.004019896668458489,
          0.000686917593909863,
          0.005023050667130473,
          0.002724177446874575,
          0.001518920630211959,
          0.00521887106287255,
          0.005147076835363588,
          0.003439301247849805,
          0.0017308138160802245,
          0.004572179366002617,
          0.0018944859897806648,
          0.0025808951620797443
         ]
        },
        {
         "line": {
          "color": "red",
          "width": 2
         },
         "mode": "lines",
         "showlegend": false,
         "type": "scatter",
         "x": [
          -2000,
          -2000
         ],
         "y": [
          0,
          9.681925400295562e-18
         ]
        },
        {
         "line": {
          "color": "red",
          "width": 2
         },
         "mode": "lines",
         "showlegend": false,
         "type": "scatter",
         "x": [
          -1950,
          -1950
         ],
         "y": [
          0,
          2.989366980140908e-17
         ]
        },
        {
         "line": {
          "color": "red",
          "width": 2
         },
         "mode": "lines",
         "showlegend": false,
         "type": "scatter",
         "x": [
          -1900,
          -1900
         ],
         "y": [
          0,
          2.1665422850450567e-17
         ]
        },
        {
         "line": {
          "color": "red",
          "width": 2
         },
         "mode": "lines",
         "showlegend": false,
         "type": "scatter",
         "x": [
          -1850,
          -1850
         ],
         "y": [
          0,
          4.131410670961176e-17
         ]
        },
        {
         "line": {
          "color": "red",
          "width": 2
         },
         "mode": "lines",
         "showlegend": false,
         "type": "scatter",
         "x": [
          -1800,
          -1800
         ],
         "y": [
          0,
          3.4174200621034086e-17
         ]
        },
        {
         "line": {
          "color": "red",
          "width": 2
         },
         "mode": "lines",
         "showlegend": false,
         "type": "scatter",
         "x": [
          -1750,
          -1750
         ],
         "y": [
          0,
          3.030414332265599e-17
         ]
        },
        {
         "line": {
          "color": "red",
          "width": 2
         },
         "mode": "lines",
         "showlegend": false,
         "type": "scatter",
         "x": [
          -1700,
          -1700
         ],
         "y": [
          0,
          8.367272813257197e-18
         ]
        },
        {
         "line": {
          "color": "red",
          "width": 2
         },
         "mode": "lines",
         "showlegend": false,
         "type": "scatter",
         "x": [
          -1650,
          -1650
         ],
         "y": [
          0,
          2.167779754565684e-17
         ]
        },
        {
         "line": {
          "color": "red",
          "width": 2
         },
         "mode": "lines",
         "showlegend": false,
         "type": "scatter",
         "x": [
          -1600,
          -1600
         ],
         "y": [
          0,
          6.827271605066393e-18
         ]
        },
        {
         "line": {
          "color": "red",
          "width": 2
         },
         "mode": "lines",
         "showlegend": false,
         "type": "scatter",
         "x": [
          -1550,
          -1550
         ],
         "y": [
          0,
          8.42120434220378e-18
         ]
        },
        {
         "line": {
          "color": "red",
          "width": 2
         },
         "mode": "lines",
         "showlegend": false,
         "type": "scatter",
         "x": [
          -1500,
          -1500
         ],
         "y": [
          0,
          1.5023457248395173e-17
         ]
        },
        {
         "line": {
          "color": "red",
          "width": 2
         },
         "mode": "lines",
         "showlegend": false,
         "type": "scatter",
         "x": [
          -1450,
          -1450
         ],
         "y": [
          0,
          2.075294148022481e-17
         ]
        },
        {
         "line": {
          "color": "red",
          "width": 2
         },
         "mode": "lines",
         "showlegend": false,
         "type": "scatter",
         "x": [
          -1400,
          -1400
         ],
         "y": [
          0,
          1.2956617972937133e-17
         ]
        },
        {
         "line": {
          "color": "red",
          "width": 2
         },
         "mode": "lines",
         "showlegend": false,
         "type": "scatter",
         "x": [
          -1350,
          -1350
         ],
         "y": [
          0,
          4.4457400823257674e-18
         ]
        },
        {
         "line": {
          "color": "red",
          "width": 2
         },
         "mode": "lines",
         "showlegend": false,
         "type": "scatter",
         "x": [
          -1300,
          -1300
         ],
         "y": [
          0,
          2.877124452490227e-18
         ]
        },
        {
         "line": {
          "color": "red",
          "width": 2
         },
         "mode": "lines",
         "showlegend": false,
         "type": "scatter",
         "x": [
          -1250,
          -1250
         ],
         "y": [
          0,
          3.4440619072613237e-18
         ]
        },
        {
         "line": {
          "color": "red",
          "width": 2
         },
         "mode": "lines",
         "showlegend": false,
         "type": "scatter",
         "x": [
          -1200,
          -1200
         ],
         "y": [
          0,
          2.0214938916808947e-17
         ]
        },
        {
         "line": {
          "color": "red",
          "width": 2
         },
         "mode": "lines",
         "showlegend": false,
         "type": "scatter",
         "x": [
          -1150,
          -1150
         ],
         "y": [
          0,
          7.207950837220667e-18
         ]
        },
        {
         "line": {
          "color": "red",
          "width": 2
         },
         "mode": "lines",
         "showlegend": false,
         "type": "scatter",
         "x": [
          -1100,
          -1100
         ],
         "y": [
          0,
          1.7206497488466794e-17
         ]
        },
        {
         "line": {
          "color": "red",
          "width": 2
         },
         "mode": "lines",
         "showlegend": false,
         "type": "scatter",
         "x": [
          -1050,
          -1050
         ],
         "y": [
          0,
          1.397411743578599e-18
         ]
        },
        {
         "line": {
          "color": "red",
          "width": 2
         },
         "mode": "lines",
         "showlegend": false,
         "type": "scatter",
         "x": [
          -1000,
          -1000
         ],
         "y": [
          0,
          1.40144402268255e-17
         ]
        },
        {
         "line": {
          "color": "red",
          "width": 2
         },
         "mode": "lines",
         "showlegend": false,
         "type": "scatter",
         "x": [
          -950,
          -950
         ],
         "y": [
          0,
          1.8094421531119197e-17
         ]
        },
        {
         "line": {
          "color": "red",
          "width": 2
         },
         "mode": "lines",
         "showlegend": false,
         "type": "scatter",
         "x": [
          -900,
          -900
         ],
         "y": [
          0,
          2.4924500311514883e-18
         ]
        },
        {
         "line": {
          "color": "red",
          "width": 2
         },
         "mode": "lines",
         "showlegend": false,
         "type": "scatter",
         "x": [
          -850,
          -850
         ],
         "y": [
          0,
          2.897767167584095e-17
         ]
        },
        {
         "line": {
          "color": "red",
          "width": 2
         },
         "mode": "lines",
         "showlegend": false,
         "type": "scatter",
         "x": [
          -800,
          -800
         ],
         "y": [
          0,
          8.232757970251693e-18
         ]
        },
        {
         "line": {
          "color": "red",
          "width": 2
         },
         "mode": "lines",
         "showlegend": false,
         "type": "scatter",
         "x": [
          -750,
          -750
         ],
         "y": [
          0,
          2.0676145793791093e-17
         ]
        },
        {
         "line": {
          "color": "red",
          "width": 2
         },
         "mode": "lines",
         "showlegend": false,
         "type": "scatter",
         "x": [
          -700,
          -700
         ],
         "y": [
          0,
          3.2349115770901233e-18
         ]
        },
        {
         "line": {
          "color": "red",
          "width": 2
         },
         "mode": "lines",
         "showlegend": false,
         "type": "scatter",
         "x": [
          -650,
          -650
         ],
         "y": [
          0,
          2.5614010169866615e-17
         ]
        },
        {
         "line": {
          "color": "red",
          "width": 2
         },
         "mode": "lines",
         "showlegend": false,
         "type": "scatter",
         "x": [
          -600,
          -600
         ],
         "y": [
          0,
          1.4827461246087234e-17
         ]
        },
        {
         "line": {
          "color": "red",
          "width": 2
         },
         "mode": "lines",
         "showlegend": false,
         "type": "scatter",
         "x": [
          -550,
          -550
         ],
         "y": [
          0,
          2.6407144246004272e-17
         ]
        },
        {
         "line": {
          "color": "red",
          "width": 2
         },
         "mode": "lines",
         "showlegend": false,
         "type": "scatter",
         "x": [
          -500,
          -500
         ],
         "y": [
          0,
          1.7355914469756828e-17
         ]
        },
        {
         "line": {
          "color": "red",
          "width": 2
         },
         "mode": "lines",
         "showlegend": false,
         "type": "scatter",
         "x": [
          -450,
          -450
         ],
         "y": [
          0,
          1.9234228457501664e-17
         ]
        },
        {
         "line": {
          "color": "red",
          "width": 2
         },
         "mode": "lines",
         "showlegend": false,
         "type": "scatter",
         "x": [
          -400,
          -400
         ],
         "y": [
          0,
          2.810351872959433e-17
         ]
        },
        {
         "line": {
          "color": "red",
          "width": 2
         },
         "mode": "lines",
         "showlegend": false,
         "type": "scatter",
         "x": [
          -350,
          -350
         ],
         "y": [
          0,
          7.924746805583423e-18
         ]
        },
        {
         "line": {
          "color": "red",
          "width": 2
         },
         "mode": "lines",
         "showlegend": false,
         "type": "scatter",
         "x": [
          -300,
          -300
         ],
         "y": [
          0,
          2.1276612349957837e-17
         ]
        },
        {
         "line": {
          "color": "red",
          "width": 2
         },
         "mode": "lines",
         "showlegend": false,
         "type": "scatter",
         "x": [
          -250,
          -250
         ],
         "y": [
          0,
          2.7346013190872258e-17
         ]
        },
        {
         "line": {
          "color": "red",
          "width": 2
         },
         "mode": "lines",
         "showlegend": false,
         "type": "scatter",
         "x": [
          -200,
          -200
         ],
         "y": [
          0,
          3.383282124974e-17
         ]
        },
        {
         "line": {
          "color": "red",
          "width": 2
         },
         "mode": "lines",
         "showlegend": false,
         "type": "scatter",
         "x": [
          -150,
          -150
         ],
         "y": [
          0,
          2.0778108847746316e-17
         ]
        },
        {
         "line": {
          "color": "red",
          "width": 2
         },
         "mode": "lines",
         "showlegend": false,
         "type": "scatter",
         "x": [
          -100,
          -100
         ],
         "y": [
          0,
          9.62821668974566e-18
         ]
        },
        {
         "line": {
          "color": "red",
          "width": 2
         },
         "mode": "lines",
         "showlegend": false,
         "type": "scatter",
         "x": [
          -50,
          -50
         ],
         "y": [
          0,
          0.5
         ]
        },
        {
         "line": {
          "color": "red",
          "width": 2
         },
         "mode": "lines",
         "showlegend": false,
         "type": "scatter",
         "x": [
          0,
          0
         ],
         "y": [
          0,
          4.2706723574204023e-17
         ]
        },
        {
         "line": {
          "color": "red",
          "width": 2
         },
         "mode": "lines",
         "showlegend": false,
         "type": "scatter",
         "x": [
          50,
          50
         ],
         "y": [
          0,
          0.5
         ]
        },
        {
         "line": {
          "color": "red",
          "width": 2
         },
         "mode": "lines",
         "showlegend": false,
         "type": "scatter",
         "x": [
          100,
          100
         ],
         "y": [
          0,
          9.628216689745658e-18
         ]
        },
        {
         "line": {
          "color": "red",
          "width": 2
         },
         "mode": "lines",
         "showlegend": false,
         "type": "scatter",
         "x": [
          150,
          150
         ],
         "y": [
          0,
          1.5838319836915703e-17
         ]
        },
        {
         "line": {
          "color": "red",
          "width": 2
         },
         "mode": "lines",
         "showlegend": false,
         "type": "scatter",
         "x": [
          200,
          200
         ],
         "y": [
          0,
          3.3832821249739993e-17
         ]
        },
        {
         "line": {
          "color": "red",
          "width": 2
         },
         "mode": "lines",
         "showlegend": false,
         "type": "scatter",
         "x": [
          250,
          250
         ],
         "y": [
          0,
          2.4788510754341303e-17
         ]
        },
        {
         "line": {
          "color": "red",
          "width": 2
         },
         "mode": "lines",
         "showlegend": false,
         "type": "scatter",
         "x": [
          300,
          300
         ],
         "y": [
          0,
          2.1276612349957837e-17
         ]
        },
        {
         "line": {
          "color": "red",
          "width": 2
         },
         "mode": "lines",
         "showlegend": false,
         "type": "scatter",
         "x": [
          350,
          350
         ],
         "y": [
          0,
          8.163436537983653e-18
         ]
        },
        {
         "line": {
          "color": "red",
          "width": 2
         },
         "mode": "lines",
         "showlegend": false,
         "type": "scatter",
         "x": [
          400,
          400
         ],
         "y": [
          0,
          2.8103518729594336e-17
         ]
        },
        {
         "line": {
          "color": "red",
          "width": 2
         },
         "mode": "lines",
         "showlegend": false,
         "type": "scatter",
         "x": [
          450,
          450
         ],
         "y": [
          0,
          2.627633292357923e-17
         ]
        },
        {
         "line": {
          "color": "red",
          "width": 2
         },
         "mode": "lines",
         "showlegend": false,
         "type": "scatter",
         "x": [
          500,
          500
         ],
         "y": [
          0,
          1.735591446975683e-17
         ]
        },
        {
         "line": {
          "color": "red",
          "width": 2
         },
         "mode": "lines",
         "showlegend": false,
         "type": "scatter",
         "x": [
          550,
          550
         ],
         "y": [
          0,
          2.55999263638106e-17
         ]
        },
        {
         "line": {
          "color": "red",
          "width": 2
         },
         "mode": "lines",
         "showlegend": false,
         "type": "scatter",
         "x": [
          600,
          600
         ],
         "y": [
          0,
          1.4827461246087234e-17
         ]
        },
        {
         "line": {
          "color": "red",
          "width": 2
         },
         "mode": "lines",
         "showlegend": false,
         "type": "scatter",
         "x": [
          650,
          650
         ],
         "y": [
          0,
          1.6593578055228968e-17
         ]
        },
        {
         "line": {
          "color": "red",
          "width": 2
         },
         "mode": "lines",
         "showlegend": false,
         "type": "scatter",
         "x": [
          700,
          700
         ],
         "y": [
          0,
          3.234911577090122e-18
         ]
        },
        {
         "line": {
          "color": "red",
          "width": 2
         },
         "mode": "lines",
         "showlegend": false,
         "type": "scatter",
         "x": [
          750,
          750
         ],
         "y": [
          0,
          2.2887833992611188e-17
         ]
        },
        {
         "line": {
          "color": "red",
          "width": 2
         },
         "mode": "lines",
         "showlegend": false,
         "type": "scatter",
         "x": [
          800,
          800
         ],
         "y": [
          0,
          8.232757970251693e-18
         ]
        },
        {
         "line": {
          "color": "red",
          "width": 2
         },
         "mode": "lines",
         "showlegend": false,
         "type": "scatter",
         "x": [
          850,
          850
         ],
         "y": [
          0,
          3.695019804192226e-17
         ]
        },
        {
         "line": {
          "color": "red",
          "width": 2
         },
         "mode": "lines",
         "showlegend": false,
         "type": "scatter",
         "x": [
          900,
          900
         ],
         "y": [
          0,
          2.4924500311514883e-18
         ]
        },
        {
         "line": {
          "color": "red",
          "width": 2
         },
         "mode": "lines",
         "showlegend": false,
         "type": "scatter",
         "x": [
          950,
          950
         ],
         "y": [
          0,
          2.2173115597071706e-17
         ]
        },
        {
         "line": {
          "color": "red",
          "width": 2
         },
         "mode": "lines",
         "showlegend": false,
         "type": "scatter",
         "x": [
          1000,
          1000
         ],
         "y": [
          0,
          1.4014440226825503e-17
         ]
        },
        {
         "line": {
          "color": "red",
          "width": 2
         },
         "mode": "lines",
         "showlegend": false,
         "type": "scatter",
         "x": [
          1050,
          1050
         ],
         "y": [
          0,
          8.092071311423666e-18
         ]
        },
        {
         "line": {
          "color": "red",
          "width": 2
         },
         "mode": "lines",
         "showlegend": false,
         "type": "scatter",
         "x": [
          1100,
          1100
         ],
         "y": [
          0,
          1.720649748846679e-17
         ]
        },
        {
         "line": {
          "color": "red",
          "width": 2
         },
         "mode": "lines",
         "showlegend": false,
         "type": "scatter",
         "x": [
          1150,
          1150
         ],
         "y": [
          0,
          1.1123893155135927e-17
         ]
        },
        {
         "line": {
          "color": "red",
          "width": 2
         },
         "mode": "lines",
         "showlegend": false,
         "type": "scatter",
         "x": [
          1200,
          1200
         ],
         "y": [
          0,
          2.0214938916808944e-17
         ]
        },
        {
         "line": {
          "color": "red",
          "width": 2
         },
         "mode": "lines",
         "showlegend": false,
         "type": "scatter",
         "x": [
          1250,
          1250
         ],
         "y": [
          0,
          1.2249874011633771e-17
         ]
        },
        {
         "line": {
          "color": "red",
          "width": 2
         },
         "mode": "lines",
         "showlegend": false,
         "type": "scatter",
         "x": [
          1300,
          1300
         ],
         "y": [
          0,
          2.8771244524902282e-18
         ]
        },
        {
         "line": {
          "color": "red",
          "width": 2
         },
         "mode": "lines",
         "showlegend": false,
         "type": "scatter",
         "x": [
          1350,
          1350
         ],
         "y": [
          0,
          6.997405316500329e-18
         ]
        },
        {
         "line": {
          "color": "red",
          "width": 2
         },
         "mode": "lines",
         "showlegend": false,
         "type": "scatter",
         "x": [
          1400,
          1400
         ],
         "y": [
          0,
          1.2956617972937134e-17
         ]
        },
        {
         "line": {
          "color": "red",
          "width": 2
         },
         "mode": "lines",
         "showlegend": false,
         "type": "scatter",
         "x": [
          1450,
          1450
         ],
         "y": [
          0,
          2.1321036500469888e-17
         ]
        },
        {
         "line": {
          "color": "red",
          "width": 2
         },
         "mode": "lines",
         "showlegend": false,
         "type": "scatter",
         "x": [
          1500,
          1500
         ],
         "y": [
          0,
          1.5023457248395176e-17
         ]
        },
        {
         "line": {
          "color": "red",
          "width": 2
         },
         "mode": "lines",
         "showlegend": false,
         "type": "scatter",
         "x": [
          1550,
          1550
         ],
         "y": [
          0,
          2.2204460492503132e-17
         ]
        },
        {
         "line": {
          "color": "red",
          "width": 2
         },
         "mode": "lines",
         "showlegend": false,
         "type": "scatter",
         "x": [
          1600,
          1600
         ],
         "y": [
          0,
          6.827271605066393e-18
         ]
        },
        {
         "line": {
          "color": "red",
          "width": 2
         },
         "mode": "lines",
         "showlegend": false,
         "type": "scatter",
         "x": [
          1650,
          1650
         ],
         "y": [
          0,
          2.323410742418863e-17
         ]
        },
        {
         "line": {
          "color": "red",
          "width": 2
         },
         "mode": "lines",
         "showlegend": false,
         "type": "scatter",
         "x": [
          1700,
          1700
         ],
         "y": [
          0,
          8.367272813257197e-18
         ]
        },
        {
         "line": {
          "color": "red",
          "width": 2
         },
         "mode": "lines",
         "showlegend": false,
         "type": "scatter",
         "x": [
          1750,
          1750
         ],
         "y": [
          0,
          3.3750229616783644e-17
         ]
        },
        {
         "line": {
          "color": "red",
          "width": 2
         },
         "mode": "lines",
         "showlegend": false,
         "type": "scatter",
         "x": [
          1800,
          1800
         ],
         "y": [
          0,
          3.417420062103409e-17
         ]
        },
        {
         "line": {
          "color": "red",
          "width": 2
         },
         "mode": "lines",
         "showlegend": false,
         "type": "scatter",
         "x": [
          1850,
          1850
         ],
         "y": [
          0,
          3.936520112074033e-17
         ]
        },
        {
         "line": {
          "color": "red",
          "width": 2
         },
         "mode": "lines",
         "showlegend": false,
         "type": "scatter",
         "x": [
          1900,
          1900
         ],
         "y": [
          0,
          2.166542285045057e-17
         ]
        },
        {
         "line": {
          "color": "red",
          "width": 2
         },
         "mode": "lines",
         "showlegend": false,
         "type": "scatter",
         "x": [
          1950,
          1950
         ],
         "y": [
          0,
          2.1684321077373155e-17
         ]
        },
        {
         "marker": {
          "color": "red",
          "size": 4
         },
         "mode": "markers",
         "name": "pure",
         "type": "scatter",
         "x": [
          -2000,
          -1950,
          -1900,
          -1850,
          -1800,
          -1750,
          -1700,
          -1650,
          -1600,
          -1550,
          -1500,
          -1450,
          -1400,
          -1350,
          -1300,
          -1250,
          -1200,
          -1150,
          -1100,
          -1050,
          -1000,
          -950,
          -900,
          -850,
          -800,
          -750,
          -700,
          -650,
          -600,
          -550,
          -500,
          -450,
          -400,
          -350,
          -300,
          -250,
          -200,
          -150,
          -100,
          -50,
          0,
          50,
          100,
          150,
          200,
          250,
          300,
          350,
          400,
          450,
          500,
          550,
          600,
          650,
          700,
          750,
          800,
          850,
          900,
          950,
          1000,
          1050,
          1100,
          1150,
          1200,
          1250,
          1300,
          1350,
          1400,
          1450,
          1500,
          1550,
          1600,
          1650,
          1700,
          1750,
          1800,
          1850,
          1900,
          1950
         ],
         "y": [
          9.681925400295562e-18,
          2.989366980140908e-17,
          2.1665422850450567e-17,
          4.131410670961176e-17,
          3.4174200621034086e-17,
          3.030414332265599e-17,
          8.367272813257197e-18,
          2.167779754565684e-17,
          6.827271605066393e-18,
          8.42120434220378e-18,
          1.5023457248395173e-17,
          2.075294148022481e-17,
          1.2956617972937133e-17,
          4.4457400823257674e-18,
          2.877124452490227e-18,
          3.4440619072613237e-18,
          2.0214938916808947e-17,
          7.207950837220667e-18,
          1.7206497488466794e-17,
          1.397411743578599e-18,
          1.40144402268255e-17,
          1.8094421531119197e-17,
          2.4924500311514883e-18,
          2.897767167584095e-17,
          8.232757970251693e-18,
          2.0676145793791093e-17,
          3.2349115770901233e-18,
          2.5614010169866615e-17,
          1.4827461246087234e-17,
          2.6407144246004272e-17,
          1.7355914469756828e-17,
          1.9234228457501664e-17,
          2.810351872959433e-17,
          7.924746805583423e-18,
          2.1276612349957837e-17,
          2.7346013190872258e-17,
          3.383282124974e-17,
          2.0778108847746316e-17,
          9.62821668974566e-18,
          0.5,
          4.2706723574204023e-17,
          0.5,
          9.628216689745658e-18,
          1.5838319836915703e-17,
          3.3832821249739993e-17,
          2.4788510754341303e-17,
          2.1276612349957837e-17,
          8.163436537983653e-18,
          2.8103518729594336e-17,
          2.627633292357923e-17,
          1.735591446975683e-17,
          2.55999263638106e-17,
          1.4827461246087234e-17,
          1.6593578055228968e-17,
          3.234911577090122e-18,
          2.2887833992611188e-17,
          8.232757970251693e-18,
          3.695019804192226e-17,
          2.4924500311514883e-18,
          2.2173115597071706e-17,
          1.4014440226825503e-17,
          8.092071311423666e-18,
          1.720649748846679e-17,
          1.1123893155135927e-17,
          2.0214938916808944e-17,
          1.2249874011633771e-17,
          2.8771244524902282e-18,
          6.997405316500329e-18,
          1.2956617972937134e-17,
          2.1321036500469888e-17,
          1.5023457248395176e-17,
          2.2204460492503132e-17,
          6.827271605066393e-18,
          2.323410742418863e-17,
          8.367272813257197e-18,
          3.3750229616783644e-17,
          3.417420062103409e-17,
          3.936520112074033e-17,
          2.166542285045057e-17,
          2.1684321077373155e-17
         ]
        }
       ],
       "layout": {
        "template": {
         "data": {
          "bar": [
           {
            "error_x": {
             "color": "#2a3f5f"
            },
            "error_y": {
             "color": "#2a3f5f"
            },
            "marker": {
             "line": {
              "color": "#E5ECF6",
              "width": 0.5
             },
             "pattern": {
              "fillmode": "overlay",
              "size": 10,
              "solidity": 0.2
             }
            },
            "type": "bar"
           }
          ],
          "barpolar": [
           {
            "marker": {
             "line": {
              "color": "#E5ECF6",
              "width": 0.5
             },
             "pattern": {
              "fillmode": "overlay",
              "size": 10,
              "solidity": 0.2
             }
            },
            "type": "barpolar"
           }
          ],
          "carpet": [
           {
            "aaxis": {
             "endlinecolor": "#2a3f5f",
             "gridcolor": "white",
             "linecolor": "white",
             "minorgridcolor": "white",
             "startlinecolor": "#2a3f5f"
            },
            "baxis": {
             "endlinecolor": "#2a3f5f",
             "gridcolor": "white",
             "linecolor": "white",
             "minorgridcolor": "white",
             "startlinecolor": "#2a3f5f"
            },
            "type": "carpet"
           }
          ],
          "choropleth": [
           {
            "colorbar": {
             "outlinewidth": 0,
             "ticks": ""
            },
            "type": "choropleth"
           }
          ],
          "contour": [
           {
            "colorbar": {
             "outlinewidth": 0,
             "ticks": ""
            },
            "colorscale": [
             [
              0,
              "#0d0887"
             ],
             [
              0.1111111111111111,
              "#46039f"
             ],
             [
              0.2222222222222222,
              "#7201a8"
             ],
             [
              0.3333333333333333,
              "#9c179e"
             ],
             [
              0.4444444444444444,
              "#bd3786"
             ],
             [
              0.5555555555555556,
              "#d8576b"
             ],
             [
              0.6666666666666666,
              "#ed7953"
             ],
             [
              0.7777777777777778,
              "#fb9f3a"
             ],
             [
              0.8888888888888888,
              "#fdca26"
             ],
             [
              1,
              "#f0f921"
             ]
            ],
            "type": "contour"
           }
          ],
          "contourcarpet": [
           {
            "colorbar": {
             "outlinewidth": 0,
             "ticks": ""
            },
            "type": "contourcarpet"
           }
          ],
          "heatmap": [
           {
            "colorbar": {
             "outlinewidth": 0,
             "ticks": ""
            },
            "colorscale": [
             [
              0,
              "#0d0887"
             ],
             [
              0.1111111111111111,
              "#46039f"
             ],
             [
              0.2222222222222222,
              "#7201a8"
             ],
             [
              0.3333333333333333,
              "#9c179e"
             ],
             [
              0.4444444444444444,
              "#bd3786"
             ],
             [
              0.5555555555555556,
              "#d8576b"
             ],
             [
              0.6666666666666666,
              "#ed7953"
             ],
             [
              0.7777777777777778,
              "#fb9f3a"
             ],
             [
              0.8888888888888888,
              "#fdca26"
             ],
             [
              1,
              "#f0f921"
             ]
            ],
            "type": "heatmap"
           }
          ],
          "heatmapgl": [
           {
            "colorbar": {
             "outlinewidth": 0,
             "ticks": ""
            },
            "colorscale": [
             [
              0,
              "#0d0887"
             ],
             [
              0.1111111111111111,
              "#46039f"
             ],
             [
              0.2222222222222222,
              "#7201a8"
             ],
             [
              0.3333333333333333,
              "#9c179e"
             ],
             [
              0.4444444444444444,
              "#bd3786"
             ],
             [
              0.5555555555555556,
              "#d8576b"
             ],
             [
              0.6666666666666666,
              "#ed7953"
             ],
             [
              0.7777777777777778,
              "#fb9f3a"
             ],
             [
              0.8888888888888888,
              "#fdca26"
             ],
             [
              1,
              "#f0f921"
             ]
            ],
            "type": "heatmapgl"
           }
          ],
          "histogram": [
           {
            "marker": {
             "pattern": {
              "fillmode": "overlay",
              "size": 10,
              "solidity": 0.2
             }
            },
            "type": "histogram"
           }
          ],
          "histogram2d": [
           {
            "colorbar": {
             "outlinewidth": 0,
             "ticks": ""
            },
            "colorscale": [
             [
              0,
              "#0d0887"
             ],
             [
              0.1111111111111111,
              "#46039f"
             ],
             [
              0.2222222222222222,
              "#7201a8"
             ],
             [
              0.3333333333333333,
              "#9c179e"
             ],
             [
              0.4444444444444444,
              "#bd3786"
             ],
             [
              0.5555555555555556,
              "#d8576b"
             ],
             [
              0.6666666666666666,
              "#ed7953"
             ],
             [
              0.7777777777777778,
              "#fb9f3a"
             ],
             [
              0.8888888888888888,
              "#fdca26"
             ],
             [
              1,
              "#f0f921"
             ]
            ],
            "type": "histogram2d"
           }
          ],
          "histogram2dcontour": [
           {
            "colorbar": {
             "outlinewidth": 0,
             "ticks": ""
            },
            "colorscale": [
             [
              0,
              "#0d0887"
             ],
             [
              0.1111111111111111,
              "#46039f"
             ],
             [
              0.2222222222222222,
              "#7201a8"
             ],
             [
              0.3333333333333333,
              "#9c179e"
             ],
             [
              0.4444444444444444,
              "#bd3786"
             ],
             [
              0.5555555555555556,
              "#d8576b"
             ],
             [
              0.6666666666666666,
              "#ed7953"
             ],
             [
              0.7777777777777778,
              "#fb9f3a"
             ],
             [
              0.8888888888888888,
              "#fdca26"
             ],
             [
              1,
              "#f0f921"
             ]
            ],
            "type": "histogram2dcontour"
           }
          ],
          "mesh3d": [
           {
            "colorbar": {
             "outlinewidth": 0,
             "ticks": ""
            },
            "type": "mesh3d"
           }
          ],
          "parcoords": [
           {
            "line": {
             "colorbar": {
              "outlinewidth": 0,
              "ticks": ""
             }
            },
            "type": "parcoords"
           }
          ],
          "pie": [
           {
            "automargin": true,
            "type": "pie"
           }
          ],
          "scatter": [
           {
            "fillpattern": {
             "fillmode": "overlay",
             "size": 10,
             "solidity": 0.2
            },
            "type": "scatter"
           }
          ],
          "scatter3d": [
           {
            "line": {
             "colorbar": {
              "outlinewidth": 0,
              "ticks": ""
             }
            },
            "marker": {
             "colorbar": {
              "outlinewidth": 0,
              "ticks": ""
             }
            },
            "type": "scatter3d"
           }
          ],
          "scattercarpet": [
           {
            "marker": {
             "colorbar": {
              "outlinewidth": 0,
              "ticks": ""
             }
            },
            "type": "scattercarpet"
           }
          ],
          "scattergeo": [
           {
            "marker": {
             "colorbar": {
              "outlinewidth": 0,
              "ticks": ""
             }
            },
            "type": "scattergeo"
           }
          ],
          "scattergl": [
           {
            "marker": {
             "colorbar": {
              "outlinewidth": 0,
              "ticks": ""
             }
            },
            "type": "scattergl"
           }
          ],
          "scattermapbox": [
           {
            "marker": {
             "colorbar": {
              "outlinewidth": 0,
              "ticks": ""
             }
            },
            "type": "scattermapbox"
           }
          ],
          "scatterpolar": [
           {
            "marker": {
             "colorbar": {
              "outlinewidth": 0,
              "ticks": ""
             }
            },
            "type": "scatterpolar"
           }
          ],
          "scatterpolargl": [
           {
            "marker": {
             "colorbar": {
              "outlinewidth": 0,
              "ticks": ""
             }
            },
            "type": "scatterpolargl"
           }
          ],
          "scatterternary": [
           {
            "marker": {
             "colorbar": {
              "outlinewidth": 0,
              "ticks": ""
             }
            },
            "type": "scatterternary"
           }
          ],
          "surface": [
           {
            "colorbar": {
             "outlinewidth": 0,
             "ticks": ""
            },
            "colorscale": [
             [
              0,
              "#0d0887"
             ],
             [
              0.1111111111111111,
              "#46039f"
             ],
             [
              0.2222222222222222,
              "#7201a8"
             ],
             [
              0.3333333333333333,
              "#9c179e"
             ],
             [
              0.4444444444444444,
              "#bd3786"
             ],
             [
              0.5555555555555556,
              "#d8576b"
             ],
             [
              0.6666666666666666,
              "#ed7953"
             ],
             [
              0.7777777777777778,
              "#fb9f3a"
             ],
             [
              0.8888888888888888,
              "#fdca26"
             ],
             [
              1,
              "#f0f921"
             ]
            ],
            "type": "surface"
           }
          ],
          "table": [
           {
            "cells": {
             "fill": {
              "color": "#EBF0F8"
             },
             "line": {
              "color": "white"
             }
            },
            "header": {
             "fill": {
              "color": "#C8D4E3"
             },
             "line": {
              "color": "white"
             }
            },
            "type": "table"
           }
          ]
         },
         "layout": {
          "annotationdefaults": {
           "arrowcolor": "#2a3f5f",
           "arrowhead": 0,
           "arrowwidth": 1
          },
          "autotypenumbers": "strict",
          "coloraxis": {
           "colorbar": {
            "outlinewidth": 0,
            "ticks": ""
           }
          },
          "colorscale": {
           "diverging": [
            [
             0,
             "#8e0152"
            ],
            [
             0.1,
             "#c51b7d"
            ],
            [
             0.2,
             "#de77ae"
            ],
            [
             0.3,
             "#f1b6da"
            ],
            [
             0.4,
             "#fde0ef"
            ],
            [
             0.5,
             "#f7f7f7"
            ],
            [
             0.6,
             "#e6f5d0"
            ],
            [
             0.7,
             "#b8e186"
            ],
            [
             0.8,
             "#7fbc41"
            ],
            [
             0.9,
             "#4d9221"
            ],
            [
             1,
             "#276419"
            ]
           ],
           "sequential": [
            [
             0,
             "#0d0887"
            ],
            [
             0.1111111111111111,
             "#46039f"
            ],
            [
             0.2222222222222222,
             "#7201a8"
            ],
            [
             0.3333333333333333,
             "#9c179e"
            ],
            [
             0.4444444444444444,
             "#bd3786"
            ],
            [
             0.5555555555555556,
             "#d8576b"
            ],
            [
             0.6666666666666666,
             "#ed7953"
            ],
            [
             0.7777777777777778,
             "#fb9f3a"
            ],
            [
             0.8888888888888888,
             "#fdca26"
            ],
            [
             1,
             "#f0f921"
            ]
           ],
           "sequentialminus": [
            [
             0,
             "#0d0887"
            ],
            [
             0.1111111111111111,
             "#46039f"
            ],
            [
             0.2222222222222222,
             "#7201a8"
            ],
            [
             0.3333333333333333,
             "#9c179e"
            ],
            [
             0.4444444444444444,
             "#bd3786"
            ],
            [
             0.5555555555555556,
             "#d8576b"
            ],
            [
             0.6666666666666666,
             "#ed7953"
            ],
            [
             0.7777777777777778,
             "#fb9f3a"
            ],
            [
             0.8888888888888888,
             "#fdca26"
            ],
            [
             1,
             "#f0f921"
            ]
           ]
          },
          "colorway": [
           "#636efa",
           "#EF553B",
           "#00cc96",
           "#ab63fa",
           "#FFA15A",
           "#19d3f3",
           "#FF6692",
           "#B6E880",
           "#FF97FF",
           "#FECB52"
          ],
          "font": {
           "color": "#2a3f5f"
          },
          "geo": {
           "bgcolor": "white",
           "lakecolor": "white",
           "landcolor": "#E5ECF6",
           "showlakes": true,
           "showland": true,
           "subunitcolor": "white"
          },
          "hoverlabel": {
           "align": "left"
          },
          "hovermode": "closest",
          "mapbox": {
           "style": "light"
          },
          "paper_bgcolor": "white",
          "plot_bgcolor": "#E5ECF6",
          "polar": {
           "angularaxis": {
            "gridcolor": "white",
            "linecolor": "white",
            "ticks": ""
           },
           "bgcolor": "#E5ECF6",
           "radialaxis": {
            "gridcolor": "white",
            "linecolor": "white",
            "ticks": ""
           }
          },
          "scene": {
           "xaxis": {
            "backgroundcolor": "#E5ECF6",
            "gridcolor": "white",
            "gridwidth": 2,
            "linecolor": "white",
            "showbackground": true,
            "ticks": "",
            "zerolinecolor": "white"
           },
           "yaxis": {
            "backgroundcolor": "#E5ECF6",
            "gridcolor": "white",
            "gridwidth": 2,
            "linecolor": "white",
            "showbackground": true,
            "ticks": "",
            "zerolinecolor": "white"
           },
           "zaxis": {
            "backgroundcolor": "#E5ECF6",
            "gridcolor": "white",
            "gridwidth": 2,
            "linecolor": "white",
            "showbackground": true,
            "ticks": "",
            "zerolinecolor": "white"
           }
          },
          "shapedefaults": {
           "line": {
            "color": "#2a3f5f"
           }
          },
          "ternary": {
           "aaxis": {
            "gridcolor": "white",
            "linecolor": "white",
            "ticks": ""
           },
           "baxis": {
            "gridcolor": "white",
            "linecolor": "white",
            "ticks": ""
           },
           "bgcolor": "#E5ECF6",
           "caxis": {
            "gridcolor": "white",
            "linecolor": "white",
            "ticks": ""
           }
          },
          "title": {
           "x": 0.05
          },
          "xaxis": {
           "automargin": true,
           "gridcolor": "white",
           "linecolor": "white",
           "ticks": "",
           "title": {
            "standoff": 15
           },
           "zerolinecolor": "white",
           "zerolinewidth": 2
          },
          "yaxis": {
           "automargin": true,
           "gridcolor": "white",
           "linecolor": "white",
           "ticks": "",
           "title": {
            "standoff": 15
           },
           "zerolinecolor": "white",
           "zerolinewidth": 2
          }
         }
        },
        "title": {
         "text": "DFT Spectrum"
        },
        "xaxis": {
         "title": {
          "text": "Frequency, Hz"
         }
        },
        "yaxis": {
         "title": {
          "text": "Magnitude, linear"
         }
        }
       }
      }
     },
     "metadata": {},
     "output_type": "display_data"
    }
   ],
   "source": [
    "import numpy as np\n",
    "import plotly.graph_objects as go\n",
    "from math import pi\n",
    "\n",
    "np.random.seed(42)\n",
    "\n",
    "fs = 4000  # Hz\n",
    "Ts = 1 / fs\n",
    "time = np.arange(0, 20e-3, Ts)  # seconds\n",
    "\n",
    "# Generate periodic signals\n",
    "f1 = 50\n",
    "fmax = 20 * f1\n",
    "F = np.arange(0, fmax, f1)\n",
    "P = np.random.uniform(-pi, pi, len(F))\n",
    "A = np.random.uniform(0, 0.1, len(F))\n",
    "A[1] = 1\n",
    "\n",
    "def get_periodic(A, f1, p, fs, t1, t2):\n",
    "    Ts = 1 / fs\n",
    "    time = np.arange(t1, t2, Ts)  # seconds\n",
    "    periodic = [A * np.cos(2 * pi * f1 * t - p) for t in time]\n",
    "    return periodic, time\n",
    "\n",
    "t1 = 0\n",
    "t2 = 20e-3\n",
    "periodic = np.zeros((len(F),len(time)))\n",
    "for i in range(len(F)):\n",
    "    signal, time = get_periodic(A[i], F[i], P[i], fs, t1, t2)\n",
    "    periodic[i] = signal\n",
    "periodics = np.sum(periodic, axis=0)\n",
    "\n",
    "# Generate white noise\n",
    "noise_max = 0.1\n",
    "noise = np.random.uniform(0, noise_max, len(time))\n",
    "print(f\"Maximum noise amplitude = {noise_max}\")\n",
    "\n",
    "# Generate aperiodic component\n",
    "fade_coef = 100\n",
    "amp_coef = 1\n",
    "t_start = time[len(time) // 2]  # middle time\n",
    "aperiodic = amp_coef * np.exp(-fade_coef * (time - t_start))\n",
    "aperiodic[time < t_start] = 0  # aperiodic starts form t_start\n",
    "\n",
    "# Sum up all components into one signal\n",
    "signal = 0\n",
    "signal += periodics\n",
    "# signal += aperiodic\n",
    "signal += noise\n",
    "\n",
    "fig = go.Figure()\n",
    "fig.add_trace(go.Scatter(x=time, y=signal, name=\"noisy\", mode=\"lines+markers\", line=dict(color=\"black\")))\n",
    "fig.add_trace(go.Scatter(x=time, y=periodic[1], name=\"pure\", mode=\"lines+markers\", line=dict(color=\"red\")))\n",
    "# fig.add_trace(go.Scatter(x=time, y=periodic[0], name=\"DC\"))\n",
    "# fig.add_trace(go.Scatter(x=time, y=np.sum(periodic[2:], axis=0), name=\"harmonics\"))\n",
    "# fig.add_trace(go.Scatter(x=time, y=aperiodic, name=\"aperiodic\"))\n",
    "# fig.add_trace(go.Scatter(x=time, y=noise, name=\"noise\"))\n",
    "fig.update_layout(title=\"Digital Signal\", xaxis_title=\"Time, s\", yaxis_title=\"Magnitude, linear\")\n",
    "fig.show()\n",
    "\n",
    "def get_spectrum(signal, fs):\n",
    "    N = len(signal)\n",
    "    res = np.fft.fft(signal,N) / N # complex\n",
    "    freqs = np.fft.fftfreq(len(signal),1/fs)\n",
    "    res = np.fft.fftshift(res)#[N//2:] * 2\n",
    "    freqs = np.fft.fftshift(freqs)#[N//2:]\n",
    "    mags = np.abs(res)\n",
    "    return mags, freqs\n",
    "\n",
    "mags, freqs = get_spectrum(signal, fs)\n",
    "mags1, freqs1 = get_spectrum(periodic[1], fs)\n",
    "\n",
    "fig = go.Figure()\n",
    "# Add the stems (vertical lines)\n",
    "for i in range(len(freqs)):\n",
    "    fig.add_trace(\n",
    "        go.Scatter(\n",
    "            x=[freqs[i], freqs[i]],\n",
    "            y=[0, mags[i]],\n",
    "            mode=\"lines\",\n",
    "            line=dict(color=\"black\", width=2),\n",
    "            showlegend=False,\n",
    "        )\n",
    "    )\n",
    "# Add the markers at stems\n",
    "fig.add_trace(\n",
    "    go.Scatter(\n",
    "        x=freqs,\n",
    "        y=mags,\n",
    "        mode=\"markers\",\n",
    "        marker=dict(color=\"black\", size=8),\n",
    "        name=\"noisy\",\n",
    "    )\n",
    ")\n",
    "for i in range(len(freqs)):\n",
    "    fig.add_trace(\n",
    "        go.Scatter(\n",
    "            x=[freqs1[i], freqs1[i]],\n",
    "            y=[0, mags1[i]],\n",
    "            mode=\"lines\",\n",
    "            line=dict(color=\"red\", width=2),\n",
    "            showlegend=False,\n",
    "        )\n",
    "    )\n",
    "# Add the markers at stems\n",
    "fig.add_trace(\n",
    "    go.Scatter(\n",
    "        x=freqs1,\n",
    "        y=mags1,\n",
    "        mode=\"markers\",\n",
    "        marker=dict(color=\"red\", size=4),\n",
    "        name=\"pure\",\n",
    "    )\n",
    ")\n",
    "fig.update_layout(title=\"DFT Spectrum\", xaxis_title=\"Frequency, Hz\", yaxis_title=\"Magnitude, linear\")\n",
    "fig.show()\n"
   ]
  },
  {
   "cell_type": "code",
   "execution_count": 72,
   "metadata": {},
   "outputs": [
    {
     "data": {
      "text/plain": [
       "array([-2000., -1950., -1900., -1850., -1800., -1750., -1700., -1650.,\n",
       "       -1600., -1550., -1500., -1450., -1400., -1350., -1300., -1250.,\n",
       "       -1200., -1150., -1100., -1050., -1000.,  -950.,  -900.,  -850.,\n",
       "        -800.,  -750.,  -700.,  -650.,  -600.,  -550.,  -500.,  -450.,\n",
       "        -400.,  -350.,  -300.,  -250.,  -200.,  -150.,  -100.,   -50.,\n",
       "           0.,    50.,   100.,   150.,   200.,   250.,   300.,   350.,\n",
       "         400.,   450.,   500.,   550.,   600.,   650.,   700.,   750.,\n",
       "         800.,   850.,   900.,   950.,  1000.,  1050.,  1100.,  1150.,\n",
       "        1200.,  1250.,  1300.,  1350.,  1400.,  1450.,  1500.,  1550.,\n",
       "        1600.,  1650.,  1700.,  1750.,  1800.,  1850.,  1900.,  1950.])"
      ]
     },
     "execution_count": 72,
     "metadata": {},
     "output_type": "execute_result"
    }
   ],
   "source": [
    "freqs"
   ]
  },
  {
   "cell_type": "code",
   "execution_count": 73,
   "metadata": {},
   "outputs": [
    {
     "data": {
      "text/plain": [
       "80"
      ]
     },
     "execution_count": 73,
     "metadata": {},
     "output_type": "execute_result"
    }
   ],
   "source": [
    "N"
   ]
  },
  {
   "cell_type": "code",
   "execution_count": null,
   "metadata": {},
   "outputs": [],
   "source": []
  }
 ],
 "metadata": {
  "kernelspec": {
   "display_name": "base",
   "language": "python",
   "name": "python3"
  },
  "language_info": {
   "codemirror_mode": {
    "name": "ipython",
    "version": 3
   },
   "file_extension": ".py",
   "mimetype": "text/x-python",
   "name": "python",
   "nbconvert_exporter": "python",
   "pygments_lexer": "ipython3",
   "version": "3.12.4"
  }
 },
 "nbformat": 4,
 "nbformat_minor": 2
}
