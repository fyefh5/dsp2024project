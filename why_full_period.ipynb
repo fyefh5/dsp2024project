{
 "cells": [
  {
   "cell_type": "code",
   "execution_count": 24,
   "metadata": {},
   "outputs": [
    {
     "data": {
      "application/vnd.plotly.v1+json": {
       "config": {
        "plotlyServerURL": "https://plot.ly"
       },
       "data": [
        {
         "line": {
          "color": "black"
         },
         "mode": "lines+markers",
         "showlegend": false,
         "type": "scatter",
         "x": [
          0,
          0.00025,
          0.0005,
          0.00075,
          0.001,
          0.00125,
          0.0015,
          0.00175,
          0.002,
          0.0022500000000000003,
          0.0025,
          0.00275,
          0.003,
          0.0032500000000000003,
          0.0035,
          0.00375,
          0.004,
          0.00425,
          0.0045000000000000005,
          0.00475,
          0.005,
          0.00525,
          0.0055,
          0.00575,
          0.006,
          0.00625,
          0.006500000000000001,
          0.00675,
          0.007,
          0.00725,
          0.0075,
          0.00775,
          0.008,
          0.00825,
          0.0085,
          0.00875,
          0.009000000000000001,
          0.00925,
          0.0095,
          0.00975,
          0.01,
          0.01025,
          0.0105,
          0.010750000000000001,
          0.011,
          0.01125,
          0.0115,
          0.01175,
          0.012,
          0.01225,
          0.0125,
          0.012750000000000001,
          0.013000000000000001,
          0.01325,
          0.0135,
          0.01375,
          0.014,
          0.01425,
          0.0145,
          0.014750000000000001,
          0.015,
          0.01525,
          0.0155,
          0.01575,
          0.016,
          0.01625,
          0.0165,
          0.01675,
          0.017,
          0.01725,
          0.0175,
          0.017750000000000002,
          0.018000000000000002,
          0.01825,
          0.0185,
          0.01875,
          0.019,
          0.01925,
          0.0195,
          0.01975,
          0.02,
          0.02025,
          0.0205,
          0.02075,
          0.021,
          0.02125,
          0.021500000000000002,
          0.021750000000000002,
          0.022,
          0.02225,
          0.0225,
          0.02275,
          0.023,
          0.02325,
          0.0235,
          0.02375,
          0.024,
          0.02425,
          0.0245,
          0.02475,
          0.025,
          0.02525,
          0.025500000000000002,
          0.025750000000000002,
          0.026000000000000002,
          0.02625,
          0.0265,
          0.02675,
          0.027,
          0.02725,
          0.0275,
          0.02775,
          0.028,
          0.02825,
          0.0285,
          0.02875,
          0.029,
          0.02925,
          0.029500000000000002,
          0.029750000000000002,
          0.03,
          0.03025,
          0.0305,
          0.03075,
          0.031,
          0.03125,
          0.0315,
          0.03175,
          0.032,
          0.03225,
          0.0325,
          0.03275,
          0.033,
          0.03325,
          0.0335,
          0.03375,
          0.034,
          0.03425,
          0.0345,
          0.03475,
          0.035,
          0.035250000000000004,
          0.035500000000000004,
          0.035750000000000004,
          0.036000000000000004,
          0.03625,
          0.0365,
          0.03675,
          0.037,
          0.03725,
          0.0375,
          0.03775,
          0.038,
          0.03825,
          0.0385,
          0.03875,
          0.039,
          0.03925,
          0.0395,
          0.03975
         ],
         "xaxis": "x",
         "y": [
          0.7071067811865476,
          0.7604059656000309,
          0.8090169943749475,
          0.8526401643540923,
          0.8910065241883679,
          0.9238795325112867,
          0.9510565162951536,
          0.9723699203976766,
          0.9876883405951378,
          0.996917333733128,
          1,
          0.996917333733128,
          0.9876883405951377,
          0.9723699203976766,
          0.9510565162951535,
          0.9238795325112867,
          0.8910065241883679,
          0.8526401643540921,
          0.8090169943749473,
          0.7604059656000309,
          0.7071067811865476,
          0.6494480483301835,
          0.5877852522924731,
          0.5224985647159489,
          0.45399049973954664,
          0.3826834323650896,
          0.30901699437494706,
          0.23344536385590547,
          0.15643446504023092,
          0.078459095727845,
          6.123233995736766e-17,
          -0.07845909572784487,
          -0.1564344650402308,
          -0.23344536385590578,
          -0.3090169943749478,
          -0.3826834323650901,
          -0.45399049973954714,
          -0.5224985647159488,
          -0.587785252292473,
          -0.6494480483301835,
          -0.7071067811865475,
          -0.7604059656000312,
          -0.8090169943749477,
          -0.8526401643540924,
          -0.8910065241883678,
          -0.9238795325112867,
          -0.9510565162951535,
          -0.9723699203976766,
          -0.9876883405951378,
          -0.996917333733128,
          -1,
          -0.996917333733128,
          -0.9876883405951377,
          -0.9723699203976766,
          -0.9510565162951536,
          -0.9238795325112866,
          -0.8910065241883679,
          -0.8526401643540921,
          -0.8090169943749475,
          -0.7604059656000307,
          -0.7071067811865477,
          -0.6494480483301834,
          -0.5877852522924732,
          -0.5224985647159486,
          -0.4539904997395469,
          -0.3826834323650895,
          -0.30901699437494673,
          -0.23344536385590514,
          -0.15643446504023018,
          -0.07845909572784468,
          7.044813998280222e-16,
          0.07845909572784521,
          0.15643446504023156,
          0.23344536385590478,
          0.30901699437494723,
          0.38268343236509,
          0.45399049973954664,
          0.522498564715949,
          0.5877852522924729,
          0.6494480483301839,
          0.7071067811865474,
          0.760405965600031,
          0.8090169943749478,
          0.8526401643540923,
          0.8910065241883681,
          0.9238795325112868,
          0.9510565162951538,
          0.9723699203976769,
          0.9876883405951377,
          0.996917333733128,
          1,
          0.996917333733128,
          0.9876883405951378,
          0.9723699203976766,
          0.9510565162951536,
          0.9238795325112867,
          0.8910065241883676,
          0.8526401643540921,
          0.8090169943749471,
          0.7604059656000308,
          0.7071067811865471,
          0.6494480483301835,
          0.5877852522924727,
          0.5224985647159479,
          0.45399049973954547,
          0.3826834323650896,
          0.30901699437494684,
          0.23344536385590614,
          0.15643446504023117,
          0.0784590957278448,
          -5.82016719913287e-16,
          -0.07845909572784597,
          -0.15643446504022968,
          -0.23344536385590467,
          -0.3090169943749471,
          -0.3826834323650899,
          -0.4539904997395473,
          -0.5224985647159497,
          -0.5877852522924742,
          -0.6494480483301851,
          -0.7071067811865467,
          -0.7604059656000305,
          -0.8090169943749472,
          -0.8526401643540923,
          -0.8910065241883681,
          -0.9238795325112872,
          -0.951056516295154,
          -0.972369920397677,
          -0.9876883405951375,
          -0.996917333733128,
          -1,
          -0.996917333733128,
          -0.9876883405951377,
          -0.9723699203976763,
          -0.9510565162951531,
          -0.9238795325112861,
          -0.8910065241883668,
          -0.8526401643540926,
          -0.8090169943749477,
          -0.7604059656000309,
          -0.7071067811865471,
          -0.649448048330183,
          -0.587785252292472,
          -0.5224985647159474,
          -0.4539904997395448,
          -0.38268343236509056,
          -0.30901699437494784,
          -0.2334453638559054,
          -0.1564344650402304,
          -0.07845909572784404,
          1.3477304596986769e-15,
          0.07845909572784318,
          0.15643446504022956,
          0.23344536385590456,
          0.309016994374947,
          0.3826834323650898,
          0.4539904997395472,
          0.5224985647159496,
          0.5877852522924742,
          0.649448048330185
         ],
         "yaxis": "y"
        },
        {
         "line": {
          "color": "black"
         },
         "mode": "lines",
         "showlegend": false,
         "type": "scatter",
         "x": [
          -2000,
          -2000
         ],
         "xaxis": "x2",
         "y": [
          0,
          3.281671632540658e-17
         ],
         "yaxis": "y2"
        },
        {
         "line": {
          "color": "black"
         },
         "mode": "lines",
         "showlegend": false,
         "type": "scatter",
         "x": [
          -1975,
          -1975
         ],
         "xaxis": "x2",
         "y": [
          0,
          3.581750273327299e-17
         ],
         "yaxis": "y2"
        },
        {
         "line": {
          "color": "black"
         },
         "mode": "lines",
         "showlegend": false,
         "type": "scatter",
         "x": [
          -1950,
          -1950
         ],
         "xaxis": "x2",
         "y": [
          0,
          1.5700924586837744e-17
         ],
         "yaxis": "y2"
        },
        {
         "line": {
          "color": "black"
         },
         "mode": "lines",
         "showlegend": false,
         "type": "scatter",
         "x": [
          -1925,
          -1925
         ],
         "xaxis": "x2",
         "y": [
          0,
          1.838919595120395e-17
         ],
         "yaxis": "y2"
        },
        {
         "line": {
          "color": "black"
         },
         "mode": "lines",
         "showlegend": false,
         "type": "scatter",
         "x": [
          -1900,
          -1900
         ],
         "xaxis": "x2",
         "y": [
          0,
          2.4777575645446108e-17
         ],
         "yaxis": "y2"
        },
        {
         "line": {
          "color": "black"
         },
         "mode": "lines",
         "showlegend": false,
         "type": "scatter",
         "x": [
          -1875,
          -1875
         ],
         "xaxis": "x2",
         "y": [
          0,
          2.462021277034662e-17
         ],
         "yaxis": "y2"
        },
        {
         "line": {
          "color": "black"
         },
         "mode": "lines",
         "showlegend": false,
         "type": "scatter",
         "x": [
          -1850,
          -1850
         ],
         "xaxis": "x2",
         "y": [
          0,
          4.072722878620036e-17
         ],
         "yaxis": "y2"
        },
        {
         "line": {
          "color": "black"
         },
         "mode": "lines",
         "showlegend": false,
         "type": "scatter",
         "x": [
          -1825,
          -1825
         ],
         "xaxis": "x2",
         "y": [
          0,
          2.2088313407831937e-17
         ],
         "yaxis": "y2"
        },
        {
         "line": {
          "color": "black"
         },
         "mode": "lines",
         "showlegend": false,
         "type": "scatter",
         "x": [
          -1800,
          -1800
         ],
         "xaxis": "x2",
         "y": [
          0,
          3.034546969218954e-17
         ],
         "yaxis": "y2"
        },
        {
         "line": {
          "color": "black"
         },
         "mode": "lines",
         "showlegend": false,
         "type": "scatter",
         "x": [
          -1775,
          -1775
         ],
         "xaxis": "x2",
         "y": [
          0,
          5.773371757770714e-19
         ],
         "yaxis": "y2"
        },
        {
         "line": {
          "color": "black"
         },
         "mode": "lines",
         "showlegend": false,
         "type": "scatter",
         "x": [
          -1750,
          -1750
         ],
         "xaxis": "x2",
         "y": [
          0,
          2.1471138806021153e-17
         ],
         "yaxis": "y2"
        },
        {
         "line": {
          "color": "black"
         },
         "mode": "lines",
         "showlegend": false,
         "type": "scatter",
         "x": [
          -1725,
          -1725
         ],
         "xaxis": "x2",
         "y": [
          0,
          1.236041048121124e-17
         ],
         "yaxis": "y2"
        },
        {
         "line": {
          "color": "black"
         },
         "mode": "lines",
         "showlegend": false,
         "type": "scatter",
         "x": [
          -1700,
          -1700
         ],
         "xaxis": "x2",
         "y": [
          0,
          3.5514959117601796e-17
         ],
         "yaxis": "y2"
        },
        {
         "line": {
          "color": "black"
         },
         "mode": "lines",
         "showlegend": false,
         "type": "scatter",
         "x": [
          -1675,
          -1675
         ],
         "xaxis": "x2",
         "y": [
          0,
          9.073452325792264e-18
         ],
         "yaxis": "y2"
        },
        {
         "line": {
          "color": "black"
         },
         "mode": "lines",
         "showlegend": false,
         "type": "scatter",
         "x": [
          -1650,
          -1650
         ],
         "xaxis": "x2",
         "y": [
          0,
          1.665334536937735e-17
         ],
         "yaxis": "y2"
        },
        {
         "line": {
          "color": "black"
         },
         "mode": "lines",
         "showlegend": false,
         "type": "scatter",
         "x": [
          -1625,
          -1625
         ],
         "xaxis": "x2",
         "y": [
          0,
          1.2943834404514553e-17
         ],
         "yaxis": "y2"
        },
        {
         "line": {
          "color": "black"
         },
         "mode": "lines",
         "showlegend": false,
         "type": "scatter",
         "x": [
          -1600,
          -1600
         ],
         "xaxis": "x2",
         "y": [
          0,
          2.7027395465558653e-17
         ],
         "yaxis": "y2"
        },
        {
         "line": {
          "color": "black"
         },
         "mode": "lines",
         "showlegend": false,
         "type": "scatter",
         "x": [
          -1575,
          -1575
         ],
         "xaxis": "x2",
         "y": [
          0,
          2.2425797530938407e-17
         ],
         "yaxis": "y2"
        },
        {
         "line": {
          "color": "black"
         },
         "mode": "lines",
         "showlegend": false,
         "type": "scatter",
         "x": [
          -1550,
          -1550
         ],
         "xaxis": "x2",
         "y": [
          0,
          2.5021957935171365e-17
         ],
         "yaxis": "y2"
        },
        {
         "line": {
          "color": "black"
         },
         "mode": "lines",
         "showlegend": false,
         "type": "scatter",
         "x": [
          -1525,
          -1525
         ],
         "xaxis": "x2",
         "y": [
          0,
          3.391062491237705e-17
         ],
         "yaxis": "y2"
        },
        {
         "line": {
          "color": "black"
         },
         "mode": "lines",
         "showlegend": false,
         "type": "scatter",
         "x": [
          -1500,
          -1500
         ],
         "xaxis": "x2",
         "y": [
          0,
          3.675863680396514e-17
         ],
         "yaxis": "y2"
        },
        {
         "line": {
          "color": "black"
         },
         "mode": "lines",
         "showlegend": false,
         "type": "scatter",
         "x": [
          -1475,
          -1475
         ],
         "xaxis": "x2",
         "y": [
          0,
          3.39073884590056e-17
         ],
         "yaxis": "y2"
        },
        {
         "line": {
          "color": "black"
         },
         "mode": "lines",
         "showlegend": false,
         "type": "scatter",
         "x": [
          -1450,
          -1450
         ],
         "xaxis": "x2",
         "y": [
          0,
          7.03991686484204e-18
         ],
         "yaxis": "y2"
        },
        {
         "line": {
          "color": "black"
         },
         "mode": "lines",
         "showlegend": false,
         "type": "scatter",
         "x": [
          -1425,
          -1425
         ],
         "xaxis": "x2",
         "y": [
          0,
          1.9314818348032833e-17
         ],
         "yaxis": "y2"
        },
        {
         "line": {
          "color": "black"
         },
         "mode": "lines",
         "showlegend": false,
         "type": "scatter",
         "x": [
          -1400,
          -1400
         ],
         "xaxis": "x2",
         "y": [
          0,
          3.28674177254468e-17
         ],
         "yaxis": "y2"
        },
        {
         "line": {
          "color": "black"
         },
         "mode": "lines",
         "showlegend": false,
         "type": "scatter",
         "x": [
          -1375,
          -1375
         ],
         "xaxis": "x2",
         "y": [
          0,
          3.28375684902155e-17
         ],
         "yaxis": "y2"
        },
        {
         "line": {
          "color": "black"
         },
         "mode": "lines",
         "showlegend": false,
         "type": "scatter",
         "x": [
          -1350,
          -1350
         ],
         "xaxis": "x2",
         "y": [
          0,
          4.273359337956537e-17
         ],
         "yaxis": "y2"
        },
        {
         "line": {
          "color": "black"
         },
         "mode": "lines",
         "showlegend": false,
         "type": "scatter",
         "x": [
          -1325,
          -1325
         ],
         "xaxis": "x2",
         "y": [
          0,
          3.1290760406113006e-17
         ],
         "yaxis": "y2"
        },
        {
         "line": {
          "color": "black"
         },
         "mode": "lines",
         "showlegend": false,
         "type": "scatter",
         "x": [
          -1300,
          -1300
         ],
         "xaxis": "x2",
         "y": [
          0,
          1.097567633852988e-17
         ],
         "yaxis": "y2"
        },
        {
         "line": {
          "color": "black"
         },
         "mode": "lines",
         "showlegend": false,
         "type": "scatter",
         "x": [
          -1275,
          -1275
         ],
         "xaxis": "x2",
         "y": [
          0,
          2.5031139452838466e-17
         ],
         "yaxis": "y2"
        },
        {
         "line": {
          "color": "black"
         },
         "mode": "lines",
         "showlegend": false,
         "type": "scatter",
         "x": [
          -1250,
          -1250
         ],
         "xaxis": "x2",
         "y": [
          0,
          2.818548575529736e-17
         ],
         "yaxis": "y2"
        },
        {
         "line": {
          "color": "black"
         },
         "mode": "lines",
         "showlegend": false,
         "type": "scatter",
         "x": [
          -1225,
          -1225
         ],
         "xaxis": "x2",
         "y": [
          0,
          2.6950443836610317e-17
         ],
         "yaxis": "y2"
        },
        {
         "line": {
          "color": "black"
         },
         "mode": "lines",
         "showlegend": false,
         "type": "scatter",
         "x": [
          -1200,
          -1200
         ],
         "xaxis": "x2",
         "y": [
          0,
          1.1873785847446288e-17
         ],
         "yaxis": "y2"
        },
        {
         "line": {
          "color": "black"
         },
         "mode": "lines",
         "showlegend": false,
         "type": "scatter",
         "x": [
          -1175,
          -1175
         ],
         "xaxis": "x2",
         "y": [
          0,
          2.768669738739083e-17
         ],
         "yaxis": "y2"
        },
        {
         "line": {
          "color": "black"
         },
         "mode": "lines",
         "showlegend": false,
         "type": "scatter",
         "x": [
          -1150,
          -1150
         ],
         "xaxis": "x2",
         "y": [
          0,
          2.6064397315866348e-17
         ],
         "yaxis": "y2"
        },
        {
         "line": {
          "color": "black"
         },
         "mode": "lines",
         "showlegend": false,
         "type": "scatter",
         "x": [
          -1125,
          -1125
         ],
         "xaxis": "x2",
         "y": [
          0,
          8.34894236723239e-18
         ],
         "yaxis": "y2"
        },
        {
         "line": {
          "color": "black"
         },
         "mode": "lines",
         "showlegend": false,
         "type": "scatter",
         "x": [
          -1100,
          -1100
         ],
         "xaxis": "x2",
         "y": [
          0,
          1.1634633718397432e-17
         ],
         "yaxis": "y2"
        },
        {
         "line": {
          "color": "black"
         },
         "mode": "lines",
         "showlegend": false,
         "type": "scatter",
         "x": [
          -1075,
          -1075
         ],
         "xaxis": "x2",
         "y": [
          0,
          4.048400782679337e-17
         ],
         "yaxis": "y2"
        },
        {
         "line": {
          "color": "black"
         },
         "mode": "lines",
         "showlegend": false,
         "type": "scatter",
         "x": [
          -1050,
          -1050
         ],
         "xaxis": "x2",
         "y": [
          0,
          5.801706758271146e-17
         ],
         "yaxis": "y2"
        },
        {
         "line": {
          "color": "black"
         },
         "mode": "lines",
         "showlegend": false,
         "type": "scatter",
         "x": [
          -1025,
          -1025
         ],
         "xaxis": "x2",
         "y": [
          0,
          2.864958842294732e-17
         ],
         "yaxis": "y2"
        },
        {
         "line": {
          "color": "black"
         },
         "mode": "lines",
         "showlegend": false,
         "type": "scatter",
         "x": [
          -1000,
          -1000
         ],
         "xaxis": "x2",
         "y": [
          0,
          2.2353820872360573e-17
         ],
         "yaxis": "y2"
        },
        {
         "line": {
          "color": "black"
         },
         "mode": "lines",
         "showlegend": false,
         "type": "scatter",
         "x": [
          -975,
          -975
         ],
         "xaxis": "x2",
         "y": [
          0,
          2.3340411114106276e-17
         ],
         "yaxis": "y2"
        },
        {
         "line": {
          "color": "black"
         },
         "mode": "lines",
         "showlegend": false,
         "type": "scatter",
         "x": [
          -950,
          -950
         ],
         "xaxis": "x2",
         "y": [
          0,
          2.167779754565684e-17
         ],
         "yaxis": "y2"
        },
        {
         "line": {
          "color": "black"
         },
         "mode": "lines",
         "showlegend": false,
         "type": "scatter",
         "x": [
          -925,
          -925
         ],
         "xaxis": "x2",
         "y": [
          0,
          9.518374675035646e-18
         ],
         "yaxis": "y2"
        },
        {
         "line": {
          "color": "black"
         },
         "mode": "lines",
         "showlegend": false,
         "type": "scatter",
         "x": [
          -900,
          -900
         ],
         "xaxis": "x2",
         "y": [
          0,
          2.4461791081820964e-17
         ],
         "yaxis": "y2"
        },
        {
         "line": {
          "color": "black"
         },
         "mode": "lines",
         "showlegend": false,
         "type": "scatter",
         "x": [
          -875,
          -875
         ],
         "xaxis": "x2",
         "y": [
          0,
          5.273821948667379e-17
         ],
         "yaxis": "y2"
        },
        {
         "line": {
          "color": "black"
         },
         "mode": "lines",
         "showlegend": false,
         "type": "scatter",
         "x": [
          -850,
          -850
         ],
         "xaxis": "x2",
         "y": [
          0,
          4.9960036108132046e-17
         ],
         "yaxis": "y2"
        },
        {
         "line": {
          "color": "black"
         },
         "mode": "lines",
         "showlegend": false,
         "type": "scatter",
         "x": [
          -825,
          -825
         ],
         "xaxis": "x2",
         "y": [
          0,
          3.905969326598789e-17
         ],
         "yaxis": "y2"
        },
        {
         "line": {
          "color": "black"
         },
         "mode": "lines",
         "showlegend": false,
         "type": "scatter",
         "x": [
          -800,
          -800
         ],
         "xaxis": "x2",
         "y": [
          0,
          1.7023379998350136e-17
         ],
         "yaxis": "y2"
        },
        {
         "line": {
          "color": "black"
         },
         "mode": "lines",
         "showlegend": false,
         "type": "scatter",
         "x": [
          -775,
          -775
         ],
         "xaxis": "x2",
         "y": [
          0,
          5.03689693663089e-17
         ],
         "yaxis": "y2"
        },
        {
         "line": {
          "color": "black"
         },
         "mode": "lines",
         "showlegend": false,
         "type": "scatter",
         "x": [
          -750,
          -750
         ],
         "xaxis": "x2",
         "y": [
          0,
          8.495142149175737e-18
         ],
         "yaxis": "y2"
        },
        {
         "line": {
          "color": "black"
         },
         "mode": "lines",
         "showlegend": false,
         "type": "scatter",
         "x": [
          -725,
          -725
         ],
         "xaxis": "x2",
         "y": [
          0,
          2.5336138264458465e-17
         ],
         "yaxis": "y2"
        },
        {
         "line": {
          "color": "black"
         },
         "mode": "lines",
         "showlegend": false,
         "type": "scatter",
         "x": [
          -700,
          -700
         ],
         "xaxis": "x2",
         "y": [
          0,
          2.9142323553080595e-17
         ],
         "yaxis": "y2"
        },
        {
         "line": {
          "color": "black"
         },
         "mode": "lines",
         "showlegend": false,
         "type": "scatter",
         "x": [
          -675,
          -675
         ],
         "xaxis": "x2",
         "y": [
          0,
          4.523469834473778e-17
         ],
         "yaxis": "y2"
        },
        {
         "line": {
          "color": "black"
         },
         "mode": "lines",
         "showlegend": false,
         "type": "scatter",
         "x": [
          -650,
          -650
         ],
         "xaxis": "x2",
         "y": [
          0,
          5.546534810535808e-17
         ],
         "yaxis": "y2"
        },
        {
         "line": {
          "color": "black"
         },
         "mode": "lines",
         "showlegend": false,
         "type": "scatter",
         "x": [
          -625,
          -625
         ],
         "xaxis": "x2",
         "y": [
          0,
          1.2405436991666277e-17
         ],
         "yaxis": "y2"
        },
        {
         "line": {
          "color": "black"
         },
         "mode": "lines",
         "showlegend": false,
         "type": "scatter",
         "x": [
          -600,
          -600
         ],
         "xaxis": "x2",
         "y": [
          0,
          5.794519093320877e-17
         ],
         "yaxis": "y2"
        },
        {
         "line": {
          "color": "black"
         },
         "mode": "lines",
         "showlegend": false,
         "type": "scatter",
         "x": [
          -575,
          -575
         ],
         "xaxis": "x2",
         "y": [
          0,
          1.1373675015928814e-16
         ],
         "yaxis": "y2"
        },
        {
         "line": {
          "color": "black"
         },
         "mode": "lines",
         "showlegend": false,
         "type": "scatter",
         "x": [
          -550,
          -550
         ],
         "xaxis": "x2",
         "y": [
          0,
          9.799763474474936e-17
         ],
         "yaxis": "y2"
        },
        {
         "line": {
          "color": "black"
         },
         "mode": "lines",
         "showlegend": false,
         "type": "scatter",
         "x": [
          -525,
          -525
         ],
         "xaxis": "x2",
         "y": [
          0,
          6.546347409870658e-17
         ],
         "yaxis": "y2"
        },
        {
         "line": {
          "color": "black"
         },
         "mode": "lines",
         "showlegend": false,
         "type": "scatter",
         "x": [
          -500,
          -500
         ],
         "xaxis": "x2",
         "y": [
          0,
          3.5975166835296713e-17
         ],
         "yaxis": "y2"
        },
        {
         "line": {
          "color": "black"
         },
         "mode": "lines",
         "showlegend": false,
         "type": "scatter",
         "x": [
          -475,
          -475
         ],
         "xaxis": "x2",
         "y": [
          0,
          5.64749256717196e-17
         ],
         "yaxis": "y2"
        },
        {
         "line": {
          "color": "black"
         },
         "mode": "lines",
         "showlegend": false,
         "type": "scatter",
         "x": [
          -450,
          -450
         ],
         "xaxis": "x2",
         "y": [
          0,
          4.456259913047489e-17
         ],
         "yaxis": "y2"
        },
        {
         "line": {
          "color": "black"
         },
         "mode": "lines",
         "showlegend": false,
         "type": "scatter",
         "x": [
          -425,
          -425
         ],
         "xaxis": "x2",
         "y": [
          0,
          4.566434212957105e-17
         ],
         "yaxis": "y2"
        },
        {
         "line": {
          "color": "black"
         },
         "mode": "lines",
         "showlegend": false,
         "type": "scatter",
         "x": [
          -400,
          -400
         ],
         "xaxis": "x2",
         "y": [
          0,
          2.5411882165931775e-17
         ],
         "yaxis": "y2"
        },
        {
         "line": {
          "color": "black"
         },
         "mode": "lines",
         "showlegend": false,
         "type": "scatter",
         "x": [
          -375,
          -375
         ],
         "xaxis": "x2",
         "y": [
          0,
          3.837338810968711e-17
         ],
         "yaxis": "y2"
        },
        {
         "line": {
          "color": "black"
         },
         "mode": "lines",
         "showlegend": false,
         "type": "scatter",
         "x": [
          -350,
          -350
         ],
         "xaxis": "x2",
         "y": [
          0,
          4.088706578551865e-17
         ],
         "yaxis": "y2"
        },
        {
         "line": {
          "color": "black"
         },
         "mode": "lines",
         "showlegend": false,
         "type": "scatter",
         "x": [
          -325,
          -325
         ],
         "xaxis": "x2",
         "y": [
          0,
          5.924599090378031e-17
         ],
         "yaxis": "y2"
        },
        {
         "line": {
          "color": "black"
         },
         "mode": "lines",
         "showlegend": false,
         "type": "scatter",
         "x": [
          -300,
          -300
         ],
         "xaxis": "x2",
         "y": [
          0,
          4.98570526559629e-17
         ],
         "yaxis": "y2"
        },
        {
         "line": {
          "color": "black"
         },
         "mode": "lines",
         "showlegend": false,
         "type": "scatter",
         "x": [
          -275,
          -275
         ],
         "xaxis": "x2",
         "y": [
          0,
          5.4098091061592084e-17
         ],
         "yaxis": "y2"
        },
        {
         "line": {
          "color": "black"
         },
         "mode": "lines",
         "showlegend": false,
         "type": "scatter",
         "x": [
          -250,
          -250
         ],
         "xaxis": "x2",
         "y": [
          0,
          4.878950037298193e-17
         ],
         "yaxis": "y2"
        },
        {
         "line": {
          "color": "black"
         },
         "mode": "lines",
         "showlegend": false,
         "type": "scatter",
         "x": [
          -225,
          -225
         ],
         "xaxis": "x2",
         "y": [
          0,
          5.025133600444198e-17
         ],
         "yaxis": "y2"
        },
        {
         "line": {
          "color": "black"
         },
         "mode": "lines",
         "showlegend": false,
         "type": "scatter",
         "x": [
          -200,
          -200
         ],
         "xaxis": "x2",
         "y": [
          0,
          1.8642473391729715e-17
         ],
         "yaxis": "y2"
        },
        {
         "line": {
          "color": "black"
         },
         "mode": "lines",
         "showlegend": false,
         "type": "scatter",
         "x": [
          -175,
          -175
         ],
         "xaxis": "x2",
         "y": [
          0,
          6.938433691434454e-17
         ],
         "yaxis": "y2"
        },
        {
         "line": {
          "color": "black"
         },
         "mode": "lines",
         "showlegend": false,
         "type": "scatter",
         "x": [
          -150,
          -150
         ],
         "xaxis": "x2",
         "y": [
          0,
          5.177248896137912e-17
         ],
         "yaxis": "y2"
        },
        {
         "line": {
          "color": "black"
         },
         "mode": "lines",
         "showlegend": false,
         "type": "scatter",
         "x": [
          -125,
          -125
         ],
         "xaxis": "x2",
         "y": [
          0,
          2.5752274157298466e-17
         ],
         "yaxis": "y2"
        },
        {
         "line": {
          "color": "black"
         },
         "mode": "lines",
         "showlegend": false,
         "type": "scatter",
         "x": [
          -100,
          -100
         ],
         "xaxis": "x2",
         "y": [
          0,
          1.867434426583417e-17
         ],
         "yaxis": "y2"
        },
        {
         "line": {
          "color": "black"
         },
         "mode": "lines",
         "showlegend": false,
         "type": "scatter",
         "x": [
          -75,
          -75
         ],
         "xaxis": "x2",
         "y": [
          0,
          3.3662014637626243e-17
         ],
         "yaxis": "y2"
        },
        {
         "line": {
          "color": "black"
         },
         "mode": "lines",
         "showlegend": false,
         "type": "scatter",
         "x": [
          -50,
          -50
         ],
         "xaxis": "x2",
         "y": [
          0,
          0.5
         ],
         "yaxis": "y2"
        },
        {
         "line": {
          "color": "black"
         },
         "mode": "lines",
         "showlegend": false,
         "type": "scatter",
         "x": [
          -25,
          -25
         ],
         "xaxis": "x2",
         "y": [
          0,
          2.6247970025996566e-17
         ],
         "yaxis": "y2"
        },
        {
         "line": {
          "color": "black"
         },
         "mode": "lines",
         "showlegend": false,
         "type": "scatter",
         "x": [
          0,
          0
         ],
         "xaxis": "x2",
         "y": [
          0,
          2.6571711811890086e-17
         ],
         "yaxis": "y2"
        },
        {
         "line": {
          "color": "black"
         },
         "mode": "lines",
         "showlegend": false,
         "type": "scatter",
         "x": [
          25,
          25
         ],
         "xaxis": "x2",
         "y": [
          0,
          2.624797002599657e-17
         ],
         "yaxis": "y2"
        },
        {
         "line": {
          "color": "black"
         },
         "mode": "lines",
         "showlegend": false,
         "type": "scatter",
         "x": [
          50,
          50
         ],
         "xaxis": "x2",
         "y": [
          0,
          0.5000000000000001
         ],
         "yaxis": "y2"
        },
        {
         "line": {
          "color": "black"
         },
         "mode": "lines",
         "showlegend": false,
         "type": "scatter",
         "x": [
          75,
          75
         ],
         "xaxis": "x2",
         "y": [
          0,
          3.3662014637626243e-17
         ],
         "yaxis": "y2"
        },
        {
         "line": {
          "color": "black"
         },
         "mode": "lines",
         "showlegend": false,
         "type": "scatter",
         "x": [
          100,
          100
         ],
         "xaxis": "x2",
         "y": [
          0,
          1.8674344265834168e-17
         ],
         "yaxis": "y2"
        },
        {
         "line": {
          "color": "black"
         },
         "mode": "lines",
         "showlegend": false,
         "type": "scatter",
         "x": [
          125,
          125
         ],
         "xaxis": "x2",
         "y": [
          0,
          2.5752274157298472e-17
         ],
         "yaxis": "y2"
        },
        {
         "line": {
          "color": "black"
         },
         "mode": "lines",
         "showlegend": false,
         "type": "scatter",
         "x": [
          150,
          150
         ],
         "xaxis": "x2",
         "y": [
          0,
          5.971078470047829e-17
         ],
         "yaxis": "y2"
        },
        {
         "line": {
          "color": "black"
         },
         "mode": "lines",
         "showlegend": false,
         "type": "scatter",
         "x": [
          175,
          175
         ],
         "xaxis": "x2",
         "y": [
          0,
          6.938433691434455e-17
         ],
         "yaxis": "y2"
        },
        {
         "line": {
          "color": "black"
         },
         "mode": "lines",
         "showlegend": false,
         "type": "scatter",
         "x": [
          200,
          200
         ],
         "xaxis": "x2",
         "y": [
          0,
          1.8642473391729712e-17
         ],
         "yaxis": "y2"
        },
        {
         "line": {
          "color": "black"
         },
         "mode": "lines",
         "showlegend": false,
         "type": "scatter",
         "x": [
          225,
          225
         ],
         "xaxis": "x2",
         "y": [
          0,
          5.025133600444198e-17
         ],
         "yaxis": "y2"
        },
        {
         "line": {
          "color": "black"
         },
         "mode": "lines",
         "showlegend": false,
         "type": "scatter",
         "x": [
          250,
          250
         ],
         "xaxis": "x2",
         "y": [
          0,
          5.756164273931255e-17
         ],
         "yaxis": "y2"
        },
        {
         "line": {
          "color": "black"
         },
         "mode": "lines",
         "showlegend": false,
         "type": "scatter",
         "x": [
          275,
          275
         ],
         "xaxis": "x2",
         "y": [
          0,
          5.4098091061592084e-17
         ],
         "yaxis": "y2"
        },
        {
         "line": {
          "color": "black"
         },
         "mode": "lines",
         "showlegend": false,
         "type": "scatter",
         "x": [
          300,
          300
         ],
         "xaxis": "x2",
         "y": [
          0,
          4.985705265596289e-17
         ],
         "yaxis": "y2"
        },
        {
         "line": {
          "color": "black"
         },
         "mode": "lines",
         "showlegend": false,
         "type": "scatter",
         "x": [
          325,
          325
         ],
         "xaxis": "x2",
         "y": [
          0,
          5.924599090378032e-17
         ],
         "yaxis": "y2"
        },
        {
         "line": {
          "color": "black"
         },
         "mode": "lines",
         "showlegend": false,
         "type": "scatter",
         "x": [
          350,
          350
         ],
         "xaxis": "x2",
         "y": [
          0,
          5.3112715256751384e-17
         ],
         "yaxis": "y2"
        },
        {
         "line": {
          "color": "black"
         },
         "mode": "lines",
         "showlegend": false,
         "type": "scatter",
         "x": [
          375,
          375
         ],
         "xaxis": "x2",
         "y": [
          0,
          3.837338810968711e-17
         ],
         "yaxis": "y2"
        },
        {
         "line": {
          "color": "black"
         },
         "mode": "lines",
         "showlegend": false,
         "type": "scatter",
         "x": [
          400,
          400
         ],
         "xaxis": "x2",
         "y": [
          0,
          2.5411882165931778e-17
         ],
         "yaxis": "y2"
        },
        {
         "line": {
          "color": "black"
         },
         "mode": "lines",
         "showlegend": false,
         "type": "scatter",
         "x": [
          425,
          425
         ],
         "xaxis": "x2",
         "y": [
          0,
          4.566434212957105e-17
         ],
         "yaxis": "y2"
        },
        {
         "line": {
          "color": "black"
         },
         "mode": "lines",
         "showlegend": false,
         "type": "scatter",
         "x": [
          450,
          450
         ],
         "xaxis": "x2",
         "y": [
          0,
          3.977686347455923e-17
         ],
         "yaxis": "y2"
        },
        {
         "line": {
          "color": "black"
         },
         "mode": "lines",
         "showlegend": false,
         "type": "scatter",
         "x": [
          475,
          475
         ],
         "xaxis": "x2",
         "y": [
          0,
          5.647492567171962e-17
         ],
         "yaxis": "y2"
        },
        {
         "line": {
          "color": "black"
         },
         "mode": "lines",
         "showlegend": false,
         "type": "scatter",
         "x": [
          500,
          500
         ],
         "xaxis": "x2",
         "y": [
          0,
          3.5975166835296713e-17
         ],
         "yaxis": "y2"
        },
        {
         "line": {
          "color": "black"
         },
         "mode": "lines",
         "showlegend": false,
         "type": "scatter",
         "x": [
          525,
          525
         ],
         "xaxis": "x2",
         "y": [
          0,
          6.546347409870658e-17
         ],
         "yaxis": "y2"
        },
        {
         "line": {
          "color": "black"
         },
         "mode": "lines",
         "showlegend": false,
         "type": "scatter",
         "x": [
          550,
          550
         ],
         "xaxis": "x2",
         "y": [
          0,
          9.902015771452775e-17
         ],
         "yaxis": "y2"
        },
        {
         "line": {
          "color": "black"
         },
         "mode": "lines",
         "showlegend": false,
         "type": "scatter",
         "x": [
          575,
          575
         ],
         "xaxis": "x2",
         "y": [
          0,
          1.1373675015928812e-16
         ],
         "yaxis": "y2"
        },
        {
         "line": {
          "color": "black"
         },
         "mode": "lines",
         "showlegend": false,
         "type": "scatter",
         "x": [
          600,
          600
         ],
         "xaxis": "x2",
         "y": [
          0,
          5.794519093320876e-17
         ],
         "yaxis": "y2"
        },
        {
         "line": {
          "color": "black"
         },
         "mode": "lines",
         "showlegend": false,
         "type": "scatter",
         "x": [
          625,
          625
         ],
         "xaxis": "x2",
         "y": [
          0,
          1.2405436991666281e-17
         ],
         "yaxis": "y2"
        },
        {
         "line": {
          "color": "black"
         },
         "mode": "lines",
         "showlegend": false,
         "type": "scatter",
         "x": [
          650,
          650
         ],
         "xaxis": "x2",
         "y": [
          0,
          4.779818328186999e-17
         ],
         "yaxis": "y2"
        },
        {
         "line": {
          "color": "black"
         },
         "mode": "lines",
         "showlegend": false,
         "type": "scatter",
         "x": [
          675,
          675
         ],
         "xaxis": "x2",
         "y": [
          0,
          4.523469834473777e-17
         ],
         "yaxis": "y2"
        },
        {
         "line": {
          "color": "black"
         },
         "mode": "lines",
         "showlegend": false,
         "type": "scatter",
         "x": [
          700,
          700
         ],
         "xaxis": "x2",
         "y": [
          0,
          2.91423235530806e-17
         ],
         "yaxis": "y2"
        },
        {
         "line": {
          "color": "black"
         },
         "mode": "lines",
         "showlegend": false,
         "type": "scatter",
         "x": [
          725,
          725
         ],
         "xaxis": "x2",
         "y": [
          0,
          2.533613826445846e-17
         ],
         "yaxis": "y2"
        },
        {
         "line": {
          "color": "black"
         },
         "mode": "lines",
         "showlegend": false,
         "type": "scatter",
         "x": [
          750,
          750
         ],
         "xaxis": "x2",
         "y": [
          0,
          4.9650683064945465e-17
         ],
         "yaxis": "y2"
        },
        {
         "line": {
          "color": "black"
         },
         "mode": "lines",
         "showlegend": false,
         "type": "scatter",
         "x": [
          775,
          775
         ],
         "xaxis": "x2",
         "y": [
          0,
          5.03689693663089e-17
         ],
         "yaxis": "y2"
        },
        {
         "line": {
          "color": "black"
         },
         "mode": "lines",
         "showlegend": false,
         "type": "scatter",
         "x": [
          800,
          800
         ],
         "xaxis": "x2",
         "y": [
          0,
          1.7023379998350136e-17
         ],
         "yaxis": "y2"
        },
        {
         "line": {
          "color": "black"
         },
         "mode": "lines",
         "showlegend": false,
         "type": "scatter",
         "x": [
          825,
          825
         ],
         "xaxis": "x2",
         "y": [
          0,
          3.905969326598789e-17
         ],
         "yaxis": "y2"
        },
        {
         "line": {
          "color": "black"
         },
         "mode": "lines",
         "showlegend": false,
         "type": "scatter",
         "x": [
          850,
          850
         ],
         "xaxis": "x2",
         "y": [
          0,
          5.0273220592933927e-17
         ],
         "yaxis": "y2"
        },
        {
         "line": {
          "color": "black"
         },
         "mode": "lines",
         "showlegend": false,
         "type": "scatter",
         "x": [
          875,
          875
         ],
         "xaxis": "x2",
         "y": [
          0,
          5.27382194866738e-17
         ],
         "yaxis": "y2"
        },
        {
         "line": {
          "color": "black"
         },
         "mode": "lines",
         "showlegend": false,
         "type": "scatter",
         "x": [
          900,
          900
         ],
         "xaxis": "x2",
         "y": [
          0,
          2.4461791081820964e-17
         ],
         "yaxis": "y2"
        },
        {
         "line": {
          "color": "black"
         },
         "mode": "lines",
         "showlegend": false,
         "type": "scatter",
         "x": [
          925,
          925
         ],
         "xaxis": "x2",
         "y": [
          0,
          9.518374675035637e-18
         ],
         "yaxis": "y2"
        },
        {
         "line": {
          "color": "black"
         },
         "mode": "lines",
         "showlegend": false,
         "type": "scatter",
         "x": [
          950,
          950
         ],
         "xaxis": "x2",
         "y": [
          0,
          2.6572623745010675e-17
         ],
         "yaxis": "y2"
        },
        {
         "line": {
          "color": "black"
         },
         "mode": "lines",
         "showlegend": false,
         "type": "scatter",
         "x": [
          975,
          975
         ],
         "xaxis": "x2",
         "y": [
          0,
          2.3340411114106282e-17
         ],
         "yaxis": "y2"
        },
        {
         "line": {
          "color": "black"
         },
         "mode": "lines",
         "showlegend": false,
         "type": "scatter",
         "x": [
          1000,
          1000
         ],
         "xaxis": "x2",
         "y": [
          0,
          2.2353820872360582e-17
         ],
         "yaxis": "y2"
        },
        {
         "line": {
          "color": "black"
         },
         "mode": "lines",
         "showlegend": false,
         "type": "scatter",
         "x": [
          1025,
          1025
         ],
         "xaxis": "x2",
         "y": [
          0,
          2.864958842294731e-17
         ],
         "yaxis": "y2"
        },
        {
         "line": {
          "color": "black"
         },
         "mode": "lines",
         "showlegend": false,
         "type": "scatter",
         "x": [
          1050,
          1050
         ],
         "xaxis": "x2",
         "y": [
          0,
          5.474255194514172e-17
         ],
         "yaxis": "y2"
        },
        {
         "line": {
          "color": "black"
         },
         "mode": "lines",
         "showlegend": false,
         "type": "scatter",
         "x": [
          1075,
          1075
         ],
         "xaxis": "x2",
         "y": [
          0,
          4.0484007826793364e-17
         ],
         "yaxis": "y2"
        },
        {
         "line": {
          "color": "black"
         },
         "mode": "lines",
         "showlegend": false,
         "type": "scatter",
         "x": [
          1100,
          1100
         ],
         "xaxis": "x2",
         "y": [
          0,
          1.1634633718397435e-17
         ],
         "yaxis": "y2"
        },
        {
         "line": {
          "color": "black"
         },
         "mode": "lines",
         "showlegend": false,
         "type": "scatter",
         "x": [
          1125,
          1125
         ],
         "xaxis": "x2",
         "y": [
          0,
          8.348942367232391e-18
         ],
         "yaxis": "y2"
        },
        {
         "line": {
          "color": "black"
         },
         "mode": "lines",
         "showlegend": false,
         "type": "scatter",
         "x": [
          1150,
          1150
         ],
         "xaxis": "x2",
         "y": [
          0,
          1.1938124470981842e-17
         ],
         "yaxis": "y2"
        },
        {
         "line": {
          "color": "black"
         },
         "mode": "lines",
         "showlegend": false,
         "type": "scatter",
         "x": [
          1175,
          1175
         ],
         "xaxis": "x2",
         "y": [
          0,
          2.768669738739082e-17
         ],
         "yaxis": "y2"
        },
        {
         "line": {
          "color": "black"
         },
         "mode": "lines",
         "showlegend": false,
         "type": "scatter",
         "x": [
          1200,
          1200
         ],
         "xaxis": "x2",
         "y": [
          0,
          1.1873785847446288e-17
         ],
         "yaxis": "y2"
        },
        {
         "line": {
          "color": "black"
         },
         "mode": "lines",
         "showlegend": false,
         "type": "scatter",
         "x": [
          1225,
          1225
         ],
         "xaxis": "x2",
         "y": [
          0,
          2.695044383661031e-17
         ],
         "yaxis": "y2"
        },
        {
         "line": {
          "color": "black"
         },
         "mode": "lines",
         "showlegend": false,
         "type": "scatter",
         "x": [
          1250,
          1250
         ],
         "xaxis": "x2",
         "y": [
          0,
          3.253777177357604e-17
         ],
         "yaxis": "y2"
        },
        {
         "line": {
          "color": "black"
         },
         "mode": "lines",
         "showlegend": false,
         "type": "scatter",
         "x": [
          1275,
          1275
         ],
         "xaxis": "x2",
         "y": [
          0,
          2.503113945283846e-17
         ],
         "yaxis": "y2"
        },
        {
         "line": {
          "color": "black"
         },
         "mode": "lines",
         "showlegend": false,
         "type": "scatter",
         "x": [
          1300,
          1300
         ],
         "xaxis": "x2",
         "y": [
          0,
          1.0975676338529879e-17
         ],
         "yaxis": "y2"
        },
        {
         "line": {
          "color": "black"
         },
         "mode": "lines",
         "showlegend": false,
         "type": "scatter",
         "x": [
          1325,
          1325
         ],
         "xaxis": "x2",
         "y": [
          0,
          3.1290760406113e-17
         ],
         "yaxis": "y2"
        },
        {
         "line": {
          "color": "black"
         },
         "mode": "lines",
         "showlegend": false,
         "type": "scatter",
         "x": [
          1350,
          1350
         ],
         "xaxis": "x2",
         "y": [
          0,
          3.65926017239003e-17
         ],
         "yaxis": "y2"
        },
        {
         "line": {
          "color": "black"
         },
         "mode": "lines",
         "showlegend": false,
         "type": "scatter",
         "x": [
          1375,
          1375
         ],
         "xaxis": "x2",
         "y": [
          0,
          3.2837568490215496e-17
         ],
         "yaxis": "y2"
        },
        {
         "line": {
          "color": "black"
         },
         "mode": "lines",
         "showlegend": false,
         "type": "scatter",
         "x": [
          1400,
          1400
         ],
         "xaxis": "x2",
         "y": [
          0,
          3.28674177254468e-17
         ],
         "yaxis": "y2"
        },
        {
         "line": {
          "color": "black"
         },
         "mode": "lines",
         "showlegend": false,
         "type": "scatter",
         "x": [
          1425,
          1425
         ],
         "xaxis": "x2",
         "y": [
          0,
          1.931481834803283e-17
         ],
         "yaxis": "y2"
        },
        {
         "line": {
          "color": "black"
         },
         "mode": "lines",
         "showlegend": false,
         "type": "scatter",
         "x": [
          1450,
          1450
         ],
         "xaxis": "x2",
         "y": [
          0,
          1.747858045052938e-17
         ],
         "yaxis": "y2"
        },
        {
         "line": {
          "color": "black"
         },
         "mode": "lines",
         "showlegend": false,
         "type": "scatter",
         "x": [
          1475,
          1475
         ],
         "xaxis": "x2",
         "y": [
          0,
          3.390738845900561e-17
         ],
         "yaxis": "y2"
        },
        {
         "line": {
          "color": "black"
         },
         "mode": "lines",
         "showlegend": false,
         "type": "scatter",
         "x": [
          1500,
          1500
         ],
         "xaxis": "x2",
         "y": [
          0,
          3.675863680396513e-17
         ],
         "yaxis": "y2"
        },
        {
         "line": {
          "color": "black"
         },
         "mode": "lines",
         "showlegend": false,
         "type": "scatter",
         "x": [
          1525,
          1525
         ],
         "xaxis": "x2",
         "y": [
          0,
          3.3910624912377044e-17
         ],
         "yaxis": "y2"
        },
        {
         "line": {
          "color": "black"
         },
         "mode": "lines",
         "showlegend": false,
         "type": "scatter",
         "x": [
          1550,
          1550
         ],
         "xaxis": "x2",
         "y": [
          0,
          6.280369834735101e-17
         ],
         "yaxis": "y2"
        },
        {
         "line": {
          "color": "black"
         },
         "mode": "lines",
         "showlegend": false,
         "type": "scatter",
         "x": [
          1575,
          1575
         ],
         "xaxis": "x2",
         "y": [
          0,
          2.2425797530938404e-17
         ],
         "yaxis": "y2"
        },
        {
         "line": {
          "color": "black"
         },
         "mode": "lines",
         "showlegend": false,
         "type": "scatter",
         "x": [
          1600,
          1600
         ],
         "xaxis": "x2",
         "y": [
          0,
          2.7027395465558653e-17
         ],
         "yaxis": "y2"
        },
        {
         "line": {
          "color": "black"
         },
         "mode": "lines",
         "showlegend": false,
         "type": "scatter",
         "x": [
          1625,
          1625
         ],
         "xaxis": "x2",
         "y": [
          0,
          1.2943834404514555e-17
         ],
         "yaxis": "y2"
        },
        {
         "line": {
          "color": "black"
         },
         "mode": "lines",
         "showlegend": false,
         "type": "scatter",
         "x": [
          1650,
          1650
         ],
         "xaxis": "x2",
         "y": [
          0,
          1.5020117593146322e-17
         ],
         "yaxis": "y2"
        },
        {
         "line": {
          "color": "black"
         },
         "mode": "lines",
         "showlegend": false,
         "type": "scatter",
         "x": [
          1675,
          1675
         ],
         "xaxis": "x2",
         "y": [
          0,
          9.073452325792258e-18
         ],
         "yaxis": "y2"
        },
        {
         "line": {
          "color": "black"
         },
         "mode": "lines",
         "showlegend": false,
         "type": "scatter",
         "x": [
          1700,
          1700
         ],
         "xaxis": "x2",
         "y": [
          0,
          3.5514959117601796e-17
         ],
         "yaxis": "y2"
        },
        {
         "line": {
          "color": "black"
         },
         "mode": "lines",
         "showlegend": false,
         "type": "scatter",
         "x": [
          1725,
          1725
         ],
         "xaxis": "x2",
         "y": [
          0,
          1.236041048121124e-17
         ],
         "yaxis": "y2"
        },
        {
         "line": {
          "color": "black"
         },
         "mode": "lines",
         "showlegend": false,
         "type": "scatter",
         "x": [
          1750,
          1750
         ],
         "xaxis": "x2",
         "y": [
          0,
          2.3644252379734013e-17
         ],
         "yaxis": "y2"
        },
        {
         "line": {
          "color": "black"
         },
         "mode": "lines",
         "showlegend": false,
         "type": "scatter",
         "x": [
          1775,
          1775
         ],
         "xaxis": "x2",
         "y": [
          0,
          5.773371757770808e-19
         ],
         "yaxis": "y2"
        },
        {
         "line": {
          "color": "black"
         },
         "mode": "lines",
         "showlegend": false,
         "type": "scatter",
         "x": [
          1800,
          1800
         ],
         "xaxis": "x2",
         "y": [
          0,
          3.0345469692189555e-17
         ],
         "yaxis": "y2"
        },
        {
         "line": {
          "color": "black"
         },
         "mode": "lines",
         "showlegend": false,
         "type": "scatter",
         "x": [
          1825,
          1825
         ],
         "xaxis": "x2",
         "y": [
          0,
          2.2088313407831946e-17
         ],
         "yaxis": "y2"
        },
        {
         "line": {
          "color": "black"
         },
         "mode": "lines",
         "showlegend": false,
         "type": "scatter",
         "x": [
          1850,
          1850
         ],
         "xaxis": "x2",
         "y": [
          0,
          4.825353762684e-17
         ],
         "yaxis": "y2"
        },
        {
         "line": {
          "color": "black"
         },
         "mode": "lines",
         "showlegend": false,
         "type": "scatter",
         "x": [
          1875,
          1875
         ],
         "xaxis": "x2",
         "y": [
          0,
          2.4620212770346634e-17
         ],
         "yaxis": "y2"
        },
        {
         "line": {
          "color": "black"
         },
         "mode": "lines",
         "showlegend": false,
         "type": "scatter",
         "x": [
          1900,
          1900
         ],
         "xaxis": "x2",
         "y": [
          0,
          2.4777575645446105e-17
         ],
         "yaxis": "y2"
        },
        {
         "line": {
          "color": "black"
         },
         "mode": "lines",
         "showlegend": false,
         "type": "scatter",
         "x": [
          1925,
          1925
         ],
         "xaxis": "x2",
         "y": [
          0,
          1.8389195951203942e-17
         ],
         "yaxis": "y2"
        },
        {
         "line": {
          "color": "black"
         },
         "mode": "lines",
         "showlegend": false,
         "type": "scatter",
         "x": [
          1950,
          1950
         ],
         "xaxis": "x2",
         "y": [
          0,
          2.512174216822696e-17
         ],
         "yaxis": "y2"
        },
        {
         "line": {
          "color": "black"
         },
         "mode": "lines",
         "showlegend": false,
         "type": "scatter",
         "x": [
          1975,
          1975
         ],
         "xaxis": "x2",
         "y": [
          0,
          3.581750273327299e-17
         ],
         "yaxis": "y2"
        },
        {
         "marker": {
          "color": "black",
          "size": 4
         },
         "mode": "markers",
         "showlegend": false,
         "type": "scatter",
         "x": [
          -2000,
          -1975,
          -1950,
          -1925,
          -1900,
          -1875,
          -1850,
          -1825,
          -1800,
          -1775,
          -1750,
          -1725,
          -1700,
          -1675,
          -1650,
          -1625,
          -1600,
          -1575,
          -1550,
          -1525,
          -1500,
          -1475,
          -1450,
          -1425,
          -1400,
          -1375,
          -1350,
          -1325,
          -1300,
          -1275,
          -1250,
          -1225,
          -1200,
          -1175,
          -1150,
          -1125,
          -1100,
          -1075,
          -1050,
          -1025,
          -1000,
          -975,
          -950,
          -925,
          -900,
          -875,
          -850,
          -825,
          -800,
          -775,
          -750,
          -725,
          -700,
          -675,
          -650,
          -625,
          -600,
          -575,
          -550,
          -525,
          -500,
          -475,
          -450,
          -425,
          -400,
          -375,
          -350,
          -325,
          -300,
          -275,
          -250,
          -225,
          -200,
          -175,
          -150,
          -125,
          -100,
          -75,
          -50,
          -25,
          0,
          25,
          50,
          75,
          100,
          125,
          150,
          175,
          200,
          225,
          250,
          275,
          300,
          325,
          350,
          375,
          400,
          425,
          450,
          475,
          500,
          525,
          550,
          575,
          600,
          625,
          650,
          675,
          700,
          725,
          750,
          775,
          800,
          825,
          850,
          875,
          900,
          925,
          950,
          975,
          1000,
          1025,
          1050,
          1075,
          1100,
          1125,
          1150,
          1175,
          1200,
          1225,
          1250,
          1275,
          1300,
          1325,
          1350,
          1375,
          1400,
          1425,
          1450,
          1475,
          1500,
          1525,
          1550,
          1575,
          1600,
          1625,
          1650,
          1675,
          1700,
          1725,
          1750,
          1775,
          1800,
          1825,
          1850,
          1875,
          1900,
          1925,
          1950,
          1975
         ],
         "xaxis": "x2",
         "y": [
          3.281671632540658e-17,
          3.581750273327299e-17,
          1.5700924586837744e-17,
          1.838919595120395e-17,
          2.4777575645446108e-17,
          2.462021277034662e-17,
          4.072722878620036e-17,
          2.2088313407831937e-17,
          3.034546969218954e-17,
          5.773371757770714e-19,
          2.1471138806021153e-17,
          1.236041048121124e-17,
          3.5514959117601796e-17,
          9.073452325792264e-18,
          1.665334536937735e-17,
          1.2943834404514553e-17,
          2.7027395465558653e-17,
          2.2425797530938407e-17,
          2.5021957935171365e-17,
          3.391062491237705e-17,
          3.675863680396514e-17,
          3.39073884590056e-17,
          7.03991686484204e-18,
          1.9314818348032833e-17,
          3.28674177254468e-17,
          3.28375684902155e-17,
          4.273359337956537e-17,
          3.1290760406113006e-17,
          1.097567633852988e-17,
          2.5031139452838466e-17,
          2.818548575529736e-17,
          2.6950443836610317e-17,
          1.1873785847446288e-17,
          2.768669738739083e-17,
          2.6064397315866348e-17,
          8.34894236723239e-18,
          1.1634633718397432e-17,
          4.048400782679337e-17,
          5.801706758271146e-17,
          2.864958842294732e-17,
          2.2353820872360573e-17,
          2.3340411114106276e-17,
          2.167779754565684e-17,
          9.518374675035646e-18,
          2.4461791081820964e-17,
          5.273821948667379e-17,
          4.9960036108132046e-17,
          3.905969326598789e-17,
          1.7023379998350136e-17,
          5.03689693663089e-17,
          8.495142149175737e-18,
          2.5336138264458465e-17,
          2.9142323553080595e-17,
          4.523469834473778e-17,
          5.546534810535808e-17,
          1.2405436991666277e-17,
          5.794519093320877e-17,
          1.1373675015928814e-16,
          9.799763474474936e-17,
          6.546347409870658e-17,
          3.5975166835296713e-17,
          5.64749256717196e-17,
          4.456259913047489e-17,
          4.566434212957105e-17,
          2.5411882165931775e-17,
          3.837338810968711e-17,
          4.088706578551865e-17,
          5.924599090378031e-17,
          4.98570526559629e-17,
          5.4098091061592084e-17,
          4.878950037298193e-17,
          5.025133600444198e-17,
          1.8642473391729715e-17,
          6.938433691434454e-17,
          5.177248896137912e-17,
          2.5752274157298466e-17,
          1.867434426583417e-17,
          3.3662014637626243e-17,
          0.5,
          2.6247970025996566e-17,
          2.6571711811890086e-17,
          2.624797002599657e-17,
          0.5000000000000001,
          3.3662014637626243e-17,
          1.8674344265834168e-17,
          2.5752274157298472e-17,
          5.971078470047829e-17,
          6.938433691434455e-17,
          1.8642473391729712e-17,
          5.025133600444198e-17,
          5.756164273931255e-17,
          5.4098091061592084e-17,
          4.985705265596289e-17,
          5.924599090378032e-17,
          5.3112715256751384e-17,
          3.837338810968711e-17,
          2.5411882165931778e-17,
          4.566434212957105e-17,
          3.977686347455923e-17,
          5.647492567171962e-17,
          3.5975166835296713e-17,
          6.546347409870658e-17,
          9.902015771452775e-17,
          1.1373675015928812e-16,
          5.794519093320876e-17,
          1.2405436991666281e-17,
          4.779818328186999e-17,
          4.523469834473777e-17,
          2.91423235530806e-17,
          2.533613826445846e-17,
          4.9650683064945465e-17,
          5.03689693663089e-17,
          1.7023379998350136e-17,
          3.905969326598789e-17,
          5.0273220592933927e-17,
          5.27382194866738e-17,
          2.4461791081820964e-17,
          9.518374675035637e-18,
          2.6572623745010675e-17,
          2.3340411114106282e-17,
          2.2353820872360582e-17,
          2.864958842294731e-17,
          5.474255194514172e-17,
          4.0484007826793364e-17,
          1.1634633718397435e-17,
          8.348942367232391e-18,
          1.1938124470981842e-17,
          2.768669738739082e-17,
          1.1873785847446288e-17,
          2.695044383661031e-17,
          3.253777177357604e-17,
          2.503113945283846e-17,
          1.0975676338529879e-17,
          3.1290760406113e-17,
          3.65926017239003e-17,
          3.2837568490215496e-17,
          3.28674177254468e-17,
          1.931481834803283e-17,
          1.747858045052938e-17,
          3.390738845900561e-17,
          3.675863680396513e-17,
          3.3910624912377044e-17,
          6.280369834735101e-17,
          2.2425797530938404e-17,
          2.7027395465558653e-17,
          1.2943834404514555e-17,
          1.5020117593146322e-17,
          9.073452325792258e-18,
          3.5514959117601796e-17,
          1.236041048121124e-17,
          2.3644252379734013e-17,
          5.773371757770808e-19,
          3.0345469692189555e-17,
          2.2088313407831946e-17,
          4.825353762684e-17,
          2.4620212770346634e-17,
          2.4777575645446105e-17,
          1.8389195951203942e-17,
          2.512174216822696e-17,
          3.581750273327299e-17
         ],
         "yaxis": "y2"
        },
        {
         "line": {
          "color": "red"
         },
         "mode": "lines+markers",
         "showlegend": false,
         "type": "scatter",
         "x": [
          0,
          0.00025,
          0.0005,
          0.00075,
          0.001,
          0.00125,
          0.0015,
          0.00175,
          0.002,
          0.0022500000000000003,
          0.0025,
          0.00275,
          0.003,
          0.0032500000000000003,
          0.0035,
          0.00375,
          0.004,
          0.00425,
          0.0045000000000000005,
          0.00475,
          0.005,
          0.00525,
          0.0055,
          0.00575,
          0.006,
          0.00625,
          0.006500000000000001,
          0.00675,
          0.007,
          0.00725,
          0.0075,
          0.00775,
          0.008,
          0.00825,
          0.0085,
          0.00875,
          0.009000000000000001,
          0.00925,
          0.0095,
          0.00975,
          0.01,
          0.01025,
          0.0105,
          0.010750000000000001,
          0.011,
          0.01125,
          0.0115,
          0.01175,
          0.012,
          0.01225,
          0.0125,
          0.012750000000000001,
          0.013000000000000001,
          0.01325,
          0.0135,
          0.01375,
          0.014,
          0.01425,
          0.0145,
          0.014750000000000001
         ],
         "xaxis": "x3",
         "y": [
          0.7071067811865476,
          0.7604059656000309,
          0.8090169943749475,
          0.8526401643540923,
          0.8910065241883679,
          0.9238795325112867,
          0.9510565162951536,
          0.9723699203976766,
          0.9876883405951378,
          0.996917333733128,
          1,
          0.996917333733128,
          0.9876883405951377,
          0.9723699203976766,
          0.9510565162951535,
          0.9238795325112867,
          0.8910065241883679,
          0.8526401643540921,
          0.8090169943749473,
          0.7604059656000309,
          0.7071067811865476,
          0.6494480483301835,
          0.5877852522924731,
          0.5224985647159489,
          0.45399049973954664,
          0.3826834323650896,
          0.30901699437494706,
          0.23344536385590547,
          0.15643446504023092,
          0.078459095727845,
          6.123233995736766e-17,
          -0.07845909572784487,
          -0.1564344650402308,
          -0.23344536385590578,
          -0.3090169943749478,
          -0.3826834323650901,
          -0.45399049973954714,
          -0.5224985647159488,
          -0.587785252292473,
          -0.6494480483301835,
          -0.7071067811865475,
          -0.7604059656000312,
          -0.8090169943749477,
          -0.8526401643540924,
          -0.8910065241883678,
          -0.9238795325112867,
          -0.9510565162951535,
          -0.9723699203976766,
          -0.9876883405951378,
          -0.996917333733128,
          -1,
          -0.996917333733128,
          -0.9876883405951377,
          -0.9723699203976766,
          -0.9510565162951536,
          -0.9238795325112866,
          -0.8910065241883679,
          -0.8526401643540921,
          -0.8090169943749475,
          -0.7604059656000307
         ],
         "yaxis": "y3"
        },
        {
         "line": {
          "color": "red"
         },
         "mode": "lines",
         "showlegend": false,
         "type": "scatter",
         "x": [
          -2000.0000000000002,
          -2000.0000000000002
         ],
         "xaxis": "x4",
         "y": [
          0,
          0.011785113019775782
         ],
         "yaxis": "y4"
        },
        {
         "line": {
          "color": "red"
         },
         "mode": "lines",
         "showlegend": false,
         "type": "scatter",
         "x": [
          -1933.3333333333335,
          -1933.3333333333335
         ],
         "xaxis": "x4",
         "y": [
          0,
          0.01180133634783831
         ],
         "yaxis": "y4"
        },
        {
         "line": {
          "color": "red"
         },
         "mode": "lines",
         "showlegend": false,
         "type": "scatter",
         "x": [
          -1866.6666666666667,
          -1866.6666666666667
         ],
         "xaxis": "x4",
         "y": [
          0,
          0.011850230957764524
         ],
         "yaxis": "y4"
        },
        {
         "line": {
          "color": "red"
         },
         "mode": "lines",
         "showlegend": false,
         "type": "scatter",
         "x": [
          -1800.0000000000002,
          -1800.0000000000002
         ],
         "xaxis": "x4",
         "y": [
          0,
          0.011932478377894908
         ],
         "yaxis": "y4"
        },
        {
         "line": {
          "color": "red"
         },
         "mode": "lines",
         "showlegend": false,
         "type": "scatter",
         "x": [
          -1733.3333333333335,
          -1733.3333333333335
         ],
         "xaxis": "x4",
         "y": [
          0,
          0.012049240482673031
         ],
         "yaxis": "y4"
        },
        {
         "line": {
          "color": "red"
         },
         "mode": "lines",
         "showlegend": false,
         "type": "scatter",
         "x": [
          -1666.6666666666667,
          -1666.6666666666667
         ],
         "xaxis": "x4",
         "y": [
          0,
          0.012202200250001457
         ],
         "yaxis": "y4"
        },
        {
         "line": {
          "color": "red"
         },
         "mode": "lines",
         "showlegend": false,
         "type": "scatter",
         "x": [
          -1600,
          -1600
         ],
         "xaxis": "x4",
         "y": [
          0,
          0.012393622546500612
         ],
         "yaxis": "y4"
        },
        {
         "line": {
          "color": "red"
         },
         "mode": "lines",
         "showlegend": false,
         "type": "scatter",
         "x": [
          -1533.3333333333335,
          -1533.3333333333335
         ],
         "xaxis": "x4",
         "y": [
          0,
          0.012626439144160074
         ],
         "yaxis": "y4"
        },
        {
         "line": {
          "color": "red"
         },
         "mode": "lines",
         "showlegend": false,
         "type": "scatter",
         "x": [
          -1466.6666666666667,
          -1466.6666666666667
         ],
         "xaxis": "x4",
         "y": [
          0,
          0.0129043641426555
         ],
         "yaxis": "y4"
        },
        {
         "line": {
          "color": "red"
         },
         "mode": "lines",
         "showlegend": false,
         "type": "scatter",
         "x": [
          -1400,
          -1400
         ],
         "xaxis": "x4",
         "y": [
          0,
          0.01323204869167146
         ],
         "yaxis": "y4"
        },
        {
         "line": {
          "color": "red"
         },
         "mode": "lines",
         "showlegend": false,
         "type": "scatter",
         "x": [
          -1333.3333333333335,
          -1333.3333333333335
         ],
         "xaxis": "x4",
         "y": [
          0,
          0.013615287783677961
         ],
         "yaxis": "y4"
        },
        {
         "line": {
          "color": "red"
         },
         "mode": "lines",
         "showlegend": false,
         "type": "scatter",
         "x": [
          -1266.6666666666667,
          -1266.6666666666667
         ],
         "xaxis": "x4",
         "y": [
          0,
          0.014061297557555228
         ],
         "yaxis": "y4"
        },
        {
         "line": {
          "color": "red"
         },
         "mode": "lines",
         "showlegend": false,
         "type": "scatter",
         "x": [
          -1200,
          -1200
         ],
         "xaxis": "x4",
         "y": [
          0,
          0.014579090045088349
         ],
         "yaxis": "y4"
        },
        {
         "line": {
          "color": "red"
         },
         "mode": "lines",
         "showlegend": false,
         "type": "scatter",
         "x": [
          -1133.3333333333335,
          -1133.3333333333335
         ],
         "xaxis": "x4",
         "y": [
          0,
          0.015179985305693332
         ],
         "yaxis": "y4"
        },
        {
         "line": {
          "color": "red"
         },
         "mode": "lines",
         "showlegend": false,
         "type": "scatter",
         "x": [
          -1066.6666666666667,
          -1066.6666666666667
         ],
         "xaxis": "x4",
         "y": [
          0,
          0.015878321317766442
         ],
         "yaxis": "y4"
        },
        {
         "line": {
          "color": "red"
         },
         "mode": "lines",
         "showlegend": false,
         "type": "scatter",
         "x": [
          -1000.0000000000001,
          -1000.0000000000001
         ],
         "xaxis": "x4",
         "y": [
          0,
          0.016692454876784512
         ],
         "yaxis": "y4"
        },
        {
         "line": {
          "color": "red"
         },
         "mode": "lines",
         "showlegend": false,
         "type": "scatter",
         "x": [
          -933.3333333333334,
          -933.3333333333334
         ],
         "xaxis": "x4",
         "y": [
          0,
          0.017646201201370185
         ],
         "yaxis": "y4"
        },
        {
         "line": {
          "color": "red"
         },
         "mode": "lines",
         "showlegend": false,
         "type": "scatter",
         "x": [
          -866.6666666666667,
          -866.6666666666667
         ],
         "xaxis": "x4",
         "y": [
          0,
          0.01877095300001381
         ],
         "yaxis": "y4"
        },
        {
         "line": {
          "color": "red"
         },
         "mode": "lines",
         "showlegend": false,
         "type": "scatter",
         "x": [
          -800,
          -800
         ],
         "xaxis": "x4",
         "y": [
          0,
          0.020108884538105005
         ],
         "yaxis": "y4"
        },
        {
         "line": {
          "color": "red"
         },
         "mode": "lines",
         "showlegend": false,
         "type": "scatter",
         "x": [
          -733.3333333333334,
          -733.3333333333334
         ],
         "xaxis": "x4",
         "y": [
          0,
          0.021717950247266766
         ],
         "yaxis": "y4"
        },
        {
         "line": {
          "color": "red"
         },
         "mode": "lines",
         "showlegend": false,
         "type": "scatter",
         "x": [
          -666.6666666666667,
          -666.6666666666667
         ],
         "xaxis": "x4",
         "y": [
          0,
          0.023679975516109918
         ],
         "yaxis": "y4"
        },
        {
         "line": {
          "color": "red"
         },
         "mode": "lines",
         "showlegend": false,
         "type": "scatter",
         "x": [
          -600,
          -600
         ],
         "xaxis": "x4",
         "y": [
          0,
          0.026114340427072915
         ],
         "yaxis": "y4"
        },
        {
         "line": {
          "color": "red"
         },
         "mode": "lines",
         "showlegend": false,
         "type": "scatter",
         "x": [
          -533.3333333333334,
          -533.3333333333334
         ],
         "xaxis": "x4",
         "y": [
          0,
          0.029202389191943713
         ],
         "yaxis": "y4"
        },
        {
         "line": {
          "color": "red"
         },
         "mode": "lines",
         "showlegend": false,
         "type": "scatter",
         "x": [
          -466.6666666666667,
          -466.6666666666667
         ],
         "xaxis": "x4",
         "y": [
          0,
          0.033233948303028706
         ],
         "yaxis": "y4"
        },
        {
         "line": {
          "color": "red"
         },
         "mode": "lines",
         "showlegend": false,
         "type": "scatter",
         "x": [
          -400,
          -400
         ],
         "xaxis": "x4",
         "y": [
          0,
          0.038703794017930705
         ],
         "yaxis": "y4"
        },
        {
         "line": {
          "color": "red"
         },
         "mode": "lines",
         "showlegend": false,
         "type": "scatter",
         "x": [
          -333.33333333333337,
          -333.33333333333337
         ],
         "xaxis": "x4",
         "y": [
          0,
          0.04653550221583502
         ],
         "yaxis": "y4"
        },
        {
         "line": {
          "color": "red"
         },
         "mode": "lines",
         "showlegend": false,
         "type": "scatter",
         "x": [
          -266.6666666666667,
          -266.6666666666667
         ],
         "xaxis": "x4",
         "y": [
          0,
          0.058690070019333226
         ],
         "yaxis": "y4"
        },
        {
         "line": {
          "color": "red"
         },
         "mode": "lines",
         "showlegend": false,
         "type": "scatter",
         "x": [
          -200,
          -200
         ],
         "xaxis": "x4",
         "y": [
          0,
          0.08027958443576463
         ],
         "yaxis": "y4"
        },
        {
         "line": {
          "color": "red"
         },
         "mode": "lines",
         "showlegend": false,
         "type": "scatter",
         "x": [
          -133.33333333333334,
          -133.33333333333334
         ],
         "xaxis": "x4",
         "y": [
          0,
          0.13107417943204333
         ],
         "yaxis": "y4"
        },
        {
         "line": {
          "color": "red"
         },
         "mode": "lines",
         "showlegend": false,
         "type": "scatter",
         "x": [
          -66.66666666666667,
          -66.66666666666667
         ],
         "xaxis": "x4",
         "y": [
          0,
          0.5143956959501264
         ],
         "yaxis": "y4"
        },
        {
         "line": {
          "color": "red"
         },
         "mode": "lines",
         "showlegend": false,
         "type": "scatter",
         "x": [
          0,
          0
         ],
         "xaxis": "x4",
         "y": [
          0,
          0.01178511301977577
         ],
         "yaxis": "y4"
        },
        {
         "line": {
          "color": "red"
         },
         "mode": "lines",
         "showlegend": false,
         "type": "scatter",
         "x": [
          66.66666666666667,
          66.66666666666667
         ],
         "xaxis": "x4",
         "y": [
          0,
          0.5143956959501264
         ],
         "yaxis": "y4"
        },
        {
         "line": {
          "color": "red"
         },
         "mode": "lines",
         "showlegend": false,
         "type": "scatter",
         "x": [
          133.33333333333334,
          133.33333333333334
         ],
         "xaxis": "x4",
         "y": [
          0,
          0.13107417943204336
         ],
         "yaxis": "y4"
        },
        {
         "line": {
          "color": "red"
         },
         "mode": "lines",
         "showlegend": false,
         "type": "scatter",
         "x": [
          200,
          200
         ],
         "xaxis": "x4",
         "y": [
          0,
          0.08027958443576462
         ],
         "yaxis": "y4"
        },
        {
         "line": {
          "color": "red"
         },
         "mode": "lines",
         "showlegend": false,
         "type": "scatter",
         "x": [
          266.6666666666667,
          266.6666666666667
         ],
         "xaxis": "x4",
         "y": [
          0,
          0.05869007001933322
         ],
         "yaxis": "y4"
        },
        {
         "line": {
          "color": "red"
         },
         "mode": "lines",
         "showlegend": false,
         "type": "scatter",
         "x": [
          333.33333333333337,
          333.33333333333337
         ],
         "xaxis": "x4",
         "y": [
          0,
          0.046535502215835016
         ],
         "yaxis": "y4"
        },
        {
         "line": {
          "color": "red"
         },
         "mode": "lines",
         "showlegend": false,
         "type": "scatter",
         "x": [
          400,
          400
         ],
         "xaxis": "x4",
         "y": [
          0,
          0.03870379401793069
         ],
         "yaxis": "y4"
        },
        {
         "line": {
          "color": "red"
         },
         "mode": "lines",
         "showlegend": false,
         "type": "scatter",
         "x": [
          466.6666666666667,
          466.6666666666667
         ],
         "xaxis": "x4",
         "y": [
          0,
          0.033233948303028726
         ],
         "yaxis": "y4"
        },
        {
         "line": {
          "color": "red"
         },
         "mode": "lines",
         "showlegend": false,
         "type": "scatter",
         "x": [
          533.3333333333334,
          533.3333333333334
         ],
         "xaxis": "x4",
         "y": [
          0,
          0.029202389191943724
         ],
         "yaxis": "y4"
        },
        {
         "line": {
          "color": "red"
         },
         "mode": "lines",
         "showlegend": false,
         "type": "scatter",
         "x": [
          600,
          600
         ],
         "xaxis": "x4",
         "y": [
          0,
          0.026114340427072936
         ],
         "yaxis": "y4"
        },
        {
         "line": {
          "color": "red"
         },
         "mode": "lines",
         "showlegend": false,
         "type": "scatter",
         "x": [
          666.6666666666667,
          666.6666666666667
         ],
         "xaxis": "x4",
         "y": [
          0,
          0.02367997551610991
         ],
         "yaxis": "y4"
        },
        {
         "line": {
          "color": "red"
         },
         "mode": "lines",
         "showlegend": false,
         "type": "scatter",
         "x": [
          733.3333333333334,
          733.3333333333334
         ],
         "xaxis": "x4",
         "y": [
          0,
          0.02171795024726678
         ],
         "yaxis": "y4"
        },
        {
         "line": {
          "color": "red"
         },
         "mode": "lines",
         "showlegend": false,
         "type": "scatter",
         "x": [
          800,
          800
         ],
         "xaxis": "x4",
         "y": [
          0,
          0.020108884538105005
         ],
         "yaxis": "y4"
        },
        {
         "line": {
          "color": "red"
         },
         "mode": "lines",
         "showlegend": false,
         "type": "scatter",
         "x": [
          866.6666666666667,
          866.6666666666667
         ],
         "xaxis": "x4",
         "y": [
          0,
          0.01877095300001379
         ],
         "yaxis": "y4"
        },
        {
         "line": {
          "color": "red"
         },
         "mode": "lines",
         "showlegend": false,
         "type": "scatter",
         "x": [
          933.3333333333334,
          933.3333333333334
         ],
         "xaxis": "x4",
         "y": [
          0,
          0.017646201201370174
         ],
         "yaxis": "y4"
        },
        {
         "line": {
          "color": "red"
         },
         "mode": "lines",
         "showlegend": false,
         "type": "scatter",
         "x": [
          1000.0000000000001,
          1000.0000000000001
         ],
         "xaxis": "x4",
         "y": [
          0,
          0.0166924548767845
         ],
         "yaxis": "y4"
        },
        {
         "line": {
          "color": "red"
         },
         "mode": "lines",
         "showlegend": false,
         "type": "scatter",
         "x": [
          1066.6666666666667,
          1066.6666666666667
         ],
         "xaxis": "x4",
         "y": [
          0,
          0.015878321317766435
         ],
         "yaxis": "y4"
        },
        {
         "line": {
          "color": "red"
         },
         "mode": "lines",
         "showlegend": false,
         "type": "scatter",
         "x": [
          1133.3333333333335,
          1133.3333333333335
         ],
         "xaxis": "x4",
         "y": [
          0,
          0.015179985305693333
         ],
         "yaxis": "y4"
        },
        {
         "line": {
          "color": "red"
         },
         "mode": "lines",
         "showlegend": false,
         "type": "scatter",
         "x": [
          1200,
          1200
         ],
         "xaxis": "x4",
         "y": [
          0,
          0.014579090045088346
         ],
         "yaxis": "y4"
        },
        {
         "line": {
          "color": "red"
         },
         "mode": "lines",
         "showlegend": false,
         "type": "scatter",
         "x": [
          1266.6666666666667,
          1266.6666666666667
         ],
         "xaxis": "x4",
         "y": [
          0,
          0.014061297557555223
         ],
         "yaxis": "y4"
        },
        {
         "line": {
          "color": "red"
         },
         "mode": "lines",
         "showlegend": false,
         "type": "scatter",
         "x": [
          1333.3333333333335,
          1333.3333333333335
         ],
         "xaxis": "x4",
         "y": [
          0,
          0.013615287783677961
         ],
         "yaxis": "y4"
        },
        {
         "line": {
          "color": "red"
         },
         "mode": "lines",
         "showlegend": false,
         "type": "scatter",
         "x": [
          1400,
          1400
         ],
         "xaxis": "x4",
         "y": [
          0,
          0.013232048691671437
         ],
         "yaxis": "y4"
        },
        {
         "line": {
          "color": "red"
         },
         "mode": "lines",
         "showlegend": false,
         "type": "scatter",
         "x": [
          1466.6666666666667,
          1466.6666666666667
         ],
         "xaxis": "x4",
         "y": [
          0,
          0.012904364142655507
         ],
         "yaxis": "y4"
        },
        {
         "line": {
          "color": "red"
         },
         "mode": "lines",
         "showlegend": false,
         "type": "scatter",
         "x": [
          1533.3333333333335,
          1533.3333333333335
         ],
         "xaxis": "x4",
         "y": [
          0,
          0.012626439144160057
         ],
         "yaxis": "y4"
        },
        {
         "line": {
          "color": "red"
         },
         "mode": "lines",
         "showlegend": false,
         "type": "scatter",
         "x": [
          1600,
          1600
         ],
         "xaxis": "x4",
         "y": [
          0,
          0.012393622546500612
         ],
         "yaxis": "y4"
        },
        {
         "line": {
          "color": "red"
         },
         "mode": "lines",
         "showlegend": false,
         "type": "scatter",
         "x": [
          1666.6666666666667,
          1666.6666666666667
         ],
         "xaxis": "x4",
         "y": [
          0,
          0.012202200250001455
         ],
         "yaxis": "y4"
        },
        {
         "line": {
          "color": "red"
         },
         "mode": "lines",
         "showlegend": false,
         "type": "scatter",
         "x": [
          1733.3333333333335,
          1733.3333333333335
         ],
         "xaxis": "x4",
         "y": [
          0,
          0.012049240482673036
         ],
         "yaxis": "y4"
        },
        {
         "line": {
          "color": "red"
         },
         "mode": "lines",
         "showlegend": false,
         "type": "scatter",
         "x": [
          1800.0000000000002,
          1800.0000000000002
         ],
         "xaxis": "x4",
         "y": [
          0,
          0.011932478377894906
         ],
         "yaxis": "y4"
        },
        {
         "line": {
          "color": "red"
         },
         "mode": "lines",
         "showlegend": false,
         "type": "scatter",
         "x": [
          1866.6666666666667,
          1866.6666666666667
         ],
         "xaxis": "x4",
         "y": [
          0,
          0.011850230957764524
         ],
         "yaxis": "y4"
        },
        {
         "line": {
          "color": "red"
         },
         "mode": "lines",
         "showlegend": false,
         "type": "scatter",
         "x": [
          1933.3333333333335,
          1933.3333333333335
         ],
         "xaxis": "x4",
         "y": [
          0,
          0.011801336347838313
         ],
         "yaxis": "y4"
        },
        {
         "marker": {
          "color": "red",
          "size": 4
         },
         "mode": "markers",
         "showlegend": false,
         "type": "scatter",
         "x": [
          -2000.0000000000002,
          -1933.3333333333335,
          -1866.6666666666667,
          -1800.0000000000002,
          -1733.3333333333335,
          -1666.6666666666667,
          -1600,
          -1533.3333333333335,
          -1466.6666666666667,
          -1400,
          -1333.3333333333335,
          -1266.6666666666667,
          -1200,
          -1133.3333333333335,
          -1066.6666666666667,
          -1000.0000000000001,
          -933.3333333333334,
          -866.6666666666667,
          -800,
          -733.3333333333334,
          -666.6666666666667,
          -600,
          -533.3333333333334,
          -466.6666666666667,
          -400,
          -333.33333333333337,
          -266.6666666666667,
          -200,
          -133.33333333333334,
          -66.66666666666667,
          0,
          66.66666666666667,
          133.33333333333334,
          200,
          266.6666666666667,
          333.33333333333337,
          400,
          466.6666666666667,
          533.3333333333334,
          600,
          666.6666666666667,
          733.3333333333334,
          800,
          866.6666666666667,
          933.3333333333334,
          1000.0000000000001,
          1066.6666666666667,
          1133.3333333333335,
          1200,
          1266.6666666666667,
          1333.3333333333335,
          1400,
          1466.6666666666667,
          1533.3333333333335,
          1600,
          1666.6666666666667,
          1733.3333333333335,
          1800.0000000000002,
          1866.6666666666667,
          1933.3333333333335
         ],
         "xaxis": "x4",
         "y": [
          0.011785113019775782,
          0.01180133634783831,
          0.011850230957764524,
          0.011932478377894908,
          0.012049240482673031,
          0.012202200250001457,
          0.012393622546500612,
          0.012626439144160074,
          0.0129043641426555,
          0.01323204869167146,
          0.013615287783677961,
          0.014061297557555228,
          0.014579090045088349,
          0.015179985305693332,
          0.015878321317766442,
          0.016692454876784512,
          0.017646201201370185,
          0.01877095300001381,
          0.020108884538105005,
          0.021717950247266766,
          0.023679975516109918,
          0.026114340427072915,
          0.029202389191943713,
          0.033233948303028706,
          0.038703794017930705,
          0.04653550221583502,
          0.058690070019333226,
          0.08027958443576463,
          0.13107417943204333,
          0.5143956959501264,
          0.01178511301977577,
          0.5143956959501264,
          0.13107417943204336,
          0.08027958443576462,
          0.05869007001933322,
          0.046535502215835016,
          0.03870379401793069,
          0.033233948303028726,
          0.029202389191943724,
          0.026114340427072936,
          0.02367997551610991,
          0.02171795024726678,
          0.020108884538105005,
          0.01877095300001379,
          0.017646201201370174,
          0.0166924548767845,
          0.015878321317766435,
          0.015179985305693333,
          0.014579090045088346,
          0.014061297557555223,
          0.013615287783677961,
          0.013232048691671437,
          0.012904364142655507,
          0.012626439144160057,
          0.012393622546500612,
          0.012202200250001455,
          0.012049240482673036,
          0.011932478377894906,
          0.011850230957764524,
          0.011801336347838313
         ],
         "yaxis": "y4"
        }
       ],
       "layout": {
        "annotations": [
         {
          "font": {
           "size": 16
          },
          "showarrow": false,
          "text": "Full-period samples",
          "x": 0.225,
          "xanchor": "center",
          "xref": "paper",
          "y": 1,
          "yanchor": "bottom",
          "yref": "paper"
         },
         {
          "font": {
           "size": 16
          },
          "showarrow": false,
          "text": "DFT Spectrum",
          "x": 0.775,
          "xanchor": "center",
          "xref": "paper",
          "y": 1,
          "yanchor": "bottom",
          "yref": "paper"
         },
         {
          "font": {
           "size": 16
          },
          "showarrow": false,
          "text": "Not full-period samples",
          "x": 0.225,
          "xanchor": "center",
          "xref": "paper",
          "y": 0.375,
          "yanchor": "bottom",
          "yref": "paper"
         },
         {
          "font": {
           "size": 16
          },
          "showarrow": false,
          "text": "DFT Spectrum",
          "x": 0.775,
          "xanchor": "center",
          "xref": "paper",
          "y": 0.375,
          "yanchor": "bottom",
          "yref": "paper"
         }
        ],
        "template": {
         "data": {
          "bar": [
           {
            "error_x": {
             "color": "#2a3f5f"
            },
            "error_y": {
             "color": "#2a3f5f"
            },
            "marker": {
             "line": {
              "color": "#E5ECF6",
              "width": 0.5
             },
             "pattern": {
              "fillmode": "overlay",
              "size": 10,
              "solidity": 0.2
             }
            },
            "type": "bar"
           }
          ],
          "barpolar": [
           {
            "marker": {
             "line": {
              "color": "#E5ECF6",
              "width": 0.5
             },
             "pattern": {
              "fillmode": "overlay",
              "size": 10,
              "solidity": 0.2
             }
            },
            "type": "barpolar"
           }
          ],
          "carpet": [
           {
            "aaxis": {
             "endlinecolor": "#2a3f5f",
             "gridcolor": "white",
             "linecolor": "white",
             "minorgridcolor": "white",
             "startlinecolor": "#2a3f5f"
            },
            "baxis": {
             "endlinecolor": "#2a3f5f",
             "gridcolor": "white",
             "linecolor": "white",
             "minorgridcolor": "white",
             "startlinecolor": "#2a3f5f"
            },
            "type": "carpet"
           }
          ],
          "choropleth": [
           {
            "colorbar": {
             "outlinewidth": 0,
             "ticks": ""
            },
            "type": "choropleth"
           }
          ],
          "contour": [
           {
            "colorbar": {
             "outlinewidth": 0,
             "ticks": ""
            },
            "colorscale": [
             [
              0,
              "#0d0887"
             ],
             [
              0.1111111111111111,
              "#46039f"
             ],
             [
              0.2222222222222222,
              "#7201a8"
             ],
             [
              0.3333333333333333,
              "#9c179e"
             ],
             [
              0.4444444444444444,
              "#bd3786"
             ],
             [
              0.5555555555555556,
              "#d8576b"
             ],
             [
              0.6666666666666666,
              "#ed7953"
             ],
             [
              0.7777777777777778,
              "#fb9f3a"
             ],
             [
              0.8888888888888888,
              "#fdca26"
             ],
             [
              1,
              "#f0f921"
             ]
            ],
            "type": "contour"
           }
          ],
          "contourcarpet": [
           {
            "colorbar": {
             "outlinewidth": 0,
             "ticks": ""
            },
            "type": "contourcarpet"
           }
          ],
          "heatmap": [
           {
            "colorbar": {
             "outlinewidth": 0,
             "ticks": ""
            },
            "colorscale": [
             [
              0,
              "#0d0887"
             ],
             [
              0.1111111111111111,
              "#46039f"
             ],
             [
              0.2222222222222222,
              "#7201a8"
             ],
             [
              0.3333333333333333,
              "#9c179e"
             ],
             [
              0.4444444444444444,
              "#bd3786"
             ],
             [
              0.5555555555555556,
              "#d8576b"
             ],
             [
              0.6666666666666666,
              "#ed7953"
             ],
             [
              0.7777777777777778,
              "#fb9f3a"
             ],
             [
              0.8888888888888888,
              "#fdca26"
             ],
             [
              1,
              "#f0f921"
             ]
            ],
            "type": "heatmap"
           }
          ],
          "heatmapgl": [
           {
            "colorbar": {
             "outlinewidth": 0,
             "ticks": ""
            },
            "colorscale": [
             [
              0,
              "#0d0887"
             ],
             [
              0.1111111111111111,
              "#46039f"
             ],
             [
              0.2222222222222222,
              "#7201a8"
             ],
             [
              0.3333333333333333,
              "#9c179e"
             ],
             [
              0.4444444444444444,
              "#bd3786"
             ],
             [
              0.5555555555555556,
              "#d8576b"
             ],
             [
              0.6666666666666666,
              "#ed7953"
             ],
             [
              0.7777777777777778,
              "#fb9f3a"
             ],
             [
              0.8888888888888888,
              "#fdca26"
             ],
             [
              1,
              "#f0f921"
             ]
            ],
            "type": "heatmapgl"
           }
          ],
          "histogram": [
           {
            "marker": {
             "pattern": {
              "fillmode": "overlay",
              "size": 10,
              "solidity": 0.2
             }
            },
            "type": "histogram"
           }
          ],
          "histogram2d": [
           {
            "colorbar": {
             "outlinewidth": 0,
             "ticks": ""
            },
            "colorscale": [
             [
              0,
              "#0d0887"
             ],
             [
              0.1111111111111111,
              "#46039f"
             ],
             [
              0.2222222222222222,
              "#7201a8"
             ],
             [
              0.3333333333333333,
              "#9c179e"
             ],
             [
              0.4444444444444444,
              "#bd3786"
             ],
             [
              0.5555555555555556,
              "#d8576b"
             ],
             [
              0.6666666666666666,
              "#ed7953"
             ],
             [
              0.7777777777777778,
              "#fb9f3a"
             ],
             [
              0.8888888888888888,
              "#fdca26"
             ],
             [
              1,
              "#f0f921"
             ]
            ],
            "type": "histogram2d"
           }
          ],
          "histogram2dcontour": [
           {
            "colorbar": {
             "outlinewidth": 0,
             "ticks": ""
            },
            "colorscale": [
             [
              0,
              "#0d0887"
             ],
             [
              0.1111111111111111,
              "#46039f"
             ],
             [
              0.2222222222222222,
              "#7201a8"
             ],
             [
              0.3333333333333333,
              "#9c179e"
             ],
             [
              0.4444444444444444,
              "#bd3786"
             ],
             [
              0.5555555555555556,
              "#d8576b"
             ],
             [
              0.6666666666666666,
              "#ed7953"
             ],
             [
              0.7777777777777778,
              "#fb9f3a"
             ],
             [
              0.8888888888888888,
              "#fdca26"
             ],
             [
              1,
              "#f0f921"
             ]
            ],
            "type": "histogram2dcontour"
           }
          ],
          "mesh3d": [
           {
            "colorbar": {
             "outlinewidth": 0,
             "ticks": ""
            },
            "type": "mesh3d"
           }
          ],
          "parcoords": [
           {
            "line": {
             "colorbar": {
              "outlinewidth": 0,
              "ticks": ""
             }
            },
            "type": "parcoords"
           }
          ],
          "pie": [
           {
            "automargin": true,
            "type": "pie"
           }
          ],
          "scatter": [
           {
            "fillpattern": {
             "fillmode": "overlay",
             "size": 10,
             "solidity": 0.2
            },
            "type": "scatter"
           }
          ],
          "scatter3d": [
           {
            "line": {
             "colorbar": {
              "outlinewidth": 0,
              "ticks": ""
             }
            },
            "marker": {
             "colorbar": {
              "outlinewidth": 0,
              "ticks": ""
             }
            },
            "type": "scatter3d"
           }
          ],
          "scattercarpet": [
           {
            "marker": {
             "colorbar": {
              "outlinewidth": 0,
              "ticks": ""
             }
            },
            "type": "scattercarpet"
           }
          ],
          "scattergeo": [
           {
            "marker": {
             "colorbar": {
              "outlinewidth": 0,
              "ticks": ""
             }
            },
            "type": "scattergeo"
           }
          ],
          "scattergl": [
           {
            "marker": {
             "colorbar": {
              "outlinewidth": 0,
              "ticks": ""
             }
            },
            "type": "scattergl"
           }
          ],
          "scattermapbox": [
           {
            "marker": {
             "colorbar": {
              "outlinewidth": 0,
              "ticks": ""
             }
            },
            "type": "scattermapbox"
           }
          ],
          "scatterpolar": [
           {
            "marker": {
             "colorbar": {
              "outlinewidth": 0,
              "ticks": ""
             }
            },
            "type": "scatterpolar"
           }
          ],
          "scatterpolargl": [
           {
            "marker": {
             "colorbar": {
              "outlinewidth": 0,
              "ticks": ""
             }
            },
            "type": "scatterpolargl"
           }
          ],
          "scatterternary": [
           {
            "marker": {
             "colorbar": {
              "outlinewidth": 0,
              "ticks": ""
             }
            },
            "type": "scatterternary"
           }
          ],
          "surface": [
           {
            "colorbar": {
             "outlinewidth": 0,
             "ticks": ""
            },
            "colorscale": [
             [
              0,
              "#0d0887"
             ],
             [
              0.1111111111111111,
              "#46039f"
             ],
             [
              0.2222222222222222,
              "#7201a8"
             ],
             [
              0.3333333333333333,
              "#9c179e"
             ],
             [
              0.4444444444444444,
              "#bd3786"
             ],
             [
              0.5555555555555556,
              "#d8576b"
             ],
             [
              0.6666666666666666,
              "#ed7953"
             ],
             [
              0.7777777777777778,
              "#fb9f3a"
             ],
             [
              0.8888888888888888,
              "#fdca26"
             ],
             [
              1,
              "#f0f921"
             ]
            ],
            "type": "surface"
           }
          ],
          "table": [
           {
            "cells": {
             "fill": {
              "color": "#EBF0F8"
             },
             "line": {
              "color": "white"
             }
            },
            "header": {
             "fill": {
              "color": "#C8D4E3"
             },
             "line": {
              "color": "white"
             }
            },
            "type": "table"
           }
          ]
         },
         "layout": {
          "annotationdefaults": {
           "arrowcolor": "#2a3f5f",
           "arrowhead": 0,
           "arrowwidth": 1
          },
          "autotypenumbers": "strict",
          "coloraxis": {
           "colorbar": {
            "outlinewidth": 0,
            "ticks": ""
           }
          },
          "colorscale": {
           "diverging": [
            [
             0,
             "#8e0152"
            ],
            [
             0.1,
             "#c51b7d"
            ],
            [
             0.2,
             "#de77ae"
            ],
            [
             0.3,
             "#f1b6da"
            ],
            [
             0.4,
             "#fde0ef"
            ],
            [
             0.5,
             "#f7f7f7"
            ],
            [
             0.6,
             "#e6f5d0"
            ],
            [
             0.7,
             "#b8e186"
            ],
            [
             0.8,
             "#7fbc41"
            ],
            [
             0.9,
             "#4d9221"
            ],
            [
             1,
             "#276419"
            ]
           ],
           "sequential": [
            [
             0,
             "#0d0887"
            ],
            [
             0.1111111111111111,
             "#46039f"
            ],
            [
             0.2222222222222222,
             "#7201a8"
            ],
            [
             0.3333333333333333,
             "#9c179e"
            ],
            [
             0.4444444444444444,
             "#bd3786"
            ],
            [
             0.5555555555555556,
             "#d8576b"
            ],
            [
             0.6666666666666666,
             "#ed7953"
            ],
            [
             0.7777777777777778,
             "#fb9f3a"
            ],
            [
             0.8888888888888888,
             "#fdca26"
            ],
            [
             1,
             "#f0f921"
            ]
           ],
           "sequentialminus": [
            [
             0,
             "#0d0887"
            ],
            [
             0.1111111111111111,
             "#46039f"
            ],
            [
             0.2222222222222222,
             "#7201a8"
            ],
            [
             0.3333333333333333,
             "#9c179e"
            ],
            [
             0.4444444444444444,
             "#bd3786"
            ],
            [
             0.5555555555555556,
             "#d8576b"
            ],
            [
             0.6666666666666666,
             "#ed7953"
            ],
            [
             0.7777777777777778,
             "#fb9f3a"
            ],
            [
             0.8888888888888888,
             "#fdca26"
            ],
            [
             1,
             "#f0f921"
            ]
           ]
          },
          "colorway": [
           "#636efa",
           "#EF553B",
           "#00cc96",
           "#ab63fa",
           "#FFA15A",
           "#19d3f3",
           "#FF6692",
           "#B6E880",
           "#FF97FF",
           "#FECB52"
          ],
          "font": {
           "color": "#2a3f5f"
          },
          "geo": {
           "bgcolor": "white",
           "lakecolor": "white",
           "landcolor": "#E5ECF6",
           "showlakes": true,
           "showland": true,
           "subunitcolor": "white"
          },
          "hoverlabel": {
           "align": "left"
          },
          "hovermode": "closest",
          "mapbox": {
           "style": "light"
          },
          "paper_bgcolor": "white",
          "plot_bgcolor": "#E5ECF6",
          "polar": {
           "angularaxis": {
            "gridcolor": "white",
            "linecolor": "white",
            "ticks": ""
           },
           "bgcolor": "#E5ECF6",
           "radialaxis": {
            "gridcolor": "white",
            "linecolor": "white",
            "ticks": ""
           }
          },
          "scene": {
           "xaxis": {
            "backgroundcolor": "#E5ECF6",
            "gridcolor": "white",
            "gridwidth": 2,
            "linecolor": "white",
            "showbackground": true,
            "ticks": "",
            "zerolinecolor": "white"
           },
           "yaxis": {
            "backgroundcolor": "#E5ECF6",
            "gridcolor": "white",
            "gridwidth": 2,
            "linecolor": "white",
            "showbackground": true,
            "ticks": "",
            "zerolinecolor": "white"
           },
           "zaxis": {
            "backgroundcolor": "#E5ECF6",
            "gridcolor": "white",
            "gridwidth": 2,
            "linecolor": "white",
            "showbackground": true,
            "ticks": "",
            "zerolinecolor": "white"
           }
          },
          "shapedefaults": {
           "line": {
            "color": "#2a3f5f"
           }
          },
          "ternary": {
           "aaxis": {
            "gridcolor": "white",
            "linecolor": "white",
            "ticks": ""
           },
           "baxis": {
            "gridcolor": "white",
            "linecolor": "white",
            "ticks": ""
           },
           "bgcolor": "#E5ECF6",
           "caxis": {
            "gridcolor": "white",
            "linecolor": "white",
            "ticks": ""
           }
          },
          "title": {
           "x": 0.05
          },
          "xaxis": {
           "automargin": true,
           "gridcolor": "white",
           "linecolor": "white",
           "ticks": "",
           "title": {
            "standoff": 15
           },
           "zerolinecolor": "white",
           "zerolinewidth": 2
          },
          "yaxis": {
           "automargin": true,
           "gridcolor": "white",
           "linecolor": "white",
           "ticks": "",
           "title": {
            "standoff": 15
           },
           "zerolinecolor": "white",
           "zerolinewidth": 2
          }
         }
        },
        "xaxis": {
         "anchor": "y",
         "domain": [
          0,
          0.45
         ],
         "range": [
          0,
          0.02
         ],
         "title": {
          "text": "Time, s"
         }
        },
        "xaxis2": {
         "anchor": "y2",
         "domain": [
          0.55,
          1
         ],
         "title": {
          "text": "Frequency, Hz"
         }
        },
        "xaxis3": {
         "anchor": "y3",
         "domain": [
          0,
          0.45
         ],
         "range": [
          0,
          0.02
         ],
         "title": {
          "text": "Time, s"
         }
        },
        "xaxis4": {
         "anchor": "y4",
         "domain": [
          0.55,
          1
         ],
         "title": {
          "text": "Frequency, Hz"
         }
        },
        "yaxis": {
         "anchor": "x",
         "domain": [
          0.625,
          1
         ],
         "range": [
          -1.1,
          1.1
         ],
         "title": {
          "text": "Magnitude (linear)"
         }
        },
        "yaxis2": {
         "anchor": "x2",
         "domain": [
          0.625,
          1
         ],
         "title": {
          "text": "Magnitude (linear)"
         }
        },
        "yaxis3": {
         "anchor": "x3",
         "domain": [
          0,
          0.375
         ],
         "range": [
          -1.1,
          1.1
         ],
         "title": {
          "text": "Magnitude (linear)"
         }
        },
        "yaxis4": {
         "anchor": "x4",
         "domain": [
          0,
          0.375
         ],
         "title": {
          "text": "Magnitude (linear)"
         }
        }
       }
      }
     },
     "metadata": {},
     "output_type": "display_data"
    }
   ],
   "source": [
    "import numpy as np\n",
    "import plotly.graph_objects as go\n",
    "from plotly.subplots import make_subplots\n",
    "from math import pi\n",
    "\n",
    "np.random.seed(42)\n",
    "\n",
    "def get_periodic(A, f1, p, fs, t1, t2):\n",
    "    Ts = 1 / fs\n",
    "    time = np.arange(t1, t2, Ts)  # seconds\n",
    "    periodic = [A * np.cos(2 * pi * f1 * t - p) for t in time]\n",
    "    return periodic, time\n",
    "\n",
    "fs = 4000  # Hz\n",
    "t1 = 0\n",
    "t2 = 20e-3\n",
    "\n",
    "A = 1\n",
    "f1 = 50\n",
    "p = pi/4\n",
    "signal1, time1 = get_periodic(A,f1,p,fs,t1,t2=40e-3)\n",
    "signal2, time2 = get_periodic(A,f1,p,fs,t1,t2=15e-3)\n",
    "\n",
    "def get_spectrum(signal, fs):\n",
    "    N = len(signal)\n",
    "    res = np.fft.fft(signal,N) / N # complex\n",
    "    freqs = np.fft.fftfreq(len(signal),1/fs)\n",
    "    res = np.fft.fftshift(res)#[N//2:] * 2\n",
    "    freqs = np.fft.fftshift(freqs)#[N//2:]\n",
    "    mags = np.abs(res)\n",
    "    return mags, freqs\n",
    "\n",
    "mags1, freqs1 = get_spectrum(signal1, fs)\n",
    "mags2, freqs2 = get_spectrum(signal2, fs)\n",
    "\n",
    "fig = make_subplots(rows=2, cols=2, subplot_titles=(\"Full-period samples\", \"DFT Spectrum\", \"Not full-period samples\", \"DFT Spectrum\"))\n",
    "# Full-period samples\n",
    "fig.add_trace(go.Scatter(x=time1, y=signal1,showlegend=False, mode=\"lines+markers\", line=dict(color=\"black\")),row=1,col=1)\n",
    "for i in range(len(freqs1)):\n",
    "    fig.add_trace(go.Scatter(x=[freqs1[i],freqs1[i]],y=[0,mags1[i]],mode=\"lines\",line=dict(color=\"black\"),showlegend=False),row=1,col=2)\n",
    "fig.add_trace(go.Scatter(x=freqs1,y=mags1,showlegend=False,mode=\"markers\",marker=dict(color=\"black\", size=4)), row=1,col=2)\n",
    "# Not full-period samples\n",
    "fig.add_trace(go.Scatter(x=time2, y=signal2,showlegend=False, mode=\"lines+markers\", line=dict(color=\"red\")),row=2,col=1)\n",
    "for i in range(len(freqs2)):\n",
    "    fig.add_trace(go.Scatter(x=[freqs2[i],freqs2[i]],y=[0,mags2[i]],mode=\"lines\",line=dict(color=\"red\"),showlegend=False,),row=2,col=2)\n",
    "fig.add_trace(go.Scatter(x=freqs2,y=mags2,showlegend=False,mode=\"markers\",marker=dict(color=\"red\", size=4)), row=2,col=2)\n",
    "\n",
    "# Update xaxis properties\n",
    "fig.update_xaxes(title_text=\"Time, s\", range=[0, 0.020], row=1, col=1)\n",
    "fig.update_xaxes(title_text=\"Frequency, Hz\", row=1, col=2)\n",
    "fig.update_xaxes(title_text=\"Time, s\", range=[0, 0.020], row=2, col=1)\n",
    "fig.update_xaxes(title_text=\"Frequency, Hz\", row=2, col=2)\n",
    "\n",
    "# Update yaxis properties\n",
    "fig.update_yaxes(title_text=\"Magnitude (linear)\", range=[-1.1, 1.1], row=1, col=1)\n",
    "fig.update_yaxes(title_text=\"Magnitude (linear)\", row=1, col=2)\n",
    "fig.update_yaxes(title_text=\"Magnitude (linear)\", range=[-1.1, 1.1], row=2, col=1)\n",
    "fig.update_yaxes(title_text=\"Magnitude (linear)\", row=2, col=2)\n",
    "\n",
    "fig.show()\n"
   ]
  },
  {
   "cell_type": "code",
   "execution_count": 22,
   "metadata": {},
   "outputs": [
    {
     "data": {
      "text/plain": [
       "0.7853981633974483"
      ]
     },
     "execution_count": 22,
     "metadata": {},
     "output_type": "execute_result"
    }
   ],
   "source": [
    "p"
   ]
  },
  {
   "cell_type": "code",
   "execution_count": null,
   "metadata": {},
   "outputs": [],
   "source": []
  }
 ],
 "metadata": {
  "kernelspec": {
   "display_name": "base",
   "language": "python",
   "name": "python3"
  },
  "language_info": {
   "codemirror_mode": {
    "name": "ipython",
    "version": 3
   },
   "file_extension": ".py",
   "mimetype": "text/x-python",
   "name": "python",
   "nbconvert_exporter": "python",
   "pygments_lexer": "ipython3",
   "version": "3.12.4"
  }
 },
 "nbformat": 4,
 "nbformat_minor": 2
}
